{
  "nbformat": 4,
  "nbformat_minor": 0,
  "metadata": {
    "colab": {
      "provenance": [],
      "authorship_tag": "ABX9TyPZunSSlmDij/QVrbWA8goU",
      "include_colab_link": true
    },
    "kernelspec": {
      "name": "python3",
      "display_name": "Python 3"
    },
    "language_info": {
      "name": "python"
    }
  },
  "cells": [
    {
      "cell_type": "markdown",
      "metadata": {
        "id": "view-in-github",
        "colab_type": "text"
      },
      "source": [
        "<a href=\"https://colab.research.google.com/github/JuliaBalakina/ALATA-2025/blob/main/Home_assignment_due_8_10.ipynb\" target=\"_parent\"><img src=\"https://colab.research.google.com/assets/colab-badge.svg\" alt=\"Open In Colab\"/></a>"
      ]
    },
    {
      "cell_type": "markdown",
      "source": [
        "**Task 1**\n",
        "\n",
        "Create a program that outputs \"Yes\" for two entered integers if оne of the numbers is divisible by the other without leaving a remainder, and \"No\" in all other cases."
      ],
      "metadata": {
        "id": "hV7Suek1oQ0Z"
      }
    },
    {
      "cell_type": "code",
      "source": [],
      "metadata": {
        "id": "kDBabceSoZNy"
      },
      "execution_count": null,
      "outputs": []
    },
    {
      "cell_type": "markdown",
      "source": [
        "**Task 2**\n",
        "\n",
        "Find the sum of numbers that are multiples of 3, from 1 to N (inclusive), using the while loop.\n",
        "\n",
        "Enter the natural number N, output the sum.\n",
        "\n",
        "\n",
        "Example:\n",
        "Enter a natural number N: 10\n",
        "The sum of numbers divisible by 3 up to 10: 18\n"
      ],
      "metadata": {
        "id": "92jVnIW_oZ66"
      }
    },
    {
      "cell_type": "code",
      "source": [],
      "metadata": {
        "id": "5IuCZ50uo-of"
      },
      "execution_count": null,
      "outputs": []
    },
    {
      "cell_type": "markdown",
      "source": [
        "**Task 3**\n",
        "\n",
        "Check to see if a string has the same amount of numbers and letters.\n",
        "\n",
        "The method must return a boolean (True or False) and be case insensitive.\n",
        "\n",
        "The string can contain any character."
      ],
      "metadata": {
        "id": "gBHM_vAso_Z1"
      }
    },
    {
      "cell_type": "code",
      "source": [],
      "metadata": {
        "id": "CRuqtOJopPZV"
      },
      "execution_count": null,
      "outputs": []
    },
    {
      "cell_type": "markdown",
      "source": [
        "**Task 4**\n",
        "\n",
        "Develop a program that removes all spaces from the provided string using a for loop."
      ],
      "metadata": {
        "id": "W8hLAd7Dp3V-"
      }
    },
    {
      "cell_type": "code",
      "source": [],
      "metadata": {
        "id": "v9O06mWUq83G"
      },
      "execution_count": null,
      "outputs": []
    },
    {
      "cell_type": "markdown",
      "source": [
        "**Task 5**\n",
        "\n",
        "Write a program that sorts the characters of a given string alphabetically."
      ],
      "metadata": {
        "id": "d5OV7Y11q9KI"
      }
    },
    {
      "cell_type": "code",
      "source": [],
      "metadata": {
        "id": "WWH2zGugvs8b"
      },
      "execution_count": null,
      "outputs": []
    },
    {
      "cell_type": "markdown",
      "source": [
        "**Task 6**\n",
        "\n",
        "Determine whether a given word is a palindrome (reads the same forwards as backwards)."
      ],
      "metadata": {
        "id": "ruKHiSB9v4K5"
      }
    },
    {
      "cell_type": "code",
      "source": [],
      "metadata": {
        "id": "GVyMRDTMwGpb"
      },
      "execution_count": null,
      "outputs": []
    },
    {
      "cell_type": "markdown",
      "source": [
        "**Task 7**\n",
        "\n",
        "given is a string. If the length of the string is less than 4 print \"too short!\"\n",
        "\n",
        "if it is greater or equals 4 check if it is even or odd.\n",
        "\n",
        "in case it is even return the last character of the word\n",
        "\n",
        "in case it is odd - print the first one."
      ],
      "metadata": {
        "id": "luBCY9A1ErLb"
      }
    },
    {
      "cell_type": "code",
      "source": [],
      "metadata": {
        "id": "IElNRBaZEvoK"
      },
      "execution_count": null,
      "outputs": []
    },
    {
      "cell_type": "markdown",
      "source": [
        "**Task 8**\n",
        "\n",
        "You are going to be given a word. Your job is to attach the '!' to the middle character of the word. If the word's length is odd, return the middle character + '!'. If the word's length is even, return the middle 2 characters preceded and followed by \"!'.\n",
        "\n",
        "Examples: (\"test\") should return \"!es!\"\n",
        "\n",
        "(\"testing\") should return \"t!\""
      ],
      "metadata": {
        "id": "563RvxU8Ev7H"
      }
    },
    {
      "cell_type": "code",
      "source": [],
      "metadata": {
        "id": "8uDkz3XBE4bp"
      },
      "execution_count": null,
      "outputs": []
    },
    {
      "cell_type": "markdown",
      "source": [
        "**Task 9**\n",
        "\n",
        "Your task is to write a programme that takes the value of a word and returns it with an \"i\" at the beginning of the word. For example we get the word \"Phone\", so we must return \"iPhone\". But we have a few rules:\n",
        "\n",
        "The word should not begin with the letter \"I\", for example Inspire.\n",
        "The number of vowels should not be greater than or equal to the number of consonants, for example East or Peace. (\"y\" is considered a consonant)\n",
        "The first letter should not be lowercase, for example road.\n",
        "If the word does not meet the rules, we return \"Invalid word\"."
      ],
      "metadata": {
        "id": "unFcmI_hE4ra"
      }
    },
    {
      "cell_type": "code",
      "source": [],
      "metadata": {
        "id": "NxuuMFi9FBr6"
      },
      "execution_count": null,
      "outputs": []
    },
    {
      "cell_type": "markdown",
      "source": [
        "**Task 10**\n",
        "\n",
        "Write a program to determine if a string contains only unique characters. Return true if it does and false otherwise.\n",
        "\n",
        "Example:\n",
        "\n",
        "dog1 = True\n",
        "\n",
        "GGji7 = False"
      ],
      "metadata": {
        "id": "IqMOs-Z2FB5D"
      }
    },
    {
      "cell_type": "code",
      "source": [],
      "metadata": {
        "id": "kVnSdpy3FIDR"
      },
      "execution_count": null,
      "outputs": []
    }
  ]
}