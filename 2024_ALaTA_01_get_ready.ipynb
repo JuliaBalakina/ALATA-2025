{
  "cells": [
    {
      "cell_type": "markdown",
      "metadata": {
        "id": "view-in-github",
        "colab_type": "text"
      },
      "source": [
        "<a href=\"https://colab.research.google.com/github/JuliaBalakina/ALATA-2025/blob/main/2024_ALaTA_01_get_ready.ipynb\" target=\"_parent\"><img src=\"https://colab.research.google.com/assets/colab-badge.svg\" alt=\"Open In Colab\"/></a>"
      ]
    },
    {
      "cell_type": "code",
      "execution_count": null,
      "metadata": {
        "id": "6hXoNMFwpgio",
        "colab": {
          "base_uri": "https://localhost:8080/"
        },
        "outputId": "59758c9b-0a02-4d8c-e32c-d1283756e3cc"
      },
      "outputs": [
        {
          "output_type": "stream",
          "name": "stdout",
          "text": [
            "Hello\n",
            "1\n",
            "22fff\n",
            "2\n"
          ]
        }
      ],
      "source": [
        "print (\"Hello\")\n",
        "print (1)\n",
        "print ('2'+'2'+'fff')\n",
        "print (1+1)"
      ]
    },
    {
      "cell_type": "markdown",
      "metadata": {
        "id": "BeRekKrPpgir"
      },
      "source": [
        "### Values and Types\n",
        "\n",
        "\n",
        "A **value** is one of the basic things a program works with, like a letter or a number.\n",
        "\n",
        "The values above are ***1***, ***\"2\"*** and ***“Hello”***, ***\"fff\"***\n",
        "\n",
        "\n",
        "These values belong to different types: 1 is an **integer**, and “Hello” is a\n",
        "**string**, so called because it contains a “string” of letters.\n",
        "\n",
        "Strings are enclosed in quotation marks.\n",
        "\n",
        "\n",
        "The print statement also works for integers.\n",
        "\n",
        "\n",
        "Python knows the difference between an integer number and a string.\n",
        "\n",
        "\n",
        "For example “+” means “addition” if something is a number and “concatenate” if something is a string.\n",
        "\n",
        "\n",
        "Python knows what “type” everything is.\n",
        "Some operations are prohibited:\n",
        "\n",
        "\n",
        "You cannot add integer \"1” to a string\n",
        "\n",
        "\n",
        "We can ask Python what type something is by using **the type() function**.\n",
        "\n"
      ]
    },
    {
      "cell_type": "code",
      "source": [
        "print(\"1\"+\"1\")"
      ],
      "metadata": {
        "id": "LGDZda34qp-f",
        "colab": {
          "base_uri": "https://localhost:8080/"
        },
        "outputId": "e0c08814-d8cb-4cce-ca67-cf470da15e15"
      },
      "execution_count": null,
      "outputs": [
        {
          "output_type": "stream",
          "name": "stdout",
          "text": [
            "11\n"
          ]
        }
      ]
    },
    {
      "cell_type": "code",
      "execution_count": null,
      "metadata": {
        "id": "lTTktZaHpgiu",
        "colab": {
          "base_uri": "https://localhost:8080/"
        },
        "outputId": "3fc58712-6943-4c4f-e0af-9e07906228b3"
      },
      "outputs": [
        {
          "output_type": "execute_result",
          "data": {
            "text/plain": [
              "int"
            ]
          },
          "metadata": {},
          "execution_count": 6
        }
      ],
      "source": [
        "type(1)\n"
      ]
    },
    {
      "cell_type": "code",
      "execution_count": null,
      "metadata": {
        "id": "KsJWzrC8pgiu",
        "outputId": "8dd75edb-67c0-413d-9372-662a11231227"
      },
      "outputs": [
        {
          "data": {
            "text/plain": [
              "str"
            ]
          },
          "execution_count": 9,
          "metadata": {},
          "output_type": "execute_result"
        }
      ],
      "source": [
        "type('hello')"
      ]
    },
    {
      "cell_type": "code",
      "execution_count": null,
      "metadata": {
        "id": "-YiWmxuHpgiu",
        "outputId": "0a52c221-167d-42d4-ceb8-991ed274937b"
      },
      "outputs": [
        {
          "data": {
            "text/plain": [
              "str"
            ]
          },
          "execution_count": 7,
          "metadata": {},
          "output_type": "execute_result"
        }
      ],
      "source": [
        "k = 'nice'\n",
        "type (k)"
      ]
    },
    {
      "cell_type": "code",
      "execution_count": null,
      "metadata": {
        "id": "3_VhRdlfpgiv",
        "colab": {
          "base_uri": "https://localhost:8080/",
          "height": 144
        },
        "outputId": "bfde2362-8a97-4f47-bbb0-cfb04455f27c"
      },
      "outputs": [
        {
          "output_type": "error",
          "ename": "TypeError",
          "evalue": "can only concatenate str (not \"int\") to str",
          "traceback": [
            "\u001b[0;31m---------------------------------------------------------------------------\u001b[0m",
            "\u001b[0;31mTypeError\u001b[0m                                 Traceback (most recent call last)",
            "\u001b[0;32m<ipython-input-6-137199578990>\u001b[0m in \u001b[0;36m<cell line: 1>\u001b[0;34m()\u001b[0m\n\u001b[0;32m----> 1\u001b[0;31m \u001b[0mprint\u001b[0m\u001b[0;34m(\u001b[0m\u001b[0;34m'Hello'\u001b[0m \u001b[0;34m+\u001b[0m\u001b[0;36m1\u001b[0m\u001b[0;34m)\u001b[0m\u001b[0;34m\u001b[0m\u001b[0;34m\u001b[0m\u001b[0m\n\u001b[0m",
            "\u001b[0;31mTypeError\u001b[0m: can only concatenate str (not \"int\") to str"
          ]
        }
      ],
      "source": [
        "print('Hello' +1)\n"
      ]
    },
    {
      "cell_type": "code",
      "execution_count": null,
      "metadata": {
        "id": "sI5OYhtkpgiv",
        "colab": {
          "base_uri": "https://localhost:8080/"
        },
        "outputId": "132723a1-62ee-490a-bc7a-a666e580070e"
      },
      "outputs": [
        {
          "output_type": "stream",
          "name": "stdout",
          "text": [
            "3\n"
          ]
        }
      ],
      "source": [
        "print(1+2)"
      ]
    },
    {
      "cell_type": "code",
      "execution_count": null,
      "metadata": {
        "id": "oHztufRypgiv",
        "colab": {
          "base_uri": "https://localhost:8080/",
          "height": 36
        },
        "outputId": "4365a7b6-8c4a-4956-e334-0c418ba1ddb3"
      },
      "outputs": [
        {
          "output_type": "execute_result",
          "data": {
            "text/plain": [
              "'nice'"
            ],
            "application/vnd.google.colaboratory.intrinsic+json": {
              "type": "string"
            }
          },
          "metadata": {},
          "execution_count": 8
        }
      ],
      "source": [
        "\"ni\"+'ce'"
      ]
    },
    {
      "cell_type": "markdown",
      "metadata": {
        "id": "ac2A1-nNpgiv"
      },
      "source": [
        "### Several Types of Numbers\n",
        "\n",
        "Numbers have two main types\n",
        "\n",
        "-  **Integers** are whole numbers:\n",
        "   -14, -2, 0, 1, 100, 401233\n",
        "\n",
        "\n",
        "-  **Floating Point Numbers** have  decimal parts:  -2.5 , 0.0, 98.6, 14.0\n",
        "\n",
        "\n",
        "There are other number types - they are variations on float and integer\n"
      ]
    },
    {
      "cell_type": "code",
      "execution_count": null,
      "metadata": {
        "id": "Ni2iBh6Fpgiv",
        "outputId": "6d65b870-3e18-402f-e6f6-44d2b68085f2"
      },
      "outputs": [
        {
          "name": "stdout",
          "output_type": "stream",
          "text": [
            "<class 'int'>\n",
            "<class 'int'>\n"
          ]
        }
      ],
      "source": [
        "y = 2\n",
        "print(type(2))\n",
        "print(type(y))"
      ]
    },
    {
      "cell_type": "markdown",
      "metadata": {
        "id": "2f94qlzApgiw"
      },
      "source": [
        "When you put an integer and floating point in an expression, the integer is implicitly converted to a float\n",
        "\n",
        "You can control this with the built-in functions int() and float()\n"
      ]
    },
    {
      "cell_type": "code",
      "execution_count": null,
      "metadata": {
        "id": "1rN3qoncpgiw",
        "outputId": "3e406ab8-ca38-413a-eb67-fd0de51ea7e2",
        "colab": {
          "base_uri": "https://localhost:8080/"
        }
      },
      "outputs": [
        {
          "output_type": "execute_result",
          "data": {
            "text/plain": [
              "42"
            ]
          },
          "metadata": {},
          "execution_count": 8
        }
      ],
      "source": [
        "int(42.0)"
      ]
    },
    {
      "cell_type": "code",
      "source": [
        "str (2)"
      ],
      "metadata": {
        "colab": {
          "base_uri": "https://localhost:8080/",
          "height": 36
        },
        "id": "eHDHUjyBaZiF",
        "outputId": "3d2ae474-241f-49a1-9895-ca9c245a712c"
      },
      "execution_count": null,
      "outputs": [
        {
          "output_type": "execute_result",
          "data": {
            "text/plain": [
              "'2'"
            ],
            "application/vnd.google.colaboratory.intrinsic+json": {
              "type": "string"
            }
          },
          "metadata": {},
          "execution_count": 10
        }
      ]
    },
    {
      "cell_type": "code",
      "execution_count": null,
      "metadata": {
        "id": "6yIVl1FTpgiw",
        "colab": {
          "base_uri": "https://localhost:8080/"
        },
        "outputId": "d747a61c-e101-4f58-87c2-84b64a611248"
      },
      "outputs": [
        {
          "output_type": "stream",
          "name": "stdout",
          "text": [
            "42.0\n"
          ]
        },
        {
          "output_type": "execute_result",
          "data": {
            "text/plain": [
              "float"
            ]
          },
          "metadata": {},
          "execution_count": 9
        }
      ],
      "source": [
        "x = float(42)\n",
        "print(x)\n",
        "type(x)"
      ]
    },
    {
      "cell_type": "code",
      "execution_count": null,
      "metadata": {
        "id": "aReE0wt9pgiw",
        "colab": {
          "base_uri": "https://localhost:8080/"
        },
        "outputId": "a09488b5-e159-4bdc-a2ba-4086b0f60619"
      },
      "outputs": [
        {
          "output_type": "execute_result",
          "data": {
            "text/plain": [
              "int"
            ]
          },
          "metadata": {},
          "execution_count": 10
        }
      ],
      "source": [
        "x=int(3.0)\n",
        "type(x)"
      ]
    },
    {
      "cell_type": "code",
      "execution_count": null,
      "metadata": {
        "id": "m6Uq3WaBpgiw",
        "colab": {
          "base_uri": "https://localhost:8080/"
        },
        "outputId": "58c64e69-887e-4949-b559-3ec4a5f1b318"
      },
      "outputs": [
        {
          "output_type": "execute_result",
          "data": {
            "text/plain": [
              "int"
            ]
          },
          "metadata": {},
          "execution_count": 11
        }
      ],
      "source": [
        "i = 42\n",
        "type(i)\n",
        "\n",
        "\n"
      ]
    },
    {
      "cell_type": "code",
      "execution_count": null,
      "metadata": {
        "id": "HeVUneJVpgix",
        "colab": {
          "base_uri": "https://localhost:8080/"
        },
        "outputId": "f84cdaa7-60f0-45e9-958a-b24ff8868896"
      },
      "outputs": [
        {
          "output_type": "stream",
          "name": "stdout",
          "text": [
            "42.0\n"
          ]
        },
        {
          "output_type": "execute_result",
          "data": {
            "text/plain": [
              "float"
            ]
          },
          "metadata": {},
          "execution_count": 12
        }
      ],
      "source": [
        "i=42\n",
        "f = float(i) ### i = 42, f=float(42)\n",
        "print(f)\n",
        "type(f)"
      ]
    },
    {
      "cell_type": "code",
      "execution_count": null,
      "metadata": {
        "id": "4-cWiucUpgix",
        "colab": {
          "base_uri": "https://localhost:8080/"
        },
        "outputId": "20473b72-7423-4bca-e7e8-aa04d7f233a0"
      },
      "outputs": [
        {
          "output_type": "execute_result",
          "data": {
            "text/plain": [
              "int"
            ]
          },
          "metadata": {},
          "execution_count": 18
        }
      ],
      "source": [
        "a = 1\n",
        "type(a)"
      ]
    },
    {
      "cell_type": "code",
      "execution_count": null,
      "metadata": {
        "id": "rDITNWawpgix",
        "colab": {
          "base_uri": "https://localhost:8080/"
        },
        "outputId": "f17a0ea6-f9e7-40fa-bc0a-55c531598733"
      },
      "outputs": [
        {
          "output_type": "stream",
          "name": "stdout",
          "text": [
            "<class 'str'>\n",
            "1\n",
            "2\n"
          ]
        }
      ],
      "source": [
        "a =1\n",
        "b = str(a) ### b = str (1)\n",
        "print(type(b))\n",
        "print(b)\n",
        "print(a+int(b))\n"
      ]
    },
    {
      "cell_type": "code",
      "execution_count": null,
      "metadata": {
        "id": "t5QWw0xLpgix",
        "colab": {
          "base_uri": "https://localhost:8080/"
        },
        "outputId": "78511791-d0e6-4ce2-c3d8-1ffd7ec756a8"
      },
      "outputs": [
        {
          "output_type": "stream",
          "name": "stdout",
          "text": [
            "8.0\n",
            "8.0\n"
          ]
        },
        {
          "output_type": "execute_result",
          "data": {
            "text/plain": [
              "str"
            ]
          },
          "metadata": {},
          "execution_count": 19
        }
      ],
      "source": [
        "a =8\n",
        "a = float(a) # 8.0\n",
        "print(a)\n",
        "a = str(a) # \"8.0\"\n",
        "print(a)\n",
        "type(a)"
      ]
    },
    {
      "cell_type": "code",
      "execution_count": null,
      "metadata": {
        "id": "8L1jGL1zpgix",
        "colab": {
          "base_uri": "https://localhost:8080/"
        },
        "outputId": "bec3f661-4605-417c-c38d-41f37bf2540b"
      },
      "outputs": [
        {
          "output_type": "stream",
          "name": "stdout",
          "text": [
            "1\n",
            "11\n"
          ]
        }
      ],
      "source": [
        "b=\"1\"\n",
        "print(b)\n",
        "print('1'+ b)  ### \"1\" and b - strings. That is why concatenation occurs, when two strings merge into one."
      ]
    },
    {
      "cell_type": "code",
      "execution_count": null,
      "metadata": {
        "id": "RUwcQbLGpgix",
        "colab": {
          "base_uri": "https://localhost:8080/"
        },
        "outputId": "66dd53b0-41a6-498f-aa2d-0e7ae5754bcc"
      },
      "outputs": [
        {
          "output_type": "stream",
          "name": "stdout",
          "text": [
            "2\n"
          ]
        }
      ],
      "source": [
        "print (1+int(b)) # 1+1"
      ]
    },
    {
      "cell_type": "code",
      "source": [
        "print(int (\"1\"))\n",
        "print (str (5.78))"
      ],
      "metadata": {
        "colab": {
          "base_uri": "https://localhost:8080/"
        },
        "id": "zNCzl47Y4qUc",
        "outputId": "e191c710-2dc4-4682-bd2f-96290c72f0ae"
      },
      "execution_count": null,
      "outputs": [
        {
          "output_type": "stream",
          "name": "stdout",
          "text": [
            "1\n",
            "5.78\n"
          ]
        }
      ]
    },
    {
      "cell_type": "code",
      "source": [
        "a = int (\"1\")\n",
        "b= str (5)\n",
        "print(a+int(b))"
      ],
      "metadata": {
        "colab": {
          "base_uri": "https://localhost:8080/"
        },
        "id": "g8GHxg_-cbLb",
        "outputId": "2fdcb465-9e2b-4ac8-f3bf-0f7bf963376c"
      },
      "execution_count": null,
      "outputs": [
        {
          "output_type": "stream",
          "name": "stdout",
          "text": [
            "6\n"
          ]
        }
      ]
    },
    {
      "cell_type": "code",
      "source": [
        "a = int (\"1\")\n",
        "b= str (5.78)\n",
        "print(a+float(b))"
      ],
      "metadata": {
        "colab": {
          "base_uri": "https://localhost:8080/"
        },
        "id": "0Cf56FehdOXu",
        "outputId": "10c8820d-ff0e-4dbd-b7fa-efaf9d86ea91"
      },
      "execution_count": null,
      "outputs": [
        {
          "output_type": "stream",
          "name": "stdout",
          "text": [
            "6.78\n"
          ]
        }
      ]
    },
    {
      "cell_type": "markdown",
      "metadata": {
        "id": "eG7_H5MWpgix"
      },
      "source": [
        "### Numeric Expressions\n",
        "\n",
        "\n",
        "'+'  Addition\n",
        "\n",
        "'-'\tSubtraction\n",
        "\n",
        "'*'\tMultiplication\n",
        "\n",
        "\n",
        "'/'\tDivision\n",
        "\n",
        "'//' Floor division. Always returns integers.\n",
        "\n",
        "\n",
        "'**' Power\n",
        "\n",
        "\n",
        "'%'\tRemainder (always non-negative)\n"
      ]
    },
    {
      "cell_type": "code",
      "execution_count": null,
      "metadata": {
        "id": "TkbmHvk5pgix",
        "outputId": "173a00ea-817c-48bd-f31a-e33912ec538c"
      },
      "outputs": [
        {
          "name": "stdout",
          "output_type": "stream",
          "text": [
            "1\n"
          ]
        }
      ],
      "source": [
        "print(7 % 3) ### 7 - (3*2) остаток от целочисленного деления (remainder of integer division)"
      ]
    },
    {
      "cell_type": "code",
      "execution_count": null,
      "metadata": {
        "id": "4cQHsUI4pgiy",
        "outputId": "744d33d2-626c-4514-949c-13e4eb45bcc9"
      },
      "outputs": [
        {
          "data": {
            "text/plain": [
              "1"
            ]
          },
          "execution_count": 30,
          "metadata": {},
          "output_type": "execute_result"
        }
      ],
      "source": [
        "11%2 # 11-10 (2*5)"
      ]
    },
    {
      "cell_type": "code",
      "execution_count": null,
      "metadata": {
        "id": "9MvNFx3zpgiy",
        "outputId": "c0c9b53a-9532-430c-9f36-88f211396ee2"
      },
      "outputs": [
        {
          "data": {
            "text/plain": [
              "4"
            ]
          },
          "execution_count": 31,
          "metadata": {},
          "output_type": "execute_result"
        }
      ],
      "source": [
        "199%5 # 199 - 195"
      ]
    },
    {
      "cell_type": "code",
      "execution_count": null,
      "metadata": {
        "id": "WkDKNIXspgiy",
        "outputId": "22dd857e-06eb-4bbb-b84b-d45c04199ab3"
      },
      "outputs": [
        {
          "name": "stdout",
          "output_type": "stream",
          "text": [
            "4.75\n",
            "4.0\n"
          ]
        }
      ],
      "source": [
        "print(9.5 / 2)\n",
        "print(9.5 // 2) # '//' Special operation to stick with integers. It returns an integer answer,\n",
        "              #rounded strictly down in case of fractional answers."
      ]
    },
    {
      "cell_type": "code",
      "execution_count": null,
      "metadata": {
        "id": "eJmsAKH9pgiy",
        "outputId": "1a78494b-cea0-4342-ec70-f44fe503fb60"
      },
      "outputs": [
        {
          "name": "stdout",
          "output_type": "stream",
          "text": [
            "3.3333333333333335\n",
            "3\n"
          ]
        }
      ],
      "source": [
        "print(10/3)\n",
        "print(10//3)"
      ]
    },
    {
      "cell_type": "code",
      "execution_count": null,
      "metadata": {
        "id": "IHhz-DWKpgiy",
        "outputId": "1b631592-080a-4355-c8d8-acabaef54d05",
        "colab": {
          "base_uri": "https://localhost:8080/"
        }
      },
      "outputs": [
        {
          "output_type": "stream",
          "name": "stdout",
          "text": [
            "19\n",
            "19.857142857142858\n"
          ]
        }
      ],
      "source": [
        "print(139//7)\n",
        "print(139/7)"
      ]
    },
    {
      "cell_type": "markdown",
      "metadata": {
        "id": "nUXV_53Ppgiy"
      },
      "source": [
        "### Order of Evaluation\n",
        "\n",
        "When we string operators together - Python must know which one to do first\n",
        "\n",
        "This is called “operator precedence”\n",
        "\n",
        "Which operator “takes precedence” over the others?\n",
        "\n",
        "x = 1 + 2 ** 3 / 4 * 5\n",
        "\n",
        "Highest precedence rule to lowest precedence rule:\n",
        "\n",
        "Parentheses are always respected\n",
        "\n",
        "Exponentiation (raise to a power)\n",
        "\n",
        "Multiplication, Division, and Remainder\n",
        "\n",
        "Addition and Subtraction\n",
        "\n",
        "Left to right\n",
        "\n",
        "\n"
      ]
    },
    {
      "cell_type": "code",
      "execution_count": null,
      "metadata": {
        "id": "S6v4TYJ3pgiy",
        "colab": {
          "base_uri": "https://localhost:8080/"
        },
        "outputId": "1a35085d-eef0-4cd2-d97c-1d49b4103b34"
      },
      "outputs": [
        {
          "output_type": "stream",
          "name": "stdout",
          "text": [
            "11.0\n"
          ]
        }
      ],
      "source": [
        "x = 1 + 2 ** 3 / 4 * 5         # 1) 2**3 =8, 2)8/4 = 2, 3)2*5 = 10, 4) 1+10 =11\n",
        "print (x)"
      ]
    },
    {
      "cell_type": "markdown",
      "source": [
        "## **Task 1**\n",
        "Vasya came up with the number, then he multiplied it by 7  and then reduced it by 3.\n",
        "Find Vasya's result using the program if Vasya's number is\n",
        "a) 338\n",
        "b) 1764"
      ],
      "metadata": {
        "id": "iE6RcpB5wIZt"
      }
    },
    {
      "cell_type": "code",
      "source": [
        "x=338\n",
        "print(x*7-3)\n"
      ],
      "metadata": {
        "id": "NypvKxPEwFPt",
        "colab": {
          "base_uri": "https://localhost:8080/"
        },
        "outputId": "8ef19177-7972-4c04-ff5b-325594ead1ae"
      },
      "execution_count": null,
      "outputs": [
        {
          "output_type": "stream",
          "name": "stdout",
          "text": [
            "2363\n"
          ]
        }
      ]
    },
    {
      "cell_type": "code",
      "source": [
        "x=1764\n",
        "print(x*7-3)"
      ],
      "metadata": {
        "colab": {
          "base_uri": "https://localhost:8080/"
        },
        "id": "E1TVEo2r96hI",
        "outputId": "1d451353-5432-4dec-c7eb-a1c6e11d248a"
      },
      "execution_count": null,
      "outputs": [
        {
          "output_type": "stream",
          "name": "stdout",
          "text": [
            "12345\n"
          ]
        }
      ]
    },
    {
      "cell_type": "markdown",
      "source": [
        "## **Task 2**\n",
        "Vasya's new number is -17. Print Vasya's number and the number following his separated by a space."
      ],
      "metadata": {
        "id": "-NxBBLObyZuj"
      }
    },
    {
      "cell_type": "code",
      "source": [
        "x=17\n",
        "print (17,x+1)"
      ],
      "metadata": {
        "colab": {
          "base_uri": "https://localhost:8080/"
        },
        "id": "tUELCSpLlpXo",
        "outputId": "4b09a365-0a26-4870-85e9-a709b4d98165"
      },
      "execution_count": null,
      "outputs": [
        {
          "output_type": "stream",
          "name": "stdout",
          "text": [
            "17 18\n"
          ]
        }
      ]
    },
    {
      "cell_type": "code",
      "source": [
        "x=\"17\"\n",
        "print ('17',int(x)+1)"
      ],
      "metadata": {
        "id": "bFCsEztUzBkI",
        "colab": {
          "base_uri": "https://localhost:8080/"
        },
        "outputId": "ef29f6fc-7920-4973-845f-30ab3433eba2"
      },
      "execution_count": null,
      "outputs": [
        {
          "output_type": "stream",
          "name": "stdout",
          "text": [
            "17 18\n"
          ]
        }
      ]
    },
    {
      "cell_type": "code",
      "source": [
        "x=17\n",
        "y=x+1\n",
        "print (x,y)"
      ],
      "metadata": {
        "colab": {
          "base_uri": "https://localhost:8080/"
        },
        "id": "vMrnbsEVAxI7",
        "outputId": "2810a88d-9805-4782-d667-bef65eafe224"
      },
      "execution_count": null,
      "outputs": [
        {
          "output_type": "stream",
          "name": "stdout",
          "text": [
            "17 18\n"
          ]
        }
      ]
    },
    {
      "cell_type": "code",
      "source": [
        "print('1'+'!!!' +'1')"
      ],
      "metadata": {
        "colab": {
          "base_uri": "https://localhost:8080/"
        },
        "id": "rH0WzDRMnI4n",
        "outputId": "a166d9ef-ee4f-447a-d70e-dda081ae0fb1"
      },
      "execution_count": null,
      "outputs": [
        {
          "output_type": "stream",
          "name": "stdout",
          "text": [
            "1!!!1\n"
          ]
        }
      ]
    },
    {
      "cell_type": "code",
      "source": [
        "number = 17\n",
        "print(str(number) + \" \" + str(number+1))"
      ],
      "metadata": {
        "colab": {
          "base_uri": "https://localhost:8080/"
        },
        "id": "e3WWP598_LXO",
        "outputId": "44813129-2a8d-45e0-ee3a-e4db69a996c3"
      },
      "execution_count": null,
      "outputs": [
        {
          "output_type": "stream",
          "name": "stdout",
          "text": [
            "17 18\n"
          ]
        }
      ]
    },
    {
      "cell_type": "code",
      "source": [
        "x = 17\n",
        "print(x,x+1)\n"
      ],
      "metadata": {
        "colab": {
          "base_uri": "https://localhost:8080/"
        },
        "id": "92joFvF8__nV",
        "outputId": "c7719a5e-eb31-4476-a9de-744d30ac571c"
      },
      "execution_count": null,
      "outputs": [
        {
          "output_type": "stream",
          "name": "stdout",
          "text": [
            "17 18\n"
          ]
        }
      ]
    },
    {
      "cell_type": "code",
      "source": [
        "number = 17\n",
        "print (str(number), str(number+1))"
      ],
      "metadata": {
        "id": "BN2sfCirDcFp",
        "colab": {
          "base_uri": "https://localhost:8080/"
        },
        "outputId": "27cee836-791c-4a2f-85b8-d75e9b1cb5d5"
      },
      "execution_count": null,
      "outputs": [
        {
          "output_type": "stream",
          "name": "stdout",
          "text": [
            "17 18\n"
          ]
        }
      ]
    },
    {
      "cell_type": "markdown",
      "source": [
        "# **Task 3**\n",
        "\n",
        "Complete the program that outputs the arithmetic mean of three integers. Use the formula (a+b+c)/3"
      ],
      "metadata": {
        "id": "3oZ1uPsZzlAU"
      }
    },
    {
      "cell_type": "code",
      "source": [
        "a=int(input ())\n",
        "b=int(input ())\n",
        "c=int(input ())\n",
        "print((a+b+c)/3)"
      ],
      "metadata": {
        "id": "9ViLdk8V0BBE",
        "colab": {
          "base_uri": "https://localhost:8080/"
        },
        "outputId": "b52a06da-5deb-4466-9192-7a6d1472089d"
      },
      "execution_count": null,
      "outputs": [
        {
          "output_type": "stream",
          "name": "stdout",
          "text": [
            "45\n",
            "43\n",
            "23\n",
            "37.0\n"
          ]
        }
      ]
    },
    {
      "cell_type": "code",
      "source": [
        "a, b, c = int(input()), int(input()), int(input())\n",
        "print((a + b + c) / 3)"
      ],
      "metadata": {
        "colab": {
          "base_uri": "https://localhost:8080/"
        },
        "id": "4c0wkfXRCkhI",
        "outputId": "093e641d-4d1b-4979-a22b-9ec67acceaea"
      },
      "execution_count": null,
      "outputs": [
        {
          "output_type": "stream",
          "name": "stdout",
          "text": [
            "1\n",
            "1\n",
            "2\n",
            "1.3333333333333333\n"
          ]
        }
      ]
    },
    {
      "cell_type": "code",
      "source": [
        "a=int(input ())\n",
        "b=int(input ())\n",
        "c=int(input ())\n",
        "print((a+b+c)/3)"
      ],
      "metadata": {
        "colab": {
          "base_uri": "https://localhost:8080/"
        },
        "id": "kzRqh8W8o9Cv",
        "outputId": "8cc1512c-8c73-4a03-da87-8d8d53b9c8fe"
      },
      "execution_count": null,
      "outputs": [
        {
          "output_type": "stream",
          "name": "stdout",
          "text": [
            "1\n",
            "2\n",
            "3\n",
            "2.0\n"
          ]
        }
      ]
    },
    {
      "cell_type": "markdown",
      "source": [
        "# **Task 4**\n",
        "\n",
        "Complete the program that outputs the sum of digits for the entered two-digit and three-digit integers.\n",
        "\n",
        "x=52\n",
        "output:7\n",
        "\n",
        "x=523\n",
        "output:10"
      ],
      "metadata": {
        "id": "YdKwglx31lpa"
      }
    },
    {
      "cell_type": "code",
      "source": [
        "# Число 52 задаётся условием\n",
        "two_digit_number = 52\n",
        "\n",
        "# Пользователь вводит трехзначное число\n",
        "three_digit_number = int(input(\"Введите трехзначное число: \"))\n",
        "\n",
        "# Вычислим сумму цифр каждого числа\n",
        "sum_two_digit = (two_digit_number // 10) + (two_digit_number % 10)\n",
        "sum_three_digit = ((three_digit_number // 100) +\n",
        "                   ((three_digit_number // 10) % 10) +\n",
        "                   (three_digit_number % 10))\n",
        "\n",
        "# Суммируем обе суммы\n",
        "result = sum_two_digit + sum_three_digit\n",
        "\n",
        "# Выводим результат\n",
        "print(f\"Сумма цифр чисел {two_digit_number} и вашего числа ({three_digit_number}) равна: {result}\")\n"
      ],
      "metadata": {
        "colab": {
          "base_uri": "https://localhost:8080/"
        },
        "id": "63CHyR7NrC1w",
        "outputId": "6b5eedc7-27d1-42f9-bd5e-bad97ff2c3ba"
      },
      "execution_count": null,
      "outputs": [
        {
          "output_type": "stream",
          "name": "stdout",
          "text": [
            "Введите трехзначное число: 523\n",
            "Сумма цифр чисел 52 и вашего числа (523) равна: 17\n"
          ]
        }
      ]
    },
    {
      "cell_type": "code",
      "source": [
        "x = 52\n",
        "b = x % 10 ## 52-50 =2\n",
        "print(b)\n",
        "a = x // 10  ## 5\n",
        "print(a)\n",
        "print(a + b)"
      ],
      "metadata": {
        "colab": {
          "base_uri": "https://localhost:8080/"
        },
        "id": "n9zmS1Zw0c4G",
        "outputId": "e0daac4f-4bba-4c06-b721-09aafbc0784d"
      },
      "execution_count": null,
      "outputs": [
        {
          "output_type": "stream",
          "name": "stdout",
          "text": [
            "2\n",
            "5\n",
            "7\n"
          ]
        }
      ]
    },
    {
      "cell_type": "code",
      "source": [
        "x = 523\n",
        "a = x // 100\n",
        "print(a)\n",
        "b = x %100//10\n",
        "print(b)\n",
        "c = x % 10\n",
        "print(c)\n",
        "print(a + b + c)\n"
      ],
      "metadata": {
        "colab": {
          "base_uri": "https://localhost:8080/"
        },
        "id": "jgOb344MF7Me",
        "outputId": "c33bcbed-60ac-4926-f5ed-ec0712becaf0"
      },
      "execution_count": null,
      "outputs": [
        {
          "output_type": "stream",
          "name": "stdout",
          "text": [
            "5\n",
            "2\n",
            "3\n",
            "10\n"
          ]
        }
      ]
    },
    {
      "cell_type": "code",
      "source": [
        "x = 523\n",
        "b = x %100//10  # 523 -500 =23  23//10 = 2\n",
        "print(b)"
      ],
      "metadata": {
        "colab": {
          "base_uri": "https://localhost:8080/"
        },
        "id": "ZG5SPdlaGsS1",
        "outputId": "6a97d2ba-913e-4f83-a7ad-9f6a78c4a4a8"
      },
      "execution_count": null,
      "outputs": [
        {
          "output_type": "stream",
          "name": "stdout",
          "text": [
            "2\n"
          ]
        }
      ]
    },
    {
      "cell_type": "markdown",
      "source": [
        "**Home assignment **\n",
        "\n",
        "Petya came up with 2 integers and told Vasya first their sum, and then the remainder.\n",
        "\n",
        "Find and print Petya's numbers if he told Vasya\n",
        "\n",
        "a) 100 and 56\n",
        "\n",
        "b)2023 and 189"
      ],
      "metadata": {
        "id": "wAnw-2odFRoM"
      }
    },
    {
      "cell_type": "code",
      "source": [
        "a = 100\n",
        "b=56\n",
        "c=((a+b)//2)\n",
        "d=100-c\n",
        "print(c,d)"
      ],
      "metadata": {
        "colab": {
          "base_uri": "https://localhost:8080/"
        },
        "id": "KCPaBr0dEo6r",
        "outputId": "210f6a62-425f-42df-e7de-de1d6c61604c"
      },
      "execution_count": 1,
      "outputs": [
        {
          "output_type": "stream",
          "name": "stdout",
          "text": [
            "78 22\n"
          ]
        }
      ]
    },
    {
      "cell_type": "code",
      "source": [
        "a = 100\n",
        "b=56\n",
        "c=((a-b)//2)\n",
        "d=100-c\n",
        "print(c,d)"
      ],
      "metadata": {
        "colab": {
          "base_uri": "https://localhost:8080/"
        },
        "id": "pan5PSKaBFCp",
        "outputId": "f45b78a1-e329-4643-ba92-1db694702011"
      },
      "execution_count": 1,
      "outputs": [
        {
          "output_type": "stream",
          "name": "stdout",
          "text": [
            "22 78\n"
          ]
        }
      ]
    },
    {
      "cell_type": "code",
      "source": [
        "a+b=100 - #sum\n",
        "b-a=56 -#remainder\n"
      ],
      "metadata": {
        "id": "rWV2yV1zCMxm"
      },
      "execution_count": null,
      "outputs": []
    },
    {
      "cell_type": "code",
      "source": [
        "a = 2023\n",
        "b=189\n",
        "c=((a+b)//2)\n",
        "d=100-c\n",
        "print(c,d)"
      ],
      "metadata": {
        "id": "6DLuu607N8Ww"
      },
      "execution_count": null,
      "outputs": []
    },
    {
      "cell_type": "markdown",
      "metadata": {
        "id": "Zz_-4jxtpgiz"
      },
      "source": [
        "### Converting between types\n",
        "\n",
        "**int()**     converts anything to integer\n",
        "\n",
        "**float()**    converts anything to floating point number\n",
        "\n",
        "**str()**      converts anything to string\n",
        "\n"
      ]
    },
    {
      "cell_type": "code",
      "source": [
        "x = str(56.0)\n",
        "type(x)"
      ],
      "metadata": {
        "colab": {
          "base_uri": "https://localhost:8080/"
        },
        "id": "n-x9YJgPY2ox",
        "outputId": "bd80ba76-bee6-47e1-9616-b2423197ee86"
      },
      "execution_count": null,
      "outputs": [
        {
          "output_type": "execute_result",
          "data": {
            "text/plain": [
              "str"
            ]
          },
          "metadata": {},
          "execution_count": 12
        }
      ]
    },
    {
      "cell_type": "code",
      "execution_count": 3,
      "metadata": {
        "id": "_UIdcJMHpgiz",
        "outputId": "e496fc12-04ab-44c2-a97b-a11b4379b338",
        "colab": {
          "base_uri": "https://localhost:8080/",
          "height": 233
        }
      },
      "outputs": [
        {
          "output_type": "stream",
          "name": "stdout",
          "text": [
            "5\n",
            "7\n"
          ]
        },
        {
          "output_type": "error",
          "ename": "TypeError",
          "evalue": "can only concatenate str (not \"int\") to str",
          "traceback": [
            "\u001b[0;31m---------------------------------------------------------------------------\u001b[0m",
            "\u001b[0;31mTypeError\u001b[0m                                 Traceback (most recent call last)",
            "\u001b[0;32m/tmp/ipython-input-3019288241.py\u001b[0m in \u001b[0;36m<cell line: 0>\u001b[0;34m()\u001b[0m\n\u001b[1;32m      2\u001b[0m \u001b[0mprint\u001b[0m\u001b[0;34m(\u001b[0m\u001b[0mx\u001b[0m\u001b[0;34m)\u001b[0m\u001b[0;34m\u001b[0m\u001b[0;34m\u001b[0m\u001b[0m\n\u001b[1;32m      3\u001b[0m \u001b[0mprint\u001b[0m\u001b[0;34m(\u001b[0m\u001b[0;36m2\u001b[0m \u001b[0;34m+\u001b[0m \u001b[0mx\u001b[0m\u001b[0;34m)\u001b[0m\u001b[0;34m\u001b[0m\u001b[0;34m\u001b[0m\u001b[0m\n\u001b[0;32m----> 4\u001b[0;31m \u001b[0mprint\u001b[0m\u001b[0;34m(\u001b[0m\u001b[0mstr\u001b[0m\u001b[0;34m(\u001b[0m\u001b[0;36m5\u001b[0m\u001b[0;34m)\u001b[0m\u001b[0;34m+\u001b[0m\u001b[0;36m2\u001b[0m\u001b[0;34m)\u001b[0m\u001b[0;34m\u001b[0m\u001b[0;34m\u001b[0m\u001b[0m\n\u001b[0m\u001b[1;32m      5\u001b[0m \u001b[0mprint\u001b[0m\u001b[0;34m(\u001b[0m\u001b[0mfloat\u001b[0m\u001b[0;34m(\u001b[0m\u001b[0;36m5\u001b[0m\u001b[0;34m)\u001b[0m\u001b[0;34m)\u001b[0m\u001b[0;34m\u001b[0m\u001b[0;34m\u001b[0m\u001b[0m\n",
            "\u001b[0;31mTypeError\u001b[0m: can only concatenate str (not \"int\") to str"
          ]
        }
      ],
      "source": [
        "x = int('5')\n",
        "print(x)\n",
        "print(2 + x)\n",
        "print(str(5)+2)\n",
        "print(float(5))"
      ]
    },
    {
      "cell_type": "code",
      "execution_count": null,
      "metadata": {
        "id": "RZO_ReyLpgiz",
        "outputId": "86477b32-6a37-48c4-d874-e6c9e4869d00"
      },
      "outputs": [
        {
          "name": "stdout",
          "output_type": "stream",
          "text": [
            "<class 'str'>\n"
          ]
        }
      ],
      "source": [
        "print(type(str(5647)))\n"
      ]
    },
    {
      "cell_type": "code",
      "execution_count": null,
      "metadata": {
        "id": "E_WXehaqpgiz",
        "outputId": "7431e82d-778a-41d6-df4a-b318a50161bb"
      },
      "outputs": [
        {
          "data": {
            "text/plain": [
              "str"
            ]
          },
          "execution_count": 24,
          "metadata": {},
          "output_type": "execute_result"
        }
      ],
      "source": [
        "x = str(5647)\n",
        "type(x)"
      ]
    },
    {
      "cell_type": "code",
      "execution_count": 4,
      "metadata": {
        "id": "Xko-Welupgiz",
        "colab": {
          "base_uri": "https://localhost:8080/"
        },
        "outputId": "a61af0b0-f4fa-4586-f5ea-8fcde360ec07"
      },
      "outputs": [
        {
          "output_type": "stream",
          "name": "stdout",
          "text": [
            "4\n"
          ]
        },
        {
          "output_type": "execute_result",
          "data": {
            "text/plain": [
              "str"
            ]
          },
          "metadata": {},
          "execution_count": 4
        }
      ],
      "source": [
        "a = str(1+3)\n",
        "a= str(4)\n",
        "print(a)\n",
        "type(a)"
      ]
    },
    {
      "cell_type": "code",
      "source": [
        "a = float('2'+'-3') #'2-3'\n",
        "print(a)\n",
        "type(a)"
      ],
      "metadata": {
        "colab": {
          "base_uri": "https://localhost:8080/",
          "height": 176
        },
        "id": "DS7zC2Zxanwc",
        "outputId": "2db43273-0ed9-40bd-cf22-baad70fc61eb"
      },
      "execution_count": null,
      "outputs": [
        {
          "output_type": "error",
          "ename": "ValueError",
          "evalue": "could not convert string to float: '2-3'",
          "traceback": [
            "\u001b[0;31m---------------------------------------------------------------------------\u001b[0m",
            "\u001b[0;31mValueError\u001b[0m                                Traceback (most recent call last)",
            "\u001b[0;32m<ipython-input-20-0181b2e682be>\u001b[0m in \u001b[0;36m<cell line: 1>\u001b[0;34m()\u001b[0m\n\u001b[0;32m----> 1\u001b[0;31m \u001b[0ma\u001b[0m \u001b[0;34m=\u001b[0m \u001b[0mfloat\u001b[0m\u001b[0;34m(\u001b[0m\u001b[0;34m'2'\u001b[0m\u001b[0;34m+\u001b[0m\u001b[0;34m'-3'\u001b[0m\u001b[0;34m)\u001b[0m\u001b[0;34m\u001b[0m\u001b[0;34m\u001b[0m\u001b[0m\n\u001b[0m\u001b[1;32m      2\u001b[0m \u001b[0mprint\u001b[0m\u001b[0;34m(\u001b[0m\u001b[0ma\u001b[0m\u001b[0;34m)\u001b[0m\u001b[0;34m\u001b[0m\u001b[0;34m\u001b[0m\u001b[0m\n\u001b[1;32m      3\u001b[0m \u001b[0mtype\u001b[0m\u001b[0;34m(\u001b[0m\u001b[0ma\u001b[0m\u001b[0;34m)\u001b[0m\u001b[0;34m\u001b[0m\u001b[0;34m\u001b[0m\u001b[0m\n",
            "\u001b[0;31mValueError\u001b[0m: could not convert string to float: '2-3'"
          ]
        }
      ]
    },
    {
      "cell_type": "code",
      "source": [
        "print(float('-3'))"
      ],
      "metadata": {
        "colab": {
          "base_uri": "https://localhost:8080/"
        },
        "id": "T-XvLABsEp9b",
        "outputId": "a24b430d-275e-4d4b-e783-f3a293f97108"
      },
      "execution_count": 6,
      "outputs": [
        {
          "output_type": "stream",
          "name": "stdout",
          "text": [
            "-3.0\n"
          ]
        }
      ]
    },
    {
      "cell_type": "markdown",
      "metadata": {
        "id": "U01sCMSepgiz"
      },
      "source": [
        "### Task 5\n",
        "\n",
        "Given are an integer 5 and a string '55':\n",
        "\n",
        "1. convert a string into an integer\n",
        "2. find the sum of both integers\n"
      ]
    },
    {
      "cell_type": "code",
      "execution_count": null,
      "metadata": {
        "id": "ln9VrskDpgiz"
      },
      "outputs": [],
      "source": [
        "x=int('55')\n",
        "y = 5\n",
        "print(x+y)"
      ]
    },
    {
      "cell_type": "code",
      "execution_count": null,
      "metadata": {
        "id": "fhXS6HNSpgi0",
        "colab": {
          "base_uri": "https://localhost:8080/"
        },
        "outputId": "ebe6aadf-c596-494b-c94c-0b342aaa45bf"
      },
      "outputs": [
        {
          "output_type": "stream",
          "name": "stdout",
          "text": [
            "60\n"
          ]
        }
      ],
      "source": [
        "print(int('55')+5)"
      ]
    },
    {
      "cell_type": "markdown",
      "metadata": {
        "id": "J82G-3xbpgi0"
      },
      "source": [
        "# Task 6\n",
        "\n",
        "Given are two integers  7 and 7\n",
        "1. covert integers into strings\n",
        "2. concatenate two strings"
      ]
    },
    {
      "cell_type": "code",
      "execution_count": 9,
      "metadata": {
        "id": "sueH37V7pgi_",
        "colab": {
          "base_uri": "https://localhost:8080/"
        },
        "outputId": "63395ccb-9103-45bd-cd12-0648493eb7bb"
      },
      "outputs": [
        {
          "output_type": "stream",
          "name": "stdout",
          "text": [
            "77\n"
          ]
        }
      ],
      "source": [
        "print (str(7)+str(7))\n",
        "\n",
        "\n"
      ]
    },
    {
      "cell_type": "code",
      "execution_count": null,
      "metadata": {
        "id": "xYmT_AF7pgjA",
        "colab": {
          "base_uri": "https://localhost:8080/"
        },
        "outputId": "009c2293-cb2a-4af1-c264-96123916d1f1"
      },
      "outputs": [
        {
          "output_type": "stream",
          "name": "stdout",
          "text": [
            "14\n"
          ]
        }
      ],
      "source": [
        "print (str(7+7))\n",
        "print(str(14))\n",
        "print('14')"
      ]
    },
    {
      "cell_type": "markdown",
      "source": [
        "**Task 7**\n",
        "1. Nick decided to type his name 10 times separated by a space.\n",
        "2.Change the program and type any other name 10 times through 2 spaces"
      ],
      "metadata": {
        "id": "J-AYwkxz-dxt"
      }
    },
    {
      "cell_type": "code",
      "source": [
        "name =\"Nick\"\n",
        "print (name * 10)\n",
        "\n"
      ],
      "metadata": {
        "id": "PTd7ygfh_bhu",
        "colab": {
          "base_uri": "https://localhost:8080/"
        },
        "outputId": "370322e9-37f9-43fc-b695-bc82a122d23d"
      },
      "execution_count": 10,
      "outputs": [
        {
          "output_type": "stream",
          "name": "stdout",
          "text": [
            "NickNickNickNickNickNickNickNickNickNick\n"
          ]
        }
      ]
    },
    {
      "cell_type": "code",
      "source": [
        "print((name+\"-\")*10)"
      ],
      "metadata": {
        "colab": {
          "base_uri": "https://localhost:8080/"
        },
        "id": "veLLujEZfXRx",
        "outputId": "962c1248-6d1c-4378-d8eb-700f6d2f567a"
      },
      "execution_count": null,
      "outputs": [
        {
          "output_type": "stream",
          "name": "stdout",
          "text": [
            "Nick-Nick-Nick-Nick-Nick-Nick-Nick-Nick-Nick-Nick-\n"
          ]
        }
      ]
    },
    {
      "cell_type": "code",
      "source": [
        "print((name + \"-\") * 9,name)"
      ],
      "metadata": {
        "colab": {
          "base_uri": "https://localhost:8080/"
        },
        "id": "9nZEpVNKf-90",
        "outputId": "f9a56e61-7633-4ef8-c4e9-29150186d4f9"
      },
      "execution_count": 11,
      "outputs": [
        {
          "output_type": "stream",
          "name": "stdout",
          "text": [
            "Nick-Nick-Nick-Nick-Nick-Nick-Nick-Nick-Nick- Nick\n"
          ]
        }
      ]
    },
    {
      "cell_type": "code",
      "source": [
        "print((name + \"-\") * 9 +name)"
      ],
      "metadata": {
        "colab": {
          "base_uri": "https://localhost:8080/"
        },
        "id": "eFs1uG4mgJPt",
        "outputId": "11b6431f-4df6-4c33-c7db-6557be086844"
      },
      "execution_count": null,
      "outputs": [
        {
          "output_type": "stream",
          "name": "stdout",
          "text": [
            "Nick-Nick-Nick-Nick-Nick-Nick-Nick-Nick-Nick-Nick\n"
          ]
        }
      ]
    },
    {
      "cell_type": "code",
      "source": [
        "print (('Nick  ')*10)\n"
      ],
      "metadata": {
        "colab": {
          "base_uri": "https://localhost:8080/"
        },
        "id": "jishi9DqgJVJ",
        "outputId": "843c9ee3-0c74-47ab-d451-cdd3f9c02933"
      },
      "execution_count": 17,
      "outputs": [
        {
          "output_type": "stream",
          "name": "stdout",
          "text": [
            "Nick  Nick  Nick  Nick  Nick  Nick  Nick  Nick  Nick  Nick  \n",
            "Nick  Nick  Nick  Nick  Nick  Nick  Nick  Nick  Nick  Nick  \n"
          ]
        }
      ]
    },
    {
      "cell_type": "code",
      "source": [
        "print((name + \" \" * 2) * 10)\n",
        "print((name + '  ') * 10)"
      ],
      "metadata": {
        "colab": {
          "base_uri": "https://localhost:8080/"
        },
        "id": "2oSHObjhg9ZH",
        "outputId": "3012f932-ba02-410f-cce9-b6a45d777707"
      },
      "execution_count": 21,
      "outputs": [
        {
          "output_type": "stream",
          "name": "stdout",
          "text": [
            "Nick  Nick  Nick  Nick  Nick  Nick  Nick  Nick  Nick  Nick  \n",
            "Nick  Nick  Nick  Nick  Nick  Nick  Nick  Nick  Nick  Nick  \n"
          ]
        }
      ]
    },
    {
      "cell_type": "code",
      "source": [
        "x=input(\"Enter your name:\")\n",
        "print((x+\"  \")*10)"
      ],
      "metadata": {
        "colab": {
          "base_uri": "https://localhost:8080/"
        },
        "id": "6Wyzx4TlhKYB",
        "outputId": "cd86818a-10de-4ecb-c92d-cc4fa7b3834a"
      },
      "execution_count": 22,
      "outputs": [
        {
          "output_type": "stream",
          "name": "stdout",
          "text": [
            "Enter your name:Kate\n",
            "Kate  Kate  Kate  Kate  Kate  Kate  Kate  Kate  Kate  Kate  \n"
          ]
        }
      ]
    },
    {
      "cell_type": "code",
      "source": [
        "sep = ' '"
      ],
      "metadata": {
        "id": "5iRi9tY1JiQc"
      },
      "execution_count": null,
      "outputs": []
    },
    {
      "cell_type": "code",
      "source": [
        "print ('my','home',sep='!!!')"
      ],
      "metadata": {
        "colab": {
          "base_uri": "https://localhost:8080/"
        },
        "id": "l9yBbbiLKQUV",
        "outputId": "9eee3af7-e121-4738-83d8-3a7ce5d12e36"
      },
      "execution_count": 27,
      "outputs": [
        {
          "output_type": "stream",
          "name": "stdout",
          "text": [
            "my!!!home\n"
          ]
        }
      ]
    },
    {
      "cell_type": "code",
      "source": [
        "print(\"Nick\",\"Nick\",\"Nick\",\"Nick\",\"Nick\",\"Nick\",\"Nick\",\"Nick\",\"Nick\",\"Nick\", sep=\"-\")"
      ],
      "metadata": {
        "colab": {
          "base_uri": "https://localhost:8080/"
        },
        "id": "wOif7DapMH7Y",
        "outputId": "28b1c64f-4c3f-44ea-cedd-cf71d6a43282"
      },
      "execution_count": 28,
      "outputs": [
        {
          "output_type": "stream",
          "name": "stdout",
          "text": [
            "Nick-Nick-Nick-Nick-Nick-Nick-Nick-Nick-Nick-Nick\n"
          ]
        }
      ]
    },
    {
      "cell_type": "markdown",
      "source": [
        "**Task 8**\n",
        "\n",
        "Use the program to help Nick type the last name and first name of any friend through 3 spaces."
      ],
      "metadata": {
        "id": "-nx7ItstAkYI"
      }
    },
    {
      "cell_type": "code",
      "source": [
        "surname = input(\"Insert the last name \")\n",
        "name = input(\"Insert the first name \")\n",
        "print (surname, \" \", name)"
      ],
      "metadata": {
        "colab": {
          "base_uri": "https://localhost:8080/"
        },
        "id": "7zPl4SrhrJEj",
        "outputId": "2ef7d570-ae2c-4419-d2a1-ad2ab2c18356"
      },
      "execution_count": 29,
      "outputs": [
        {
          "output_type": "stream",
          "name": "stdout",
          "text": [
            "Insert the last name О\n",
            "Insert the first name л\n",
            "О   л\n"
          ]
        }
      ]
    },
    {
      "cell_type": "code",
      "source": [
        "surname = input(\"Insert the last name \")\n",
        "name = input(\"Insert the first name \")\n",
        "print (surname,name,sep= '   ' )"
      ],
      "metadata": {
        "colab": {
          "base_uri": "https://localhost:8080/"
        },
        "id": "NB7WPpXRMaWj",
        "outputId": "7dd61c57-d073-4ce9-ea85-8d9fdd07517a"
      },
      "execution_count": 32,
      "outputs": [
        {
          "output_type": "stream",
          "name": "stdout",
          "text": [
            "Insert the last name K\n",
            "Insert the first name P\n",
            "K   P\n"
          ]
        }
      ]
    },
    {
      "cell_type": "code",
      "source": [
        "print ('g','l','p',sep= '!!!' )"
      ],
      "metadata": {
        "colab": {
          "base_uri": "https://localhost:8080/"
        },
        "id": "KmU-B3zBNUMr",
        "outputId": "ca899d8f-3eb1-42d4-802b-7904782a8810"
      },
      "execution_count": 33,
      "outputs": [
        {
          "output_type": "stream",
          "name": "stdout",
          "text": [
            "g!!!l!!!p\n"
          ]
        }
      ]
    },
    {
      "cell_type": "code",
      "source": [
        "print (1,2,3,sep= '!!!' )"
      ],
      "metadata": {
        "colab": {
          "base_uri": "https://localhost:8080/"
        },
        "id": "zjws7FswNlsT",
        "outputId": "3a3a96ba-880a-4a34-e2f1-40fb402f7f73"
      },
      "execution_count": 34,
      "outputs": [
        {
          "output_type": "stream",
          "name": "stdout",
          "text": [
            "1!!!2!!!3\n"
          ]
        }
      ]
    },
    {
      "cell_type": "code",
      "source": [
        "print (1,'2','j',sep= '!!!' )"
      ],
      "metadata": {
        "colab": {
          "base_uri": "https://localhost:8080/"
        },
        "id": "LXp-__SgNshp",
        "outputId": "475f0204-d0a8-4767-9446-583eebdca767"
      },
      "execution_count": 35,
      "outputs": [
        {
          "output_type": "stream",
          "name": "stdout",
          "text": [
            "1!!!2!!!j\n"
          ]
        }
      ]
    },
    {
      "cell_type": "markdown",
      "source": [
        "**Task**\n",
        "\n",
        "Print a number in which first there are 10 ones, then 9 twos, then 8 threes\n",
        "\n",
        "Output:111111111122222222233333333"
      ],
      "metadata": {
        "id": "zNAGOYmBHrIj"
      }
    },
    {
      "cell_type": "code",
      "source": [
        "print ('1' *10 + '2' *9 + '3'*8)"
      ],
      "metadata": {
        "colab": {
          "base_uri": "https://localhost:8080/"
        },
        "id": "kIuTyAOvrTup",
        "outputId": "a3f93424-4bcb-4c82-e931-f6c78217ad7c"
      },
      "execution_count": 36,
      "outputs": [
        {
          "output_type": "stream",
          "name": "stdout",
          "text": [
            "111111111122222222233333333\n"
          ]
        }
      ]
    },
    {
      "cell_type": "code",
      "source": [
        "print ('1' *10,'2' *9,'3'*8)"
      ],
      "metadata": {
        "colab": {
          "base_uri": "https://localhost:8080/"
        },
        "id": "L6JwAUVBQfIe",
        "outputId": "25410d72-fbf6-4a4f-b6c9-4e3d2a9d60cc"
      },
      "execution_count": 37,
      "outputs": [
        {
          "output_type": "stream",
          "name": "stdout",
          "text": [
            "1111111111 222222222 33333333\n"
          ]
        }
      ]
    },
    {
      "cell_type": "markdown",
      "source": [
        "**Task**\n",
        "\n",
        "Print the syllable \"kwa\" 20 times, the syllables should be separated by a hyphen.\n",
        "\n",
        "Output: kwa-kwa-kwa-kwa-kwa-etc."
      ],
      "metadata": {
        "id": "Shia13ZKINHk"
      }
    },
    {
      "cell_type": "code",
      "source": [
        "print(('kwa' + \"-\") * 19 +'kwa')\n",
        "print (('kwa-')* 19 +'kwa')"
      ],
      "metadata": {
        "id": "viqJXlB3IYPX",
        "colab": {
          "base_uri": "https://localhost:8080/"
        },
        "outputId": "a5077b90-1396-4986-8d2f-36eb9e3ba37c"
      },
      "execution_count": null,
      "outputs": [
        {
          "output_type": "stream",
          "name": "stdout",
          "text": [
            "kwa-kwa-kwa-kwa-kwa-kwa-kwa-kwa-kwa-kwa-kwa-kwa-kwa-kwa-kwa-kwa-kwa-kwa-kwa-kwa\n"
          ]
        }
      ]
    },
    {
      "cell_type": "code",
      "source": [
        "print(('kwa' + \"-\") * 20)"
      ],
      "metadata": {
        "colab": {
          "base_uri": "https://localhost:8080/"
        },
        "id": "93-bGge6sfVa",
        "outputId": "fc3bd82f-f472-4042-c9cd-4fd57c6da6f7"
      },
      "execution_count": null,
      "outputs": [
        {
          "output_type": "stream",
          "name": "stdout",
          "text": [
            "kwa-kwa-kwa-kwa-kwa-kwa-kwa-kwa-kwa-kwa-kwa-kwa-kwa-kwa-kwa-kwa-kwa-kwa-kwa-kwa-\n"
          ]
        }
      ]
    },
    {
      "cell_type": "markdown",
      "metadata": {
        "id": "Ax_6wdjepgjA"
      },
      "source": [
        "### User Input\n",
        "\n",
        "We can instruct Python to pause and read data from the user using **the input()  function.\n",
        "\n",
        "!!! The input()  function returns a string !!!\n"
      ]
    },
    {
      "cell_type": "code",
      "execution_count": null,
      "metadata": {
        "id": "gfuK9CfCpgjB",
        "outputId": "e9609678-42dd-47e2-ff30-c5a96cc1ca79",
        "colab": {
          "base_uri": "https://localhost:8080/"
        }
      },
      "outputs": [
        {
          "name": "stdout",
          "output_type": "stream",
          "text": [
            "Who are you? Kate\n"
          ]
        },
        {
          "output_type": "execute_result",
          "data": {
            "text/plain": [
              "str"
            ]
          },
          "metadata": {},
          "execution_count": 7
        }
      ],
      "source": [
        "name = input('Who are you? ')\n",
        "type(name)\n"
      ]
    },
    {
      "cell_type": "code",
      "execution_count": null,
      "metadata": {
        "id": "gjJW4UhLpgjB",
        "outputId": "ca09af4e-aa2c-488e-9fd3-8ce95b7a29e1",
        "colab": {
          "base_uri": "https://localhost:8080/"
        }
      },
      "outputs": [
        {
          "output_type": "stream",
          "name": "stdout",
          "text": [
            "Welcome, Kate!\n"
          ]
        }
      ],
      "source": [
        "print('Welcome,', name + '!')"
      ]
    },
    {
      "cell_type": "code",
      "source": [
        "print('Welcome,'+ name + '!')"
      ],
      "metadata": {
        "colab": {
          "base_uri": "https://localhost:8080/"
        },
        "id": "cOekQLKVtECX",
        "outputId": "a17889e2-7af5-4471-b1ec-ac07343376bd"
      },
      "execution_count": null,
      "outputs": [
        {
          "output_type": "stream",
          "name": "stdout",
          "text": [
            "Welcome,Kate!\n"
          ]
        }
      ]
    },
    {
      "cell_type": "code",
      "execution_count": null,
      "metadata": {
        "id": "08KXeEmmpgjB",
        "outputId": "73f5c549-1219-4539-b419-e0b519db49c0",
        "colab": {
          "base_uri": "https://localhost:8080/"
        }
      },
      "outputs": [
        {
          "name": "stdout",
          "output_type": "stream",
          "text": [
            "1234\n"
          ]
        },
        {
          "output_type": "execute_result",
          "data": {
            "text/plain": [
              "int"
            ]
          },
          "metadata": {},
          "execution_count": 12
        }
      ],
      "source": [
        "x = int(input())\n",
        "type(x)"
      ]
    },
    {
      "cell_type": "code",
      "execution_count": null,
      "metadata": {
        "id": "X8PhEzw5pgjB",
        "outputId": "f206c623-9040-42d0-f398-0e04099f7da7"
      },
      "outputs": [
        {
          "name": "stdout",
          "output_type": "stream",
          "text": [
            "1\n"
          ]
        },
        {
          "data": {
            "text/plain": [
              "str"
            ]
          },
          "execution_count": 50,
          "metadata": {},
          "output_type": "execute_result"
        }
      ],
      "source": [
        "x = input()\n",
        "type(x)"
      ]
    },
    {
      "cell_type": "markdown",
      "metadata": {
        "id": "4D20p7expgjC"
      },
      "source": [
        "### Converting User Input\n",
        "If we want to read a number from the user, we must convert it from a string to a number using a type conversion function.\n",
        "\n",
        "int(input()) - for integers\n",
        "\n",
        "float(input()) - for floats\n"
      ]
    },
    {
      "cell_type": "code",
      "execution_count": null,
      "metadata": {
        "id": "WCw5IKq1pgjC",
        "outputId": "30b2fa46-29ea-40d7-f1ef-96b522fa9e0a"
      },
      "outputs": [
        {
          "name": "stdout",
          "output_type": "stream",
          "text": [
            "Distance in km? 100\n",
            "Distance in miles 62.13711922373339\n"
          ]
        }
      ],
      "source": [
        "eu = input ('Distance in km? ')\n",
        "us = int(eu)/ 1.609344\n",
        "print ('Distance in miles', us)"
      ]
    },
    {
      "cell_type": "code",
      "execution_count": null,
      "metadata": {
        "id": "kn-Dx-xMpgjC",
        "outputId": "ee0a6d9b-7e9d-4637-b943-19fe1f4b1cce"
      },
      "outputs": [
        {
          "name": "stdout",
          "output_type": "stream",
          "text": [
            "Distance in km? 100\n",
            "Distance in miles 62.13711922373339\n"
          ]
        }
      ],
      "source": [
        "eu = int(input ('Distance in km? '))\n",
        "us = eu/ 1.609344\n",
        "print ('Distance in miles', us)"
      ]
    },
    {
      "cell_type": "markdown",
      "metadata": {
        "id": "hjNP2m4ipgjC"
      },
      "source": [
        "### Task 9\n",
        "\n",
        "Write a program to prompt the user for hours and rate per hour to compute gross pay.\n",
        "\n",
        "Enter Hours: 35\n",
        "\n",
        "Enter Rate: 2.75\n",
        "\n",
        "Pay: 96.25\n"
      ]
    },
    {
      "cell_type": "code",
      "execution_count": null,
      "metadata": {
        "id": "iQCzoGfgpgjC",
        "colab": {
          "base_uri": "https://localhost:8080/"
        },
        "outputId": "eadcf9ec-74e6-4ab3-bd33-2e056c809cbd"
      },
      "outputs": [
        {
          "output_type": "stream",
          "name": "stdout",
          "text": [
            "Enter hours 35\n",
            "Enter rate 2.75\n",
            "96.25\n"
          ]
        }
      ],
      "source": [
        "hours, rate=float(input('Enter hours ')), float(input(\"Enter rate \"))\n",
        "pay=hours*rate\n",
        "print(pay)"
      ]
    },
    {
      "cell_type": "code",
      "source": [
        "hours=float(input('Enter hours '))\n",
        "rate=float(input(\"Enter rate \"))\n",
        "print(\"Pay=\",hours*rate)"
      ],
      "metadata": {
        "colab": {
          "base_uri": "https://localhost:8080/"
        },
        "id": "I78ze1KewHxI",
        "outputId": "7e6a8753-d8c6-44f3-e85c-0ab167a9813d"
      },
      "execution_count": 38,
      "outputs": [
        {
          "output_type": "stream",
          "name": "stdout",
          "text": [
            "Enter hours 35\n",
            "Enter rate 2.75\n",
            "Pay= 96.25\n"
          ]
        }
      ]
    },
    {
      "cell_type": "code",
      "source": [
        "hours=float(input('Enter hours '))\n",
        "rate=float(input(\"Enter rate \"))\n",
        "print(\"Pay=\",hours*rate,sep=' ')"
      ],
      "metadata": {
        "colab": {
          "base_uri": "https://localhost:8080/"
        },
        "id": "yH9nb3oOTcoC",
        "outputId": "b08e7b2e-c0ba-42cb-90d9-1975f11d7e8b"
      },
      "execution_count": 39,
      "outputs": [
        {
          "output_type": "stream",
          "name": "stdout",
          "text": [
            "Enter hours 35\n",
            "Enter rate 2.75\n",
            "Pay= 96.25\n"
          ]
        }
      ]
    },
    {
      "cell_type": "code",
      "source": [
        "hours=int(input('Enter hours '))\n",
        "rate=int(input(\"Enter rate \"))\n",
        "print(\"Pay:\",hours*rate)"
      ],
      "metadata": {
        "colab": {
          "base_uri": "https://localhost:8080/",
          "height": 211
        },
        "id": "G2m6G12Kw9zo",
        "outputId": "46ed97f4-5dd6-488d-ae12-12ffcf665c4a"
      },
      "execution_count": null,
      "outputs": [
        {
          "name": "stdout",
          "output_type": "stream",
          "text": [
            "Enter hours 35\n",
            "Enter rate 2.75\n"
          ]
        },
        {
          "output_type": "error",
          "ename": "ValueError",
          "evalue": "invalid literal for int() with base 10: '2.75'",
          "traceback": [
            "\u001b[0;31m---------------------------------------------------------------------------\u001b[0m",
            "\u001b[0;31mValueError\u001b[0m                                Traceback (most recent call last)",
            "\u001b[0;32m<ipython-input-15-4d6dc8b2435c>\u001b[0m in \u001b[0;36m<cell line: 2>\u001b[0;34m()\u001b[0m\n\u001b[1;32m      1\u001b[0m \u001b[0mhours\u001b[0m\u001b[0;34m=\u001b[0m\u001b[0mint\u001b[0m\u001b[0;34m(\u001b[0m\u001b[0minput\u001b[0m\u001b[0;34m(\u001b[0m\u001b[0;34m'Enter hours '\u001b[0m\u001b[0;34m)\u001b[0m\u001b[0;34m)\u001b[0m\u001b[0;34m\u001b[0m\u001b[0;34m\u001b[0m\u001b[0m\n\u001b[0;32m----> 2\u001b[0;31m \u001b[0mrate\u001b[0m\u001b[0;34m=\u001b[0m\u001b[0mint\u001b[0m\u001b[0;34m(\u001b[0m\u001b[0minput\u001b[0m\u001b[0;34m(\u001b[0m\u001b[0;34m\"Enter rate \"\u001b[0m\u001b[0;34m)\u001b[0m\u001b[0;34m)\u001b[0m\u001b[0;34m\u001b[0m\u001b[0;34m\u001b[0m\u001b[0m\n\u001b[0m\u001b[1;32m      3\u001b[0m \u001b[0mprint\u001b[0m\u001b[0;34m(\u001b[0m\u001b[0;34m\"Pay:\"\u001b[0m\u001b[0;34m,\u001b[0m\u001b[0mhours\u001b[0m\u001b[0;34m*\u001b[0m\u001b[0mrate\u001b[0m\u001b[0;34m)\u001b[0m\u001b[0;34m\u001b[0m\u001b[0;34m\u001b[0m\u001b[0m\n",
            "\u001b[0;31mValueError\u001b[0m: invalid literal for int() with base 10: '2.75'"
          ]
        }
      ]
    },
    {
      "cell_type": "code",
      "source": [
        "hours=int(input('Enter hours '))\n",
        "rate=float(input(\"Enter rate \"))\n",
        "print(\"Pay:\",hours*rate)"
      ],
      "metadata": {
        "colab": {
          "base_uri": "https://localhost:8080/"
        },
        "id": "yqCE8etcTzeq",
        "outputId": "cb5c019a-ef19-43eb-ba84-5e4c1010cbb6"
      },
      "execution_count": 40,
      "outputs": [
        {
          "output_type": "stream",
          "name": "stdout",
          "text": [
            "Enter hours 35\n",
            "Enter rate 2.75\n",
            "Pay: 96.25\n"
          ]
        }
      ]
    },
    {
      "cell_type": "code",
      "execution_count": null,
      "metadata": {
        "id": "AR5Sso-2pgjC"
      },
      "outputs": [],
      "source": [
        "hours=float(input('Enter hours '))\n",
        "rate=float(input(\"Enter rate \"))\n",
        "pay=hours*rate\n",
        "print(pay)"
      ]
    },
    {
      "cell_type": "markdown",
      "metadata": {
        "id": "ExIchwCvpgjC"
      },
      "source": [
        "### Task 10\n",
        "\n",
        "Write a program that asks the user from the keyboard his height in centimeters, his weight in kilograms (each indicator - a new line, in a new query) and returns the following message:\n",
        "\n",
        "Body mass index: [value].\n",
        "\n",
        "where  [value] is the calculated value of the body mass index.\n",
        "\n",
        "The body mass index is calculated in the following way:\n",
        "\n",
        "BMI=m/h2\n",
        "\n",
        "where m is body weight in kilograms, h is height in meters."
      ]
    },
    {
      "cell_type": "code",
      "execution_count": null,
      "metadata": {
        "id": "Mk9VMG-_pgjD",
        "colab": {
          "base_uri": "https://localhost:8080/"
        },
        "outputId": "8687104d-f5d3-44b7-fdf9-5b9f85eeed8e"
      },
      "outputs": [
        {
          "output_type": "stream",
          "name": "stdout",
          "text": [
            "enter your height in centimeters:150\n",
            "enter your weight in kilograms:150\n",
            "body mass index:  66.66666666666667\n"
          ]
        }
      ],
      "source": [
        "a=float(input(\"enter your height in centimeters:\"))\n",
        "b=float(input(\"enter your weight in kilograms:\"))\n",
        "c=a/100\n",
        "bmi=b/(c**2)\n",
        "print(\"body mass index: \", bmi)\n"
      ]
    },
    {
      "cell_type": "code",
      "execution_count": null,
      "metadata": {
        "id": "SMoQkv30pgjD",
        "colab": {
          "base_uri": "https://localhost:8080/"
        },
        "outputId": "c697224d-9059-449b-b679-4c9044829d12"
      },
      "outputs": [
        {
          "output_type": "stream",
          "name": "stdout",
          "text": [
            "enter the mass, kg: 150\n",
            "enter the height, cm: 150\n",
            "BMI: 66.66666666666667\n"
          ]
        }
      ],
      "source": [
        "a = float(input ('enter the mass, kg: '))\n",
        "b = float(input ('enter the height, cm: '))\n",
        "print ('BMI:',(a/(b/100)**2))"
      ]
    },
    {
      "cell_type": "code",
      "source": [
        "a,b = float(input ('enter the mass, kg: ')),float(input ('enter the height, cm: '))\n",
        "print ('BMI:',(a/(b/100)**2))"
      ],
      "metadata": {
        "colab": {
          "base_uri": "https://localhost:8080/"
        },
        "id": "xPblgSVm0lXl",
        "outputId": "e84483e3-4804-4207-e58f-def9f8b111a8"
      },
      "execution_count": null,
      "outputs": [
        {
          "output_type": "stream",
          "name": "stdout",
          "text": [
            "enter the mass, kg: 150\n",
            "enter the height, cm: 150\n",
            "BMI: 66.66666666666667\n"
          ]
        }
      ]
    }
  ],
  "metadata": {
    "kernelspec": {
      "display_name": "Python 3 (ipykernel)",
      "language": "python",
      "name": "python3"
    },
    "language_info": {
      "codemirror_mode": {
        "name": "ipython",
        "version": 3
      },
      "file_extension": ".py",
      "mimetype": "text/x-python",
      "name": "python",
      "nbconvert_exporter": "python",
      "pygments_lexer": "ipython3",
      "version": "3.11.4"
    },
    "colab": {
      "provenance": [],
      "include_colab_link": true
    }
  },
  "nbformat": 4,
  "nbformat_minor": 0
}