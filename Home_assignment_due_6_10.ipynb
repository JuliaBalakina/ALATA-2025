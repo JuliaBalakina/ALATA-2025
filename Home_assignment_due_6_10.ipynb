{
  "nbformat": 4,
  "nbformat_minor": 0,
  "metadata": {
    "colab": {
      "provenance": [],
      "authorship_tag": "ABX9TyNK06QnAD+s7eZjQHEq5smD",
      "include_colab_link": true
    },
    "kernelspec": {
      "name": "python3",
      "display_name": "Python 3"
    },
    "language_info": {
      "name": "python"
    }
  },
  "cells": [
    {
      "cell_type": "markdown",
      "metadata": {
        "id": "view-in-github",
        "colab_type": "text"
      },
      "source": [
        "<a href=\"https://colab.research.google.com/github/JuliaBalakina/ALATA-2025/blob/main/Home_assignment_due_6_10.ipynb\" target=\"_parent\"><img src=\"https://colab.research.google.com/assets/colab-badge.svg\" alt=\"Open In Colab\"/></a>"
      ]
    },
    {
      "cell_type": "markdown",
      "source": [
        "**Task 1**\n",
        "\n",
        "Create a program that outputs \"Yes\" for two entered integers if оne of the numbers is divisible by the other without leaving a remainder, and \"No\" in all other cases."
      ],
      "metadata": {
        "id": "hV7Suek1oQ0Z"
      }
    },
    {
      "cell_type": "code",
      "source": [],
      "metadata": {
        "id": "kDBabceSoZNy"
      },
      "execution_count": null,
      "outputs": []
    },
    {
      "cell_type": "markdown",
      "source": [
        "**Task 2**\n",
        "\n",
        "Find the sum of numbers that are multiples of 3, from 1 to N (inclusive), using the while loop.\n",
        "\n",
        "Enter the natural number N, output the sum.\n",
        "\n",
        "\n",
        "Example:\n",
        "Enter a natural number N: 10\n",
        "The sum of numbers divisible by 3 up to 10: 18\n"
      ],
      "metadata": {
        "id": "92jVnIW_oZ66"
      }
    },
    {
      "cell_type": "code",
      "source": [],
      "metadata": {
        "id": "5IuCZ50uo-of"
      },
      "execution_count": null,
      "outputs": []
    },
    {
      "cell_type": "markdown",
      "source": [
        "**Task 3**\n",
        "\n",
        "Check to see if a string has the same amount of numbers and letters.\n",
        "\n",
        "The method must return a boolean (True or False) and be case insensitive.\n",
        "\n",
        "The string can contain any character."
      ],
      "metadata": {
        "id": "gBHM_vAso_Z1"
      }
    },
    {
      "cell_type": "code",
      "source": [],
      "metadata": {
        "id": "CRuqtOJopPZV"
      },
      "execution_count": null,
      "outputs": []
    },
    {
      "cell_type": "markdown",
      "source": [
        "**Task 4**\n",
        "\n",
        "Develop a program that removes all spaces from the provided string using a for loop."
      ],
      "metadata": {
        "id": "W8hLAd7Dp3V-"
      }
    },
    {
      "cell_type": "code",
      "source": [],
      "metadata": {
        "id": "v9O06mWUq83G"
      },
      "execution_count": null,
      "outputs": []
    },
    {
      "cell_type": "markdown",
      "source": [
        "**Task 5**\n",
        "\n",
        "Write a program that sorts the characters of a given string alphabetically."
      ],
      "metadata": {
        "id": "d5OV7Y11q9KI"
      }
    },
    {
      "cell_type": "code",
      "source": [],
      "metadata": {
        "id": "WWH2zGugvs8b"
      },
      "execution_count": null,
      "outputs": []
    },
    {
      "cell_type": "markdown",
      "source": [
        "**Task 6**\n",
        "\n",
        "Determine whether a given word is a palindrome (reads the same forwards as backwards)."
      ],
      "metadata": {
        "id": "ruKHiSB9v4K5"
      }
    },
    {
      "cell_type": "code",
      "source": [],
      "metadata": {
        "id": "GVyMRDTMwGpb"
      },
      "execution_count": null,
      "outputs": []
    }
  ]
}