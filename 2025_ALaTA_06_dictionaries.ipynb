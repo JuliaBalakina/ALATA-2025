{
  "cells": [
    {
      "cell_type": "markdown",
      "metadata": {
        "id": "view-in-github",
        "colab_type": "text"
      },
      "source": [
        "<a href=\"https://colab.research.google.com/github/JuliaBalakina/ALATA-2025/blob/main/2025_ALaTA_06_dictionaries.ipynb\" target=\"_parent\"><img src=\"https://colab.research.google.com/assets/colab-badge.svg\" alt=\"Open In Colab\"/></a>"
      ]
    },
    {
      "cell_type": "markdown",
      "metadata": {
        "id": "jlqhdgJBTCyf"
      },
      "source": [
        "### Dictionaries\n",
        "\n",
        "A dictionary is like a list, but more general.\n",
        "\n",
        "A set of indices in a dictionary is called **keys**. Each key maps to a **value**.\n",
        "\n",
        "The association of a\n",
        "key and a value is called a key-value pair or sometimes an item.\n",
        "\n",
        "The curly brackets, {}, represent an empty dictionary.\n",
        "\n",
        "To add items to the dictionary,you can use square brackets:"
      ]
    },
    {
      "cell_type": "code",
      "execution_count": null,
      "metadata": {
        "id": "Pf-7NWhpTCyh",
        "outputId": "3e64a4b3-1454-4f9e-8399-908916f9de6b"
      },
      "outputs": [
        {
          "name": "stdout",
          "output_type": "stream",
          "text": [
            "{'one': 'ein', 'two': 'zwei', 'three': 'drei'}\n"
          ]
        }
      ],
      "source": [
        "languages = {}\n",
        "languages ['one']= 'ein'\n",
        "languages ['two']= 'zwei'\n",
        "languages ['three']= 'drei'\n",
        "print(languages)"
      ]
    },
    {
      "cell_type": "markdown",
      "metadata": {
        "id": "dsvF1golTCyj"
      },
      "source": [
        "If we print the dictionary, we see **a key-value pair** with a colon between the key\n",
        "and value.\n",
        "\n",
        "The key **'one'** maps the value **'ein'** etc.\n",
        "\n",
        "The **len** function works on dictionaries; it returns the number of key-value pairs:"
      ]
    },
    {
      "cell_type": "code",
      "execution_count": null,
      "metadata": {
        "id": "PJsWnPjSTCyk",
        "outputId": "69dd412a-0170-492d-e806-a6fc950483eb"
      },
      "outputs": [
        {
          "name": "stdout",
          "output_type": "stream",
          "text": [
            "3\n"
          ]
        }
      ],
      "source": [
        "print(len(languages))"
      ]
    },
    {
      "cell_type": "markdown",
      "metadata": {
        "id": "8qwpGLUtTCyl"
      },
      "source": [
        "The **in** operator works on dictionaries; it tells you whether something appears as\n",
        "a key in the dictionary (appearing as a value is not good enough)."
      ]
    },
    {
      "cell_type": "code",
      "execution_count": null,
      "metadata": {
        "id": "qKjJ6AiKTCyl",
        "outputId": "a9264620-9487-47b6-9ecf-228e804e9ba5",
        "colab": {
          "base_uri": "https://localhost:8080/"
        }
      },
      "outputs": [
        {
          "output_type": "execute_result",
          "data": {
            "text/plain": [
              "True"
            ]
          },
          "metadata": {},
          "execution_count": 5
        }
      ],
      "source": [
        "'one' in languages\n",
        "\n"
      ]
    },
    {
      "cell_type": "markdown",
      "metadata": {
        "id": "MIOduRR1TCym"
      },
      "source": [
        "To see whether something appears as a value in a dictionary, you can use the\n",
        "method **values**, which returns the values as a type that can be converted to a list,\n",
        "and then use the **in** operator:"
      ]
    },
    {
      "cell_type": "code",
      "execution_count": null,
      "metadata": {
        "id": "C7sSh4rzTCyn",
        "outputId": "ba89762c-a578-4dab-e2ff-83fc1fa0eb6c"
      },
      "outputs": [
        {
          "name": "stdout",
          "output_type": "stream",
          "text": [
            "['ein', 'zwei', 'drei']\n"
          ]
        },
        {
          "data": {
            "text/plain": [
              "True"
            ]
          },
          "execution_count": 6,
          "metadata": {},
          "output_type": "execute_result"
        }
      ],
      "source": [
        "val = list(languages.values())\n",
        "print(val)\n",
        "'zwei' in val"
      ]
    },
    {
      "cell_type": "markdown",
      "metadata": {
        "id": "4hfAEqGOTCyo"
      },
      "source": [
        "### Example\n",
        "\n",
        "Suppose you are given a string and you want to count how many times each letter appears.\n",
        "\n",
        "You could create a dictionary with characters as keys and counters as the\n",
        "corresponding values.\n",
        "\n",
        "The first time you see a character, you would add\n",
        "an item to the dictionary.\n",
        "\n",
        "After that you would increment the value of an\n",
        "existing item."
      ]
    },
    {
      "cell_type": "code",
      "execution_count": null,
      "metadata": {
        "id": "RNBWfhCTTCyp",
        "outputId": "736e4c20-cafc-4c2a-f33b-fa4af9238b2b"
      },
      "outputs": [
        {
          "name": "stdout",
          "output_type": "stream",
          "text": [
            "{'b': 1, 'a': 3, 'n': 2}\n"
          ]
        }
      ],
      "source": [
        "word = 'banana'\n",
        "d = dict()\n",
        "for i in word:\n",
        "    if i not in d:\n",
        "        d[i] = 1\n",
        "    else:\n",
        "        d[i] = d[i] + 1 ## +=1\n",
        "print(d)"
      ]
    },
    {
      "cell_type": "markdown",
      "metadata": {
        "id": "ekmEL3O_TCyq"
      },
      "source": [
        "Dictionaries have a method called **get** that takes a key and a default value.\n",
        "\n",
        "If the key appears in the dictionary, get returns the corresponding value; otherwise it\n",
        "returns the default value.\n",
        "\n",
        "For example:"
      ]
    },
    {
      "cell_type": "code",
      "execution_count": null,
      "metadata": {
        "id": "v0UE2BmzTCyr",
        "outputId": "a90bef4d-ea0f-4982-8a59-707d0e84dd8b"
      },
      "outputs": [
        {
          "name": "stdout",
          "output_type": "stream",
          "text": [
            "ein\n"
          ]
        }
      ],
      "source": [
        "print(languages.get('one'))"
      ]
    },
    {
      "cell_type": "code",
      "execution_count": null,
      "metadata": {
        "id": "QARWGO-uTCyt",
        "outputId": "efc04b19-a496-4d01-c24c-f10148d22103"
      },
      "outputs": [
        {
          "name": "stdout",
          "output_type": "stream",
          "text": [
            "None\n"
          ]
        }
      ],
      "source": [
        "print(languages.get('four'))"
      ]
    },
    {
      "cell_type": "code",
      "execution_count": null,
      "metadata": {
        "id": "mF1jTtUHTCyt",
        "outputId": "7e714dc9-4adb-4501-8a7e-cc553135592f"
      },
      "outputs": [
        {
          "name": "stdout",
          "output_type": "stream",
          "text": [
            "0\n",
            "not found\n"
          ]
        }
      ],
      "source": [
        "print(languages.get('four',0))  ### if there is no key \"four\", return -0.\n",
        "print(languages.get('four', 'not found')) ### if there is no key \"four\", return -\"not found\"."
      ]
    },
    {
      "cell_type": "markdown",
      "metadata": {
        "id": "O-DS83PITCyu"
      },
      "source": [
        "You can delete a single key or clear the entire dictionary using special operations."
      ]
    },
    {
      "cell_type": "code",
      "execution_count": null,
      "metadata": {
        "id": "iYEXrrw6TCyv",
        "outputId": "bdee3e64-4b41-44ba-f185-e75357067b0f"
      },
      "outputs": [
        {
          "name": "stdout",
          "output_type": "stream",
          "text": [
            "{'one': 'ein', 'two': 'zwei'}\n",
            "{}\n"
          ]
        }
      ],
      "source": [
        "del languages[\"three\"]\n",
        "print(languages)\n",
        "languages.clear()\n",
        "print(languages)"
      ]
    },
    {
      "cell_type": "markdown",
      "metadata": {
        "id": "hI0IY7EmTCyw"
      },
      "source": [
        "Dictionaries have three methods by which we can generate a list of keys, values, and a list of key-value pairs."
      ]
    },
    {
      "cell_type": "code",
      "execution_count": null,
      "metadata": {
        "colab": {
          "base_uri": "https://localhost:8080/"
        },
        "id": "QxDXsO3QTCyw",
        "outputId": "f5dd0655-8c6c-4bc2-e5f4-14a5dc7f858a"
      },
      "outputs": [
        {
          "output_type": "stream",
          "name": "stdout",
          "text": [
            "dict_values([1, 3, 2])\n",
            "dict_keys(['b', 'a', 'n'])\n",
            "dict_items([('b', 1), ('a', 3), ('n', 2)])\n"
          ]
        }
      ],
      "source": [
        "d={'b': 1, 'a': 3, 'n': 2}\n",
        "print(d.values())\n",
        "print(d.keys())\n",
        "print(d.items())"
      ]
    },
    {
      "cell_type": "code",
      "execution_count": null,
      "metadata": {
        "id": "0yfNehZ1TCyx",
        "outputId": "07cf45e4-259a-4971-82cd-9a1299d87652"
      },
      "outputs": [
        {
          "data": {
            "text/plain": [
              "['maldecir', 'jurar']"
            ]
          },
          "execution_count": 15,
          "metadata": {},
          "output_type": "execute_result"
        }
      ],
      "source": [
        "my_dict = {'swear' : ['maldecir', 'jurar'], 'dream' : ['dormir', 'sueño']}\n",
        "my_dict['swear'] ### a list"
      ]
    },
    {
      "cell_type": "code",
      "execution_count": null,
      "metadata": {
        "id": "k_tlvYtHTCyy",
        "outputId": "99a83bab-500e-4f8a-9a82-72bd751b0b30"
      },
      "outputs": [
        {
          "data": {
            "text/plain": [
              "'maldecir'"
            ]
          },
          "execution_count": 16,
          "metadata": {},
          "output_type": "execute_result"
        }
      ],
      "source": [
        "my_dict['swear'][0] ### we use index in a list of values"
      ]
    },
    {
      "cell_type": "markdown",
      "metadata": {
        "id": "B9qtCFzdTCyz"
      },
      "source": [
        "The ***update()*** method updates the dictionary with the elements from another dictionary object or from an iterable of key/value pairs."
      ]
    },
    {
      "cell_type": "code",
      "execution_count": null,
      "metadata": {
        "id": "Xjrt2adBTCyz",
        "outputId": "98ccb333-474f-42fc-a77a-6493764bd6bd"
      },
      "outputs": [
        {
          "name": "stdout",
          "output_type": "stream",
          "text": [
            "{'one': 10, 'two': 20, 'three': 30, 'four': 40, 'five': 50}\n"
          ]
        }
      ],
      "source": [
        "x = {'one': 10, 'two': 20, 'three': 10}\n",
        "y = {'three': 30, 'four': 40, 'five': 50}\n",
        "x.update(y)\n",
        "print(x)"
      ]
    },
    {
      "cell_type": "code",
      "execution_count": null,
      "metadata": {
        "id": "yQsyrkM3TCy0",
        "outputId": "13050290-f093-4920-cbcf-63febcc743f2"
      },
      "outputs": [
        {
          "name": "stdout",
          "output_type": "stream",
          "text": [
            "{'one': 10, 'two': 20, 'three': 30, 'four': 40, 'five': 50, 'six': 60}\n"
          ]
        }
      ],
      "source": [
        "z = {'six': 60}\n",
        "x.update (z)\n",
        "print(x)"
      ]
    },
    {
      "cell_type": "markdown",
      "metadata": {
        "id": "VEggp0dxTCy1"
      },
      "source": [
        "The **update()** method adds element(s) to the dictionary if the key is not in the dictionary.\n",
        "\n",
        "If the key is in the dictionary, it updates the key with the new value."
      ]
    },
    {
      "cell_type": "markdown",
      "metadata": {
        "id": "2Vx-adQNTCy1"
      },
      "source": [
        "We may use update() method and pass tuple:"
      ]
    },
    {
      "cell_type": "code",
      "execution_count": null,
      "metadata": {
        "id": "iYag1TPUTCy1",
        "outputId": "dcbfebe0-dd95-4c87-f923-baa346f1ed57"
      },
      "outputs": [
        {
          "name": "stdout",
          "output_type": "stream",
          "text": [
            "{'one': 10, 'two': 20, 'three': 30, 'four': 40, 'five': 50, 'six': 60, 'seven': 70, 'eight': 80}\n"
          ]
        }
      ],
      "source": [
        "x.update(seven = 70, eight = 80)\n",
        "print(x)"
      ]
    },
    {
      "cell_type": "markdown",
      "metadata": {
        "id": "_jl1eGOLTCy2"
      },
      "source": [
        "### Loops\n",
        "\n",
        "In the case of dictionaries, iteration (by default) occurs by keys:"
      ]
    },
    {
      "cell_type": "code",
      "execution_count": null,
      "metadata": {
        "id": "v5WL0tXfTCy2",
        "outputId": "f7ceb2a7-1010-4231-991c-1d6845edc4f8"
      },
      "outputs": [
        {
          "name": "stdout",
          "output_type": "stream",
          "text": [
            "one\n",
            "two\n",
            "three\n",
            "four\n",
            "five\n",
            "six\n",
            "seven\n",
            "eight\n"
          ]
        }
      ],
      "source": [
        "for i in x:\n",
        "    print(i)"
      ]
    },
    {
      "cell_type": "markdown",
      "metadata": {
        "id": "wu_TXzsMTCy3"
      },
      "source": [
        "But the keys can be used to extract the corresponding values."
      ]
    },
    {
      "cell_type": "code",
      "execution_count": null,
      "metadata": {
        "id": "GowqMxEATCy4",
        "outputId": "006c65f6-0af3-423b-e38a-09b4e3e237d1"
      },
      "outputs": [
        {
          "name": "stdout",
          "output_type": "stream",
          "text": [
            "10\n",
            "20\n",
            "30\n",
            "40\n",
            "50\n",
            "60\n",
            "70\n",
            "80\n"
          ]
        }
      ],
      "source": [
        "for i in x:\n",
        "    print(x[i])"
      ]
    },
    {
      "cell_type": "markdown",
      "metadata": {
        "id": "tm0aNatPTCy4"
      },
      "source": [
        "You can also directly specify whether we are iterating over keys, over values, or over pairs of key-values:"
      ]
    },
    {
      "cell_type": "code",
      "execution_count": null,
      "metadata": {
        "id": "p92GXcf2TCy5",
        "outputId": "41a99c7b-58e8-465f-a7e5-8561ad9bc696"
      },
      "outputs": [
        {
          "name": "stdout",
          "output_type": "stream",
          "text": [
            "{'one': 10, 'two': 20, 'three': 30, 'four': 40, 'five': 50, 'six': 60, 'seven': 70, 'eight': 80}\n",
            "10\n",
            "20\n",
            "30\n",
            "40\n",
            "50\n",
            "60\n",
            "70\n",
            "80\n"
          ]
        }
      ],
      "source": [
        "print(x)\n",
        "for v in x.values():\n",
        "    print(v)"
      ]
    },
    {
      "cell_type": "code",
      "execution_count": null,
      "metadata": {
        "id": "385YXFEVTCy5",
        "outputId": "7f96b0df-8d5f-49de-8a66-e7871e4287dc"
      },
      "outputs": [
        {
          "name": "stdout",
          "output_type": "stream",
          "text": [
            "{'one': 10, 'two': 20, 'three': 30, 'four': 40, 'five': 50, 'six': 60, 'seven': 70, 'eight': 80}\n",
            "one\n",
            "two\n",
            "three\n",
            "four\n",
            "five\n",
            "six\n",
            "seven\n",
            "eight\n"
          ]
        }
      ],
      "source": [
        "print(x)\n",
        "for k in x.keys():\n",
        "    print(k)"
      ]
    },
    {
      "cell_type": "code",
      "execution_count": null,
      "metadata": {
        "id": "xM0JRbiATCy6",
        "outputId": "33205844-3df2-413e-f98b-2d9e93d5a841"
      },
      "outputs": [
        {
          "name": "stdout",
          "output_type": "stream",
          "text": [
            "{'one': 10, 'two': 20, 'three': 30, 'four': 40, 'five': 50, 'six': 60, 'seven': 70, 'eight': 80}\n",
            "('one', 10)\n",
            "('two', 20)\n",
            "('three', 30)\n",
            "('four', 40)\n",
            "('five', 50)\n",
            "('six', 60)\n",
            "('seven', 70)\n",
            "('eight', 80)\n"
          ]
        }
      ],
      "source": [
        "print(x)\n",
        "for v in x.items():\n",
        "    print(v)"
      ]
    },
    {
      "cell_type": "markdown",
      "source": [
        "**Task**\n",
        "\n",
        "1. Create an empty dictionary that contains information about the countries of the world, including their names and populations.\n",
        "\n",
        "countries={}\n",
        "\n",
        "2. Add additional keys to the dictionary to include information about the area of ​​each country in square kilometers.\n",
        "\n"
      ],
      "metadata": {
        "id": "XR9ChfyB2uSi"
      }
    },
    {
      "cell_type": "code",
      "source": [
        "countries={}\n",
        "countries [\"name\"]= \"\"\n",
        "countries [\"population\"]= \"\"\n",
        "countries2={\"area\": \"\"}\n",
        "countries.update(countries2)\n",
        "print(countries)"
      ],
      "metadata": {
        "colab": {
          "base_uri": "https://localhost:8080/"
        },
        "id": "Ea6JcLQiQP5_",
        "outputId": "46bf7854-94f4-4d04-c8ff-f742ce893a91"
      },
      "execution_count": null,
      "outputs": [
        {
          "output_type": "stream",
          "name": "stdout",
          "text": [
            "{'name': '', 'population': '', 'area': ''}\n"
          ]
        }
      ]
    },
    {
      "cell_type": "code",
      "source": [
        "countries={}\n",
        "new = {'Madagascar': 9999, \"USA\": 1, \"Greenland\": 0}\n",
        "countries.update(new)\n",
        "print(countries)\n",
        "area={'Madagascar': \"9999 km\", \"USA\": \"0 km\", \"Greenland\": \"228 km\"}\n",
        "countries.update(area)\n",
        "print(countries)"
      ],
      "metadata": {
        "colab": {
          "base_uri": "https://localhost:8080/"
        },
        "id": "tUUgIw-9QnXO",
        "outputId": "a5ff4143-dc74-499e-f19e-0d737d733316"
      },
      "execution_count": null,
      "outputs": [
        {
          "output_type": "stream",
          "name": "stdout",
          "text": [
            "{'Madagascar': 9999, 'USA': 1, 'Greenland': 0}\n",
            "{'Madagascar': '9999 km', 'USA': '0 km', 'Greenland': '228 km'}\n"
          ]
        }
      ]
    },
    {
      "cell_type": "markdown",
      "source": [
        "**Task 1**\n",
        "\n",
        "Go through the dictionary elements and print the key and values.\n",
        "\n",
        "Input:\n",
        "\n",
        "my_dict = {\"name\": \"John\", \"age\": 30, \"height\": 180}\n",
        "\n",
        "Output:\n",
        "\n",
        "name: John\n",
        "\n",
        "age: 30\n",
        "\n",
        "height: 180\n",
        "\n"
      ],
      "metadata": {
        "id": "qO0ZLAau4UvW"
      }
    },
    {
      "cell_type": "code",
      "source": [
        "my_dict = {\"name\": \"John\", \"age\": 30, \"height\": 180}\n",
        "\n"
      ],
      "metadata": {
        "colab": {
          "base_uri": "https://localhost:8080/"
        },
        "id": "r615VvBH4kKm",
        "outputId": "b752450a-ca45-454d-ffe1-c6f815c93a0e"
      },
      "execution_count": null,
      "outputs": [
        {
          "output_type": "stream",
          "name": "stdout",
          "text": [
            "name : John\n",
            "age : 30\n",
            "height : 180\n"
          ]
        }
      ]
    },
    {
      "cell_type": "code",
      "source": [
        "my_dict = {\"name\": \"John\", \"age\": 30, \"height\": 180}\n",
        "for i in my_dict.items():\n",
        "  print(i)"
      ],
      "metadata": {
        "colab": {
          "base_uri": "https://localhost:8080/"
        },
        "id": "lQITH3Jb7_6y",
        "outputId": "c084e5ac-9816-4213-de78-ffb80633d831"
      },
      "execution_count": null,
      "outputs": [
        {
          "output_type": "stream",
          "name": "stdout",
          "text": [
            "('name', 'John')\n",
            "('age', 30)\n",
            "('height', 180)\n"
          ]
        }
      ]
    },
    {
      "cell_type": "code",
      "source": [
        "my_dict = {\"name\": \"John\", \"age\": 30, \"height\": 180}\n",
        "for key, value in my_dict.items():\n",
        "    print(f\"{key}: {value}\")"
      ],
      "metadata": {
        "colab": {
          "base_uri": "https://localhost:8080/"
        },
        "id": "3I2eaNOO8IyD",
        "outputId": "ec47a02b-277a-4a7a-a088-c010d8676f7f"
      },
      "execution_count": null,
      "outputs": [
        {
          "output_type": "stream",
          "name": "stdout",
          "text": [
            "name: John\n",
            "age: 30\n",
            "height: 180\n"
          ]
        }
      ]
    },
    {
      "cell_type": "code",
      "source": [
        "my_dict = {\"name\": \"John\", \"age\": 30, \"height\": 180}\n",
        "for key, value in my_dict.items():\n",
        "    print(key,value)"
      ],
      "metadata": {
        "colab": {
          "base_uri": "https://localhost:8080/"
        },
        "id": "IN2XYF848Ozn",
        "outputId": "6dccf326-9b95-4d93-cf8e-6c1ec22eaa14"
      },
      "execution_count": null,
      "outputs": [
        {
          "output_type": "stream",
          "name": "stdout",
          "text": [
            "name John\n",
            "age 30\n",
            "height 180\n"
          ]
        }
      ]
    },
    {
      "cell_type": "markdown",
      "source": [
        "**Task 2**\n",
        "\n",
        "Loop through the dictionary elements and print the sum of the values ​​in the dictionary.\n",
        "\n",
        "my_dict = {\"a\": 1, \"b\": 2, \"c\": 3}\n",
        "\n",
        "output: 6"
      ],
      "metadata": {
        "id": "fiRE1isl49oQ"
      }
    },
    {
      "cell_type": "code",
      "source": [
        "my_dict = {\"a\": 1, \"b\": 2, \"c\": 3}\n",
        "sum = 0\n",
        "for v in my_dict.values():\n",
        "  sum += v\n",
        "print(sum)"
      ],
      "metadata": {
        "colab": {
          "base_uri": "https://localhost:8080/"
        },
        "id": "iwRzKQ1O8-J3",
        "outputId": "892d8257-b4be-4d9d-cd5b-cbf6a9228602"
      },
      "execution_count": null,
      "outputs": [
        {
          "output_type": "stream",
          "name": "stdout",
          "text": [
            "6\n"
          ]
        }
      ]
    },
    {
      "cell_type": "markdown",
      "source": [
        "**Task 3**\n",
        "\n",
        "Convert the list into a dictionary where the key is a word and the value is the number of letters.\n",
        "\n",
        "original_list = [\"apple\", \"banana\", \"kiwi\"]\n",
        "\n",
        "{'apple': 5, 'banana': 6, 'kiwi': 4}"
      ],
      "metadata": {
        "id": "k41yJaOf5zU3"
      }
    },
    {
      "cell_type": "code",
      "source": [
        "original_list = [\"apple\", \"banana\", \"kiwi\"]\n",
        "new_list={}\n",
        "for i in original_list:\n",
        "  new_list[i]=len(i)\n",
        "print(new_list)"
      ],
      "metadata": {
        "id": "6U7UQmzx5j6o",
        "colab": {
          "base_uri": "https://localhost:8080/"
        },
        "outputId": "86d51bc0-d0c9-4866-d375-4ce18165515a"
      },
      "execution_count": null,
      "outputs": [
        {
          "output_type": "stream",
          "name": "stdout",
          "text": [
            "{'apple': 5, 'banana': 6, 'kiwi': 4}\n"
          ]
        }
      ]
    },
    {
      "cell_type": "code",
      "source": [
        "original_list = [\"apple\", \"banana\", \"kiwi\"]\n",
        "new_list={}\n"
      ],
      "metadata": {
        "colab": {
          "base_uri": "https://localhost:8080/"
        },
        "id": "IMVztIgQUNHJ",
        "outputId": "88fddfff-6b3f-40a2-c2ee-c06f8144198f"
      },
      "execution_count": null,
      "outputs": [
        {
          "output_type": "stream",
          "name": "stdout",
          "text": [
            "{'apple': 5, 'banana': 6, 'kiwi': 4}\n"
          ]
        }
      ]
    },
    {
      "cell_type": "code",
      "source": [
        "orig_list = [\"apple\", \"banana\", \"kiwi\"]\n"
      ],
      "metadata": {
        "colab": {
          "base_uri": "https://localhost:8080/"
        },
        "id": "T0xdnwKbUeAr",
        "outputId": "6484e731-cb2b-4703-da26-6d9e02fdc498"
      },
      "execution_count": null,
      "outputs": [
        {
          "output_type": "stream",
          "name": "stdout",
          "text": [
            "{'apple': 5, 'banana': 6, 'kiwi': 4}\n"
          ]
        }
      ]
    },
    {
      "cell_type": "markdown",
      "source": [
        "**Task 4**\n",
        "\n",
        "Loop through the dictionary elements and remove elements with null values.\n",
        "\n",
        "my_dict = {\"a\": 0, \"b\": 1, \"c\": 0, \"d\": 2}\n",
        "\n",
        "Output: {'b': 1, 'd': 2}"
      ],
      "metadata": {
        "id": "LLsLr3SM6hF2"
      }
    },
    {
      "cell_type": "code",
      "source": [
        "my_dict = {\"a\": 0, \"b\": 1, \"c\": 0, \"d\": 2}\n",
        "new_dict={}\n",
        "for key, value in my_dict.items():\n",
        "    if value != 0:\n",
        "        new_dict[key] = value\n",
        "print(new_dict)\n",
        "\n"
      ],
      "metadata": {
        "id": "9eVGWntW6q46",
        "colab": {
          "base_uri": "https://localhost:8080/"
        },
        "outputId": "f33b777c-967b-430f-e763-48a656263351"
      },
      "execution_count": null,
      "outputs": [
        {
          "output_type": "stream",
          "name": "stdout",
          "text": [
            "{'b': 1, 'd': 2}\n"
          ]
        }
      ]
    },
    {
      "cell_type": "markdown",
      "source": [
        "**Task 5**\n",
        "\n",
        "We have a dictionary where the keys are cities and the values ​​are the number of people living in each city. We want to count the number of unique cities in this dictionary.\n",
        "\n",
        "cities = {\n",
        "    \"Moscow\": 10000000,\n",
        "\n",
        "    \"St.Petersburg\": 5000000,\n",
        "\n",
        "    \"Kazan\": 1200000,\n",
        "\n",
        "    \"Rostov-on_Don\": 1000000,\n",
        "\n",
        "    \"Nizhny Novgorod\": 1000000\n",
        "}\n",
        "\n",
        "Output: 5"
      ],
      "metadata": {
        "id": "8-yIvGMk1tiE"
      }
    },
    {
      "cell_type": "code",
      "source": [
        "cities = {\n",
        "    \"Moscow\": 10000000,\n",
        "    \"St.Petersburg\": 5000000,\n",
        "    \"Kazan\": 1200000,\n",
        "    \"Rostov-on_Don\": 1000000,\n",
        "    \"Nizhny Novgorod\": 1000000\n",
        "}\n",
        "print(len(cities))"
      ],
      "metadata": {
        "colab": {
          "base_uri": "https://localhost:8080/"
        },
        "id": "vDoL0ucqabSH",
        "outputId": "388bc2ae-b4b2-4585-8c89-efe30d7a627e"
      },
      "execution_count": null,
      "outputs": [
        {
          "output_type": "stream",
          "name": "stdout",
          "text": [
            "5\n"
          ]
        }
      ]
    },
    {
      "cell_type": "markdown",
      "metadata": {
        "id": "Lp3MBRReTCy6"
      },
      "source": [
        "### Task 6 H/A\n",
        "\n",
        "You will be given an array of objects representing data about developers who have signed up to attend the coding meetup that you are organising for the first time.\n",
        "\n",
        "Your task is to return the number of JavaScript developers coming from Europe.\n",
        "\n",
        "For example, given the following list:\n",
        "\n",
        "lst = [\n",
        "  { 'firstName': 'Noah', 'lastName': 'M.', 'country': 'Switzerland', 'continent': 'Europe', 'age': 19, 'language': 'JavaScript' },\n",
        "  \n",
        "  { 'firstName': 'Maia', 'lastName': 'S.', 'country': 'Tahiti', 'continent': 'Oceania', 'age': 28, 'language': 'JavaScript' },\n",
        "  \n",
        "  { 'firstName': 'Shufen', 'lastName': 'L.', 'country': 'Taiwan', 'continent': 'Asia', 'age': 35, 'language': 'HTML' },\n",
        "  \n",
        "  { 'firstName': 'Sumayah', 'lastName': 'M.', 'country': 'Tajikistan', 'continent': 'Asia', 'age': 30, 'language': 'CSS' }\n",
        "]\n"
      ]
    },
    {
      "cell_type": "code",
      "execution_count": 1,
      "metadata": {
        "id": "OfzgCxrNTCy7",
        "colab": {
          "base_uri": "https://localhost:8080/"
        },
        "outputId": "24c3c1b7-29bc-480c-dbb1-db2aea559834"
      },
      "outputs": [
        {
          "output_type": "stream",
          "name": "stdout",
          "text": [
            "1\n"
          ]
        }
      ],
      "source": [
        "lst = [{ 'firstName': 'Noah', 'lastName': 'M.', 'country': 'Switzerland', 'continent': 'Europe', 'age': 19, 'language': 'JavaScript' },{ 'firstName': 'Maia', 'lastName': 'S.', 'country': 'Tahiti', 'continent': 'Oceania', 'age': 28, 'language': 'JavaScript' }]\n",
        "count = 0\n",
        "for i in lst:\n",
        "    if i['continent'] == 'Europe' and i['language'] == 'JavaScript':\n",
        "        count += 1\n",
        "print(count)\n"
      ]
    },
    {
      "cell_type": "code",
      "execution_count": 3,
      "metadata": {
        "id": "C03dD129TCy8",
        "colab": {
          "base_uri": "https://localhost:8080/"
        },
        "outputId": "8dd3bac6-0fa1-4838-b1fe-0f0175c6f518"
      },
      "outputs": [
        {
          "output_type": "stream",
          "name": "stdout",
          "text": [
            "dict_values(['Noah', 'M.', 'Switzerland', 'Europe', 19, 'JavaScript'])\n",
            "dict_values(['Maia', 'S.', 'Tahiti', 'Oceania', 28, 'JavaScript'])\n",
            "dict_values(['Shufen', 'L.', 'Taiwan', 'Asia', 35, 'HTML'])\n",
            "dict_values(['Sumayah', 'M.', 'Tajikistan', 'Asia', 30, 'CSS'])\n",
            "1\n"
          ]
        }
      ],
      "source": [
        "lst = [\n",
        "{ 'firstName': 'Noah', 'lastName': 'M.', 'country': 'Switzerland', 'continent': 'Europe', 'age': 19, 'language': 'JavaScript' },\n",
        "\n",
        "{ 'firstName': 'Maia', 'lastName': 'S.', 'country': 'Tahiti', 'continent': 'Oceania', 'age': 28, 'language': 'JavaScript' },\n",
        "\n",
        "{ 'firstName': 'Shufen', 'lastName': 'L.', 'country': 'Taiwan', 'continent': 'Asia', 'age': 35, 'language': 'HTML' },\n",
        "\n",
        "{ 'firstName': 'Sumayah', 'lastName': 'M.', 'country': 'Tajikistan', 'continent': 'Asia', 'age': 30, 'language': 'CSS' }\n",
        "]\n",
        "count=0\n",
        "for d in lst:\n",
        "  v=d.values()\n",
        "  print(v)\n",
        "  if 'Europe' in v and 'JavaScript' in v:\n",
        "    count+=1\n",
        "print(count)\n",
        "\n"
      ]
    },
    {
      "cell_type": "markdown",
      "metadata": {
        "id": "bO9BHjplTCy9"
      },
      "source": [
        "### Task 7\n",
        "\n",
        "You will be given an array of objects representing data about developers who have signed up to attend the next coding meetup that you are organising.\n",
        "\n",
        "Your task is to return:\n",
        "\n",
        "    **true** if at least one Ruby developer has signed up; or\n",
        "    **false** if there will be no Ruby developers.\n",
        "\n",
        "For example, given the following input array:\n",
        "\n",
        "list = [\n",
        "    \n",
        "    { 'firstName': 'Sofia', 'lastName': 'I.', 'country': 'Argentina', 'continent': 'Americas', 'age': 35, 'language': 'Java' },\n",
        "    \n",
        "    { 'firstName': 'Lukas', 'lastName': 'X.', 'country': 'Croatia', 'continent': 'Europe', 'age': 35, 'language': 'Python' },\n",
        "    \n",
        "    { 'firstName': 'Madison', 'lastName': 'U.', 'country': 'United States', 'continent': 'Americas', 'age': 32, 'language': 'Ruby' }\n",
        "    ]\n"
      ]
    },
    {
      "cell_type": "code",
      "execution_count": 4,
      "metadata": {
        "id": "O5W_TbX3TCzf",
        "colab": {
          "base_uri": "https://localhost:8080/"
        },
        "outputId": "b47d631a-d4f3-448c-ac0c-c45e29ac6711"
      },
      "outputs": [
        {
          "output_type": "stream",
          "name": "stdout",
          "text": [
            "True\n"
          ]
        }
      ],
      "source": [
        "list = [\n",
        "\n",
        "{ 'firstName': 'Sofia', 'lastName': 'I.', 'country': 'Argentina', 'continent': 'Americas', 'age': 35, 'language': 'Java' },\n",
        "\n",
        "{ 'firstName': 'Lukas', 'lastName': 'X.', 'country': 'Croatia', 'continent': 'Europe', 'age': 35, 'language': 'Python' },\n",
        "\n",
        "{ 'firstName': 'Madison', 'lastName': 'U.', 'country': 'United States', 'continent': 'Americas', 'age': 32, 'language': 'Ruby' }\n",
        "]\n",
        "Ruby_count = 0\n",
        "for developer in list:\n",
        "    if developer['language'] == 'Ruby':\n",
        "        Ruby_count += 1\n",
        "\n",
        "if Ruby_count > 0:\n",
        "  print ('True')\n",
        "else: print ('False')\n"
      ]
    },
    {
      "cell_type": "code",
      "execution_count": 6,
      "metadata": {
        "id": "nN29ZTc_TCzg",
        "colab": {
          "base_uri": "https://localhost:8080/"
        },
        "outputId": "65b7777d-2333-44f7-e849-12f74d486ddf"
      },
      "outputs": [
        {
          "output_type": "stream",
          "name": "stdout",
          "text": [
            "True\n"
          ]
        }
      ],
      "source": [
        "lst = [ { 'firstName': 'Sofia', 'lastName': 'I.', 'country': 'Argentina', 'continent': 'Americas', 'age': 35, 'language': 'Java' }, { 'firstName': 'Lukas', 'lastName': 'X.', 'country': 'Croatia', 'continent': 'Europe', 'age': 35, 'language': 'Python' }, { 'firstName': 'Madison', 'lastName': 'U.', 'country': 'United States', 'continent': 'Americas', 'age': 32, 'language': 'Ruby' } ]\n",
        "Ruby_count=0\n",
        "for d in lst:\n",
        "  for value in d.values():\n",
        "    if value == \"Ruby\":\n",
        "      Ruby_count += 1\n",
        "if Ruby_count >= 1:\n",
        "  print('True')\n",
        "else:\n",
        "  print('False')"
      ]
    },
    {
      "cell_type": "code",
      "execution_count": 7,
      "metadata": {
        "id": "lMRV5NrJTCzh",
        "colab": {
          "base_uri": "https://localhost:8080/"
        },
        "outputId": "13632c9a-6d81-4a0f-d098-4c55a021f887"
      },
      "outputs": [
        {
          "output_type": "stream",
          "name": "stdout",
          "text": [
            "True\n"
          ]
        }
      ],
      "source": [
        "lst = [ { 'firstName': 'Sofia', 'lastName': 'I.', 'country': 'Argentina', 'continent': 'Americas', 'age': 35, 'language': 'Java' }, { 'firstName': 'Lukas', 'lastName': 'X.', 'country': 'Croatia', 'continent': 'Europe', 'age': 35, 'language': 'Python' }, { 'firstName': 'Madison', 'lastName': 'U.', 'country': 'United States', 'continent': 'Americas', 'age': 32, 'language': 'Ruby' } ]\n",
        "Ruby_count = 0\n",
        "for dictionary in lst:\n",
        "    if dictionary.get('language') == 'Ruby':\n",
        "      Ruby_count += 1\n",
        "print(bool(Ruby_count))"
      ]
    },
    {
      "cell_type": "markdown",
      "metadata": {
        "id": "icbJJYpCTCzi"
      },
      "source": [
        "### Task 8\n",
        "Your task is to return an object which includes the count of each coding language represented at the meetup.\n",
        "\n",
        "For example, given the following input array:\n",
        "\n",
        "lst = [\n",
        "    \n",
        "    { 'firstName': 'Noah', 'lastName': 'M.', 'country': 'Switzerland', 'continent': 'Europe', 'age': 19, 'language': 'C' },\n",
        "    \n",
        "    { 'firstName': 'Anna', 'lastName': 'R.', 'country': 'Liechtenstein', 'continent': 'Europe', 'age': 52, 'language': 'JavaScript' },\n",
        "    \n",
        "    { 'firstName': 'Ramon', 'lastName': 'R.', 'country': 'Paraguay', 'continent': 'Americas', 'age': 29, 'language': 'Ruby' },\n",
        "    \n",
        "    { 'firstName': 'George', 'lastName': 'B.', 'country': 'England', 'continent': 'Europe', 'age': 81, 'language': 'C' },\n",
        "    ]\n",
        "\n",
        "your should return the following object:\n",
        "\n",
        "{ 'C': 2, 'JavaScript': 1, 'Ruby': 1 }\n"
      ]
    },
    {
      "cell_type": "code",
      "execution_count": 10,
      "metadata": {
        "id": "Q5pv5dCrTCzi",
        "colab": {
          "base_uri": "https://localhost:8080/"
        },
        "outputId": "fd1fda63-7f19-4b57-8e4c-a37b771b1ba5"
      },
      "outputs": [
        {
          "output_type": "stream",
          "name": "stdout",
          "text": [
            "C: 2, JavaScript: 1, Ruby: 1\n"
          ]
        }
      ],
      "source": [
        "lst = [\n",
        "\n",
        "{ 'firstName': 'Noah', 'lastName': 'M.', 'country': 'Switzerland', 'continent': 'Europe', 'age': 19, 'language': 'C' },\n",
        "\n",
        "{ 'firstName': 'Anna', 'lastName': 'R.', 'country': 'Liechtenstein', 'continent': 'Europe', 'age': 52, 'language': 'JavaScript' },\n",
        "\n",
        "{ 'firstName': 'Ramon', 'lastName': 'R.', 'country': 'Paraguay', 'continent': 'Americas', 'age': 29, 'language': 'Ruby' },\n",
        "\n",
        "{ 'firstName': 'George', 'lastName': 'B.', 'country': 'England', 'continent': 'Europe', 'age': 81, 'language': 'C' },\n",
        "]\n",
        "N_C=0\n",
        "N_JavaScript=0\n",
        "N_Ruby=0\n",
        "for dictionary in lst:\n",
        "  if dictionary['language'] == 'C':\n",
        "    N_C += 1\n",
        "  elif dictionary['language'] == \"JavaScript\":\n",
        "    N_JavaScript += 1\n",
        "  elif dictionary['language'] == 'Ruby':\n",
        "    N_Ruby += 1\n",
        "print(f\"C: {N_C}, JavaScript: {N_JavaScript}, Ruby: {N_Ruby}\")\n"
      ]
    },
    {
      "cell_type": "code",
      "execution_count": 11,
      "metadata": {
        "id": "UGIy6gTgTCzj",
        "colab": {
          "base_uri": "https://localhost:8080/"
        },
        "outputId": "b581585d-496b-49cd-ac4b-270a15740634"
      },
      "outputs": [
        {
          "output_type": "stream",
          "name": "stdout",
          "text": [
            "{'C': 2, 'JavaScript': 1, 'Ruby': 1}\n"
          ]
        }
      ],
      "source": [
        "lst = [\n",
        "\n",
        "{ 'firstName': 'Noah', 'lastName': 'M.', 'country': 'Switzerland', 'continent': 'Europe', 'age': 19, 'language': 'C' },\n",
        "\n",
        "{ 'firstName': 'Anna', 'lastName': 'R.', 'country': 'Liechtenstein', 'continent': 'Europe', 'age': 52, 'language': 'JavaScript' },\n",
        "\n",
        "{ 'firstName': 'Ramon', 'lastName': 'R.', 'country': 'Paraguay', 'continent': 'Americas', 'age': 29, 'language': 'Ruby' },\n",
        "\n",
        "{ 'firstName': 'George', 'lastName': 'B.', 'country': 'England', 'continent': 'Europe', 'age': 81, 'language': 'C' },\n",
        "]\n",
        "countC = 0\n",
        "countJ = 0\n",
        "countR = 0\n",
        "for i in lst:\n",
        "    language = i['language']\n",
        "    if language == 'C':\n",
        "        countC += 1\n",
        "    elif language == 'JavaScript':\n",
        "        countJ += 1\n",
        "    elif language == 'Ruby':\n",
        "        countR += 1\n",
        "result = {'C': countC, 'JavaScript': countJ, 'Ruby': countR}\n",
        "print(result)\n"
      ]
    },
    {
      "cell_type": "code",
      "execution_count": 13,
      "metadata": {
        "id": "QBVh2cuuTCzk",
        "colab": {
          "base_uri": "https://localhost:8080/"
        },
        "outputId": "92ed7e8a-0d54-4007-d205-4e6a332d90fc"
      },
      "outputs": [
        {
          "output_type": "stream",
          "name": "stdout",
          "text": [
            "{'C': 2, 'JavaScript': 1, 'Ruby': 1}\n"
          ]
        }
      ],
      "source": [
        "lst = [\n",
        "\n",
        "{ 'firstName': 'Noah', 'lastName': 'M.', 'country': 'Switzerland', 'continent': 'Europe', 'age': 19, 'language': 'C' },\n",
        "\n",
        "{ 'firstName': 'Anna', 'lastName': 'R.', 'country': 'Liechtenstein', 'continent': 'Europe', 'age': 52, 'language': 'JavaScript' },\n",
        "\n",
        "{ 'firstName': 'Ramon', 'lastName': 'R.', 'country': 'Paraguay', 'continent': 'Americas', 'age': 29, 'language': 'Ruby' },\n",
        "\n",
        "{ 'firstName': 'George', 'lastName': 'B.', 'country': 'England', 'continent': 'Europe', 'age': 81, 'language': 'C' },\n",
        "]\n",
        "language_count = {}\n",
        "for developer in lst:\n",
        "    language = developer['language']\n",
        "    if language in language_count:\n",
        "        language_count[language] += 1\n",
        "    else:\n",
        "        language_count[language] = 1\n",
        "\n",
        "print(language_count)\n"
      ]
    },
    {
      "cell_type": "code",
      "source": [
        "lst = [\n",
        "\n",
        "{ 'firstName': 'Noah', 'lastName': 'M.', 'country': 'Switzerland', 'continent': 'Europe', 'age': 19, 'language': 'C' },\n",
        "\n",
        "{ 'firstName': 'Anna', 'lastName': 'R.', 'country': 'Liechtenstein', 'continent': 'Europe', 'age': 52, 'language': 'JavaScript' },\n",
        "\n",
        "{ 'firstName': 'Ramon', 'lastName': 'R.', 'country': 'Paraguay', 'continent': 'Americas', 'age': 29, 'language': 'Ruby' },\n",
        "\n",
        "{ 'firstName': 'George', 'lastName': 'B.', 'country': 'England', 'continent': 'Europe', 'age': 81, 'language': 'C' },\n",
        "]\n",
        "langs = {\"C\": 0,\n",
        "    \"JavaScript\": 0,\n",
        "    \"Ruby\": 0,\n",
        "    \"Python\": 0}\n",
        "for dic in lst:\n",
        "    language = dic[\"language\"]\n",
        "    if language in langs:\n",
        "        langs[language] += 1\n",
        "        print(langs)\n",
        "print(langs)\n"
      ],
      "metadata": {
        "colab": {
          "base_uri": "https://localhost:8080/"
        },
        "id": "Q-gmNM--w8ru",
        "outputId": "b468f746-7f06-41bf-b3ea-a3316c7a98db"
      },
      "execution_count": 14,
      "outputs": [
        {
          "output_type": "stream",
          "name": "stdout",
          "text": [
            "{'C': 1, 'JavaScript': 0, 'Ruby': 0, 'Python': 0}\n",
            "{'C': 1, 'JavaScript': 1, 'Ruby': 0, 'Python': 0}\n",
            "{'C': 1, 'JavaScript': 1, 'Ruby': 1, 'Python': 0}\n",
            "{'C': 2, 'JavaScript': 1, 'Ruby': 1, 'Python': 0}\n",
            "{'C': 2, 'JavaScript': 1, 'Ruby': 1, 'Python': 0}\n"
          ]
        }
      ]
    },
    {
      "cell_type": "markdown",
      "metadata": {
        "id": "f4aS3RlOTCzk"
      },
      "source": [
        "### Task 9\n",
        "\n",
        "list1 = [\n",
        "\n",
        " { 'firstName': 'Daniel', 'lastName': 'J.', 'country': 'Aruba', 'continent': 'Americas', 'age': 42, 'language': 'JavaScript' },\n",
        "  \n",
        "  { 'firstName': 'Kseniya', 'lastName': 'T.', 'country': 'Belarus', 'continent': 'Europe', 'age': 22, 'language': 'JavaScript' },\n",
        "  \n",
        "  { 'firstName': 'Hanna', 'lastName': 'L.', 'country': 'Hungary', 'continent': 'Europe', 'age': 65, 'language': 'JavaScript' },\n",
        "]\n",
        "\n",
        "Your task is to return either:\n",
        "\n",
        "    **true** if all developers in the list code in the same language; or\n",
        "    **false** otherwise.\n"
      ]
    },
    {
      "cell_type": "code",
      "execution_count": 20,
      "metadata": {
        "id": "HUaMpSmATCzl",
        "colab": {
          "base_uri": "https://localhost:8080/"
        },
        "outputId": "24b470bc-dd2d-4f1f-f4f4-0aaa91fd91d6"
      },
      "outputs": [
        {
          "output_type": "stream",
          "name": "stdout",
          "text": [
            "{'JavaScript'}\n",
            "True\n"
          ]
        }
      ],
      "source": [
        "lst = [\n",
        "\n",
        "{ 'firstName': 'Daniel', 'lastName': 'J.', 'country': 'Aruba', 'continent': 'Americas', 'age': 42, 'language': 'JavaScript' },\n",
        "\n",
        "{ 'firstName': 'Kseniya', 'lastName': 'T.', 'country': 'Belarus', 'continent': 'Europe', 'age': 22, 'language': 'JavaScript' },\n",
        "\n",
        "{ 'firstName': 'Hanna', 'lastName': 'L.', 'country': 'Hungary', 'continent': 'Europe', 'age': 65, 'language': 'JavaScript' }, ]\n",
        "languages = {dev['language'] for dev in lst}\n",
        "print(languages)\n",
        "result = len(languages) == 1\n",
        "print(result)\n"
      ]
    },
    {
      "cell_type": "code",
      "source": [
        "lst = [\n",
        "\n",
        "{ 'firstName': 'Daniel', 'lastName': 'J.', 'country': 'Aruba', 'continent': 'Americas', 'age': 42, 'language': 'JavaScript' },\n",
        "\n",
        "{ 'firstName': 'Kseniya', 'lastName': 'T.', 'country': 'Belarus', 'continent': 'Europe', 'age': 22, 'language': 'JavaScript' },\n",
        "\n",
        "{ 'firstName': 'Hanna', 'lastName': 'L.', 'country': 'Hungary', 'continent': 'Europe', 'age': 65, 'language': 'JavaScript' }, ]\n",
        "count = {}\n",
        "for dev in lst:\n",
        "    lang = dev['language']\n",
        "    print(lang)\n",
        "    if lang in count:\n",
        "        count[lang] += 1\n",
        "    else:\n",
        "        count[lang] = 1\n",
        "    print(count)\n",
        "for lang in count:\n",
        "    if count[lang] == len(lst):\n",
        "        x = True\n",
        "    else:\n",
        "        x = False\n",
        "print(x)"
      ],
      "metadata": {
        "colab": {
          "base_uri": "https://localhost:8080/"
        },
        "id": "e-nFrWy2zdyR",
        "outputId": "f4d99d58-9386-4bef-bfe7-8f9dd8d3d6b4"
      },
      "execution_count": 17,
      "outputs": [
        {
          "output_type": "stream",
          "name": "stdout",
          "text": [
            "JavaScript\n",
            "{'JavaScript': 1}\n",
            "JavaScript\n",
            "{'JavaScript': 2}\n",
            "JavaScript\n",
            "{'JavaScript': 3}\n",
            "True\n"
          ]
        }
      ]
    },
    {
      "cell_type": "code",
      "source": [
        "lst = [\n",
        "\n",
        "{ 'firstName': 'Daniel', 'lastName': 'J.', 'country': 'Aruba', 'continent': 'Americas', 'age': 42, 'language': 'JavaScript' },\n",
        "\n",
        "{ 'firstName': 'Kseniya', 'lastName': 'T.', 'country': 'Belarus', 'continent': 'Europe', 'age': 22, 'language': 'JavaScript' },\n",
        "\n",
        "{ 'firstName': 'Hanna', 'lastName': 'L.', 'country': 'Hungary', 'continent': 'Europe', 'age': 65, 'language': 'JavaScript' }, ]\n",
        "first_language = lst[0]['language']\n",
        "result = True\n",
        "for dev in lst:\n",
        "    if dev['language'] != first_language:\n",
        "        result = False\n",
        "        break\n",
        "print(result)"
      ],
      "metadata": {
        "colab": {
          "base_uri": "https://localhost:8080/"
        },
        "id": "5uPcMAMKq5mb",
        "outputId": "c60f0bf8-8f47-4eca-e94d-ca12f6066b05"
      },
      "execution_count": 18,
      "outputs": [
        {
          "output_type": "stream",
          "name": "stdout",
          "text": [
            "True\n"
          ]
        }
      ]
    }
  ],
  "metadata": {
    "kernelspec": {
      "display_name": "Python 3",
      "language": "python",
      "name": "python3"
    },
    "language_info": {
      "codemirror_mode": {
        "name": "ipython",
        "version": 3
      },
      "file_extension": ".py",
      "mimetype": "text/x-python",
      "name": "python",
      "nbconvert_exporter": "python",
      "pygments_lexer": "ipython3",
      "version": "3.8.3"
    },
    "colab": {
      "provenance": [],
      "include_colab_link": true
    }
  },
  "nbformat": 4,
  "nbformat_minor": 0
}