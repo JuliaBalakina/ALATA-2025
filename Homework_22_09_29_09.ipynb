{
  "nbformat": 4,
  "nbformat_minor": 0,
  "metadata": {
    "colab": {
      "provenance": [],
      "authorship_tag": "ABX9TyMPSuFCkhTSsl5wZdMvpulA",
      "include_colab_link": true
    },
    "kernelspec": {
      "name": "python3",
      "display_name": "Python 3"
    },
    "language_info": {
      "name": "python"
    }
  },
  "cells": [
    {
      "cell_type": "markdown",
      "metadata": {
        "id": "view-in-github",
        "colab_type": "text"
      },
      "source": [
        "<a href=\"https://colab.research.google.com/github/JuliaBalakina/ALATA-2025/blob/main/Homework_22_09_29_09.ipynb\" target=\"_parent\"><img src=\"https://colab.research.google.com/assets/colab-badge.svg\" alt=\"Open In Colab\"/></a>"
      ]
    },
    {
      "cell_type": "markdown",
      "source": [
        "# **Task 1**\n",
        "\n",
        "There is a special offer in the store:\n",
        "\n",
        " For all products cheaper than 1000 rubles 15% discount\n",
        " For all products more expensive than 1000, but cheaper than 5000 rubles, a 20% discount\n",
        " For all products more expensive than 5000 rubles a 25% discount\n",
        "Input\n",
        "\n",
        "Non-negative integer - product price in rubles\n",
        "\n",
        "Output\n",
        "\n",
        "Non-negative integer - discount for goods in rubles"
      ],
      "metadata": {
        "id": "Qgl8dKkL7ent"
      }
    },
    {
      "cell_type": "code",
      "source": [
        "x = int(input())\n",
        "if x < 1000:\n",
        "  x = 0.15*x\n",
        "  print(x)\n",
        "elif 1000 <= x and x < 5000:\n",
        "  x = 0.2*x\n",
        "  print(x)\n",
        "elif x >= 5000:\n",
        "  x = 0.25*x\n",
        "  print(x)"
      ],
      "metadata": {
        "id": "bbZVYGJ9boBt",
        "colab": {
          "base_uri": "https://localhost:8080/"
        },
        "outputId": "1b4b2cf1-5288-4b4a-a492-7458e86c9f8e"
      },
      "execution_count": 1,
      "outputs": [
        {
          "output_type": "stream",
          "name": "stdout",
          "text": [
            "1005\n",
            "201.0\n"
          ]
        }
      ]
    },
    {
      "cell_type": "code",
      "source": [
        "x = int(input())\n",
        "if x < 1000:  #if the original price of a product is less than 1000 rubles\n",
        "  print(int(x - 0.15 * x)) #substracting 15% of the original price of a product\n",
        "elif 1000 < x < 5000: #if the original price of a product is more than 1000 rubles and less than 5000 rubles\n",
        "  print(int(x - 0.2 * x))   #substracting 20% of the original price of a product\n",
        "elif x > 5000: #if the original price is more than 5000 rubles (otherwise products that cost 1000 and 5000 rubles will also get this discount, and we don't have a condition specifically for them)\n",
        "  print(int(x - 0.25 * x))  #substracting 25% of the original price of a product"
      ],
      "metadata": {
        "colab": {
          "base_uri": "https://localhost:8080/"
        },
        "id": "2Z6rGbfOc58X",
        "outputId": "f28d65e5-daa8-4c15-b488-2608fa7efe5f"
      },
      "execution_count": 2,
      "outputs": [
        {
          "output_type": "stream",
          "name": "stdout",
          "text": [
            "1005\n",
            "804\n"
          ]
        }
      ]
    },
    {
      "cell_type": "markdown",
      "source": [
        "# **Task 2**\n",
        "\n",
        "Write a program that asks the user for their age and determines whether they can vote.\n",
        "\n",
        "If the age is greater than or equal to 18, output \"Can vote,\" otherwise output \"Cannot vote.\""
      ],
      "metadata": {
        "id": "8qzQgAp095Zx"
      }
    },
    {
      "cell_type": "code",
      "source": [
        "age = int(input())\n",
        "if age >= 18:\n",
        "  print (\"Can vote\")\n",
        "else:\n",
        "  print (\"Cannot vote\")"
      ],
      "metadata": {
        "id": "CWwScl-B7oh2",
        "colab": {
          "base_uri": "https://localhost:8080/"
        },
        "outputId": "79478a96-1c5b-4148-a7e4-d728046b025e"
      },
      "execution_count": 3,
      "outputs": [
        {
          "output_type": "stream",
          "name": "stdout",
          "text": [
            "0\n",
            "Cannot vote\n"
          ]
        }
      ]
    },
    {
      "cell_type": "code",
      "source": [],
      "metadata": {
        "id": "HgeHLF0p_996"
      },
      "execution_count": null,
      "outputs": []
    },
    {
      "cell_type": "markdown",
      "source": [
        "## Task 3\n",
        "\n",
        "Write a program that determines if an entered year is a leap year.\n",
        "\n",
        "A leap year is divisible by 4 but not by 100, except when it is also divisible by 400."
      ],
      "metadata": {
        "id": "52RquQLS_-lQ"
      }
    },
    {
      "cell_type": "code",
      "source": [
        "year = int(input(\"Enter a year: \"))\n",
        "if (year % 4 == 0 and year % 100 != 0) or (year % 400 == 0):\n",
        "    print(\"Leap year\")\n",
        "else:\n",
        "    print(\"Not a leap year\")\n",
        "\n"
      ],
      "metadata": {
        "id": "_ZJc4XJrANJL",
        "colab": {
          "base_uri": "https://localhost:8080/"
        },
        "outputId": "d326d1aa-700f-4919-9392-2e9af19c405d"
      },
      "execution_count": 6,
      "outputs": [
        {
          "output_type": "stream",
          "name": "stdout",
          "text": [
            "Enter a year: 2004\n",
            "Leap year\n"
          ]
        }
      ]
    },
    {
      "cell_type": "code",
      "source": [
        "year = int(input(\"Enter a year: \"))\n",
        "if year % 4 != 0:\n",
        "  print ('Not leap!')\n",
        "elif year%100 ==0 and year%400 ==0:\n",
        "        print ('Leap!')\n",
        "elif year%100 ==0 and year%400 !=0:\n",
        "        print ('Not leap!')\n",
        "else:\n",
        "   print ('Leap!')\n"
      ],
      "metadata": {
        "colab": {
          "base_uri": "https://localhost:8080/"
        },
        "id": "DABvO7ipfBos",
        "outputId": "594bd186-4b20-41dd-c11c-c9a505f2ef50"
      },
      "execution_count": 10,
      "outputs": [
        {
          "output_type": "stream",
          "name": "stdout",
          "text": [
            "Enter a year: 2025\n",
            "Not leap!\n"
          ]
        }
      ]
    },
    {
      "cell_type": "markdown",
      "source": [
        "# **Task 4**\n",
        "\n",
        "Create a programm that gives a personalized greeting.\n",
        "\n",
        "Input1: name1\n",
        "\n",
        "Input2: name2  \n",
        "\n",
        "Use conditionals to print the proper message:\n",
        "\n",
        "name1 equals name2  --- 'Hello boss'\n",
        "\n",
        "otherwise --- 'Hello guest'"
      ],
      "metadata": {
        "id": "-c5cKiQT7pR-"
      }
    },
    {
      "cell_type": "code",
      "source": [
        "name1 = input(\"Enter first name: \")\n",
        "name2 = input(\"Enter second name: \")\n",
        "if name1 == name2:\n",
        "    print(\"Hello boss\")\n",
        "else:\n",
        "    print(\"Hello guest\")"
      ],
      "metadata": {
        "id": "tkDFurMC8A1W",
        "colab": {
          "base_uri": "https://localhost:8080/"
        },
        "outputId": "4e597ca1-e7e1-4f8e-9df9-e5ee39d46785"
      },
      "execution_count": 12,
      "outputs": [
        {
          "output_type": "stream",
          "name": "stdout",
          "text": [
            "Enter first name: jack\n",
            "Enter second name: Jack\n",
            "Hello guest\n"
          ]
        }
      ]
    },
    {
      "cell_type": "markdown",
      "source": [
        "# **Task 5**\n",
        "\n",
        "Write a program to check the correctness of the entered login and password.\n",
        "\n",
        "If the login is “admin” and the password is “password123”, display “Access granted”, otherwise display “Access denied”."
      ],
      "metadata": {
        "id": "Lo9SatWcAY69"
      }
    },
    {
      "cell_type": "code",
      "source": [
        "login = input(\"Enter login: \")\n",
        "password = input(\"Enter password: \")\n",
        "if login == \"admin\" and password == \"password123\":\n",
        "    print(\"Access granted\")\n",
        "else:\n",
        "    print(\"Access denied\")"
      ],
      "metadata": {
        "colab": {
          "base_uri": "https://localhost:8080/"
        },
        "id": "wAO0IRdYf3r8",
        "outputId": "1eb9b7f7-e446-48cc-8f21-a5c662d977ae"
      },
      "execution_count": 15,
      "outputs": [
        {
          "output_type": "stream",
          "name": "stdout",
          "text": [
            "Enter login: admin\n",
            "Enter password: password123\n",
            "Access granted\n"
          ]
        }
      ]
    },
    {
      "cell_type": "markdown",
      "source": [
        "# **Task 6**\n",
        "\n",
        "Write a programme that prompts the user for two arguments (salary, bonus). Salary will be an integer, and bonus \"Yes\" or \"No\".\n",
        "\n",
        "If bonus is Yes, the salary should be multiplied by 10.\n",
        "\n",
        "If bonus is No, the fatcat did not make enough money and must receive only his stated salary."
      ],
      "metadata": {
        "id": "YP4M_Rcw8Foc"
      }
    },
    {
      "cell_type": "code",
      "source": [
        "salary= int(input())\n",
        "bonus= input('Do you receive a bonus:')\n",
        "if bonus=='yes':\n",
        "    print ('bonus is',salary*10)\n",
        "else:\n",
        "    print ('no bonus for you', salary)\n"
      ],
      "metadata": {
        "id": "kqesiGWN8nzT",
        "colab": {
          "base_uri": "https://localhost:8080/"
        },
        "outputId": "3ec0ef28-d976-437f-dd3c-c8b838d72650"
      },
      "execution_count": 17,
      "outputs": [
        {
          "output_type": "stream",
          "name": "stdout",
          "text": [
            "1000\n",
            "Do you receive a bonus:tryeu\n",
            "no bonus for you 1000\n"
          ]
        }
      ]
    },
    {
      "cell_type": "code",
      "source": [
        "salary = int(input(\"Enter your salary: \"))  # Convert input to integer\n",
        "bonus = input(\"Do you have a bonus? (Yes/No): \")\n",
        "if bonus.lower() == \"yes\":  # .lower() ensures case insensitivity\n",
        "    total_salary = salary * 10\n",
        "else:\n",
        "    total_salary = salary\n",
        "\n",
        "print(\"Final Salary:\", total_salary)"
      ],
      "metadata": {
        "colab": {
          "base_uri": "https://localhost:8080/"
        },
        "id": "n1YS2JqVhMXL",
        "outputId": "cbd138aa-84db-43ae-d51b-598f3f215e66"
      },
      "execution_count": 18,
      "outputs": [
        {
          "output_type": "stream",
          "name": "stdout",
          "text": [
            "Enter your salary: 1000\n",
            "Do you have a bonus? (Yes/No): yes\n",
            "Final Salary: 10000\n"
          ]
        }
      ]
    },
    {
      "cell_type": "markdown",
      "source": [
        "# **Task 7**\n",
        "Create a program that checks if a number n is divisible by two numbers x AND y.\n",
        "\n",
        "All inputs are strictly positive numbers.\n",
        "\n",
        "Examples:\n",
        "\n",
        "n = 3, x = 1, y = 3 => true because 3 is divisible by 1 and 3\n",
        "\n",
        "n = 12, x = 2, y = 6 => true because 12 is divisible by 2 and 6\n",
        "\n",
        "n = 100, x = 5, y = 3 => false because 100 is not divisible by 3\n",
        "\n",
        "n = 12, x = 7, y = 5 => false because 12 is neither divisible by 7 nor 5"
      ],
      "metadata": {
        "id": "ARkmkfvl8qZV"
      }
    },
    {
      "cell_type": "code",
      "source": [
        "n = int(input())\n",
        "x = int (input())\n",
        "y = int (input())\n",
        "if n % x == 0 and n % y == 0:\n",
        "   print ('true')\n",
        "else:\n",
        "  print ('false')"
      ],
      "metadata": {
        "id": "F18qQXyG83XI",
        "colab": {
          "base_uri": "https://localhost:8080/"
        },
        "outputId": "e0aea94b-eb70-449f-ba11-21a0cb88d5d1"
      },
      "execution_count": 19,
      "outputs": [
        {
          "output_type": "stream",
          "name": "stdout",
          "text": [
            "100\n",
            "5\n",
            "3\n",
            "false\n"
          ]
        }
      ]
    },
    {
      "cell_type": "code",
      "source": [
        "n = int(input('n='))\n",
        "x = int(input('x='))\n",
        "y = int(input('y='))\n",
        "print (n%x==0==n%y)\n"
      ],
      "metadata": {
        "colab": {
          "base_uri": "https://localhost:8080/"
        },
        "id": "h52_WwRjid_a",
        "outputId": "5e02bc07-fb88-401c-dc83-b7dae55c03de"
      },
      "execution_count": 21,
      "outputs": [
        {
          "output_type": "stream",
          "name": "stdout",
          "text": [
            "n=3\n",
            "x=3\n",
            "y=1\n",
            "True\n"
          ]
        }
      ]
    },
    {
      "cell_type": "markdown",
      "source": [
        "# **Task 8**\n",
        "\n",
        "Write a program that takes three sides of a triangle as input and determines whether such a triangle can exist. A triangle exists if the sum of any two sides is greater than the third side.\n",
        "\n",
        "Hints for implementation:\n",
        "\n",
        "Use conditional statements (if-elif-else)\n",
        "\n",
        "Consider all possible combinations of side comparisons\n",
        "\n",
        "Think about edge cases (e.g., zero or negative values)"
      ],
      "metadata": {
        "id": "VCaAorygAjfC"
      }
    },
    {
      "cell_type": "code",
      "source": [
        "a = int(input(\"Enter side a: \"))\n",
        "b = int(input(\"Enter side b: \"))\n",
        "c = int(input(\"Enter side c: \"))\n",
        "if a <= 0 or b <= 0 or c <= 0:\n",
        "    print(\"Not a valid triangle (sides must be positive).\")\n",
        "elif a + b > c and a + c > b and b + c > a:\n",
        "    print(\"Triangle exists\")\n",
        "else:\n",
        "    print(\"Triangle does not exist\")"
      ],
      "metadata": {
        "colab": {
          "base_uri": "https://localhost:8080/"
        },
        "id": "8Yytc_aZi3GY",
        "outputId": "bd94bd47-7f8b-41b6-8fb7-6a98113d5666"
      },
      "execution_count": 24,
      "outputs": [
        {
          "output_type": "stream",
          "name": "stdout",
          "text": [
            "Enter side a: 1\n",
            "Enter side b: 2\n",
            "Enter side c: 3\n",
            "Triangle does not exist\n"
          ]
        }
      ]
    },
    {
      "cell_type": "code",
      "source": [
        "x=int(input())\n",
        "y=int(input())\n",
        "n=int(input())\n",
        "if x>0 and y>0 and n>0:\n",
        "  if x+y>n and y+n>x and x+n>y:\n",
        "    print ('this triangle can exist')\n",
        "  else:\n",
        "    print ('this triangle cannot exist')\n",
        "else:\n",
        "  print ('error')"
      ],
      "metadata": {
        "colab": {
          "base_uri": "https://localhost:8080/"
        },
        "id": "sFfolOOuj6-L",
        "outputId": "141f65bf-513d-4597-8aa0-8c7457a3e22d"
      },
      "execution_count": 26,
      "outputs": [
        {
          "output_type": "stream",
          "name": "stdout",
          "text": [
            "1\n",
            "0\n",
            "0\n",
            "error\n"
          ]
        }
      ]
    },
    {
      "cell_type": "code",
      "source": [
        "side_a = float(input(\"Enter the length of side 'a': \"))\n",
        "side_b = float(input(\"Enter the length of side 'b': \"))\n",
        "side_c = float(input(\"Enter the length of side 'c': \"))\n",
        "\n",
        "if side_a <= 0 or side_b <= 0 or side_c <= 0:\n",
        "    print(\"Invalid input: Side lengths cannot be zero or negative.\")\n",
        "else:\n",
        "    if (side_a + side_b > side_c) and (side_a + side_c > side_b) and (side_b + side_c > side_a):\n",
        "        print(\"Yes, a triangle can be formed.\")\n",
        "    else:\n",
        "        print(\"No, a triangle cannot be formed.\")\n"
      ],
      "metadata": {
        "id": "Sla8mPiQkWFz"
      },
      "execution_count": null,
      "outputs": []
    },
    {
      "cell_type": "markdown",
      "source": [
        "# **Task 9**\n",
        "\n",
        "Create a program that converts temperatures between Celsius, Fahrenheit, and Kelvin. The program should:\n",
        "\n",
        "Accept user input for temperature value and target scale\n",
        "\n",
        "Validate the input scale (must be C, F, or K)\n",
        "\n",
        "Perform conversion only if the input temperature is physically possible (e.g., above absolute zero)\n",
        "\n",
        "Display an error message for invalid inputs"
      ],
      "metadata": {
        "id": "2zE3tRKpA2bz"
      }
    },
    {
      "cell_type": "code",
      "source": [
        "value = float(input(\"Enter the temperature: \"))\n",
        "src_scale = input(\"Enter the source scale (C/F/K): \")\n",
        "dest_scale = input(\"Enter the target scale (C/F/K): \")\n",
        "if src_scale == 'C':\n",
        "      if value < -273.15:\n",
        "           print (\"the temperature is below absolute zero!\")\n",
        "      if dest_scale == 'F':\n",
        "            converted_temp = value * 9 / 5 + 32\n",
        "      elif dest_scale == 'K':\n",
        "            converted_temp = value + 273.15\n",
        "elif src_scale == 'F':\n",
        "      if value < -459.67:\n",
        "             print (\"the temperature is below absolute zero!\")\n",
        "      if dest_scale == 'C':\n",
        "            converted_temp = (value - 32) * 5 / 9\n",
        "      elif dest_scale == 'K':\n",
        "            converted_temp = ((value - 32) * 5 / 9) + 273.15\n",
        "elif src_scale == 'K':\n",
        "      if value < 0:\n",
        "             print (\"the temperature is below absolute zero!\")\n",
        "      if dest_scale == 'C':\n",
        "            converted_temp = value - 273.15\n",
        "      elif dest_scale == 'F':\n",
        "            converted_temp = ((value - 273.15) * 9 / 5) + 32\n",
        "else:\n",
        "      print(\"invalid input\")\n",
        "print(f\"converted temperature: {converted_temp:.2f}\")\n"
      ],
      "metadata": {
        "colab": {
          "base_uri": "https://localhost:8080/"
        },
        "id": "Jv1Cpa8Og_5x",
        "outputId": "ab9af627-5d33-4c5a-9077-cc0ca4862686"
      },
      "execution_count": null,
      "outputs": [
        {
          "output_type": "stream",
          "name": "stdout",
          "text": [
            "Введите значение температуры: 100\n",
            "Введите исходную шкалу (C/F/K): F\n",
            "Введите целевую шкалу (C/F/K): K\n",
            "Переведённое значение: 310.93\n"
          ]
        }
      ]
    },
    {
      "cell_type": "markdown",
      "source": [
        "# **Task 10**\n",
        "\n",
        "Develop a program that classifies students based on their performance using these criteria:\n",
        "\n",
        "Main Criteria:\n",
        "\n",
        "Grade Points (A, B, C, D, F) based on numerical score (0-100):\n",
        "\n",
        "90-100: A\n",
        "\n",
        "80-89: B\n",
        "\n",
        "70-79: C\n",
        "\n",
        "60-69: D\n",
        "\n",
        "0-59: F\n",
        "\n",
        "Attendance Rate (percentage of attended classes):\n",
        "\n",
        "95-100%: Excellent attendance\n",
        "\n",
        "85-94%: Good attendance\n",
        "\n",
        "75-84%: Satisfactory attendance\n",
        "\n",
        "Below 75%: Poor attendance\n",
        "\n",
        "Participation Score (0-50 points):\n",
        "\n",
        "45-50: Outstanding participation\n",
        "\n",
        "35-44: Good participation\n",
        "\n",
        "25-34: Average participation\n",
        "\n",
        "0-24: Low participation\n",
        "\n",
        "Final Classification Rules:\n",
        "\n",
        "Excellent:\n",
        "\n",
        "Grade A or B\n",
        "\n",
        "Excellent attendance\n",
        "\n",
        "Outstanding or Good participation\n",
        "\n",
        "Good:\n",
        "\n",
        "Grade B or C\n",
        "\n",
        "Good or Excellent attendance\n",
        "\n",
        "Good or Average participation\n",
        "\n",
        "Satisfactory:\n",
        "\n",
        "Grade C or D\n",
        "\n",
        "Satisfactory or better attendance\n",
        "\n",
        "Average or better participation\n",
        "\n",
        "Needs Improvement:\n",
        "\n",
        "Grade D or F\n",
        "\n",
        "Any attendance level\n",
        "\n",
        "Any participation level\n",
        "\n",
        "OR if attendance is Poor regardless of other criteria"
      ],
      "metadata": {
        "id": "XZBZGARlA4ab"
      }
    },
    {
      "cell_type": "code",
      "source": [
        "score = float(input(\"Enter your numerical score (0-100): \"))\n",
        "attendance_percentage = float(input(\"Enter your attendance percentage (%): \"))\n",
        "participation_score = float(input(\"Enter your participation score (0-50 points): \"))\n",
        "if score >= 90:\n",
        "    grade = 'A'\n",
        "elif score >= 80:\n",
        "    grade = 'B'\n",
        "elif score >= 70:\n",
        "    grade = 'C'\n",
        "elif score >= 60:\n",
        "    grade = 'D'\n",
        "else:\n",
        "    grade = 'F'\n",
        "\n",
        "if attendance_percentage >= 95:\n",
        "    attendance = 'Excellent'\n",
        "elif attendance_percentage >= 85:\n",
        "    attendance = 'Good'\n",
        "elif attendance_percentage >= 75:\n",
        "    attendance = 'Satisfactory'\n",
        "else:\n",
        "    attendance = 'Poor'\n",
        "\n",
        "if participation_score >= 45:\n",
        "    participation = 'Outstanding'\n",
        "elif participation_score >= 35:\n",
        "    participation = 'Good'\n",
        "elif participation_score >= 25:\n",
        "    participation = 'Average'\n",
        "else:\n",
        "    participation = 'Low'\n",
        "\n",
        "classification = None\n",
        "\n",
        "if grade in ('A', 'B') and attendance == 'Excellent' and participation in ('Outstanding', 'Good'):\n",
        "    classification = 'Excellent'\n",
        "elif grade in ('B', 'C') and attendance in ('Good', 'Excellent') and participation in ('Good', 'Average'):\n",
        "    classification = 'Good'\n",
        "elif grade in ('C', 'D') and attendance in ('Satisfactory', 'Good', 'Excellent') and participation in ('Average', 'Good', 'Outstanding'):\n",
        "    classification = 'Satisfactory'\n",
        "else:\n",
        "    classification = 'Needs Improvement'\n",
        "\n",
        "print(\"Your grade:\", grade)\n",
        "print(\"Attendance:\", attendance)\n",
        "print(\"Participation:\", participation)\n",
        "print(\"Overall classification:\", classification)"
      ],
      "metadata": {
        "id": "PmSnVWtIixx4"
      },
      "execution_count": null,
      "outputs": []
    },
    {
      "cell_type": "markdown",
      "source": [
        "# Extra Task\n",
        "Given 2 elevators (named \"left\" and \"right\") in a building with 3 floors (numbered 0 to 2), write a programme for the elevator accepting 3 arguments (in order):\n",
        "\n",
        "left - The current floor of the left elevator\n",
        "\n",
        "right - The current floor of the right elevator\n",
        "\n",
        "call - The floor that called an elevator\n",
        "\n",
        "It should return the name of the elevator closest to the called floor (\"left\"/\"right\").\n",
        "\n",
        "In the case where both elevators are equally distant from the called floor, choose the elevator to the right.\n",
        "\n",
        "You can assume that the inputs will always be valid integers between 0-2.\n",
        "\n",
        "Use the ** abs() function**, which returns the absolute value of the specified number"
      ],
      "metadata": {
        "id": "W_F2blrr83wY"
      }
    },
    {
      "cell_type": "code",
      "source": [
        "left = int(input())\n",
        "right = int(input())\n",
        "call = int(input())\n",
        "\n",
        "distance_left = abs(call - left)\n",
        "distance_right = abs(call - right)\n",
        "\n",
        "if distance_left < distance_right:\n",
        "    print('left')\n",
        "elif distance_right < distance_left:\n",
        "    print('right')\n",
        "else:\n",
        "    print('right')"
      ],
      "metadata": {
        "id": "5niHS3A8iwxm",
        "colab": {
          "base_uri": "https://localhost:8080/"
        },
        "outputId": "665205cf-cf17-47f3-a778-3eb8e65650f4"
      },
      "execution_count": 28,
      "outputs": [
        {
          "output_type": "stream",
          "name": "stdout",
          "text": [
            "3\n",
            "5\n",
            "4\n",
            "right\n"
          ]
        }
      ]
    },
    {
      "cell_type": "code",
      "source": [
        "left = int(input())\n",
        "right = int(input())\n",
        "call = int(input())\n",
        "\n",
        "if abs(call - left) < abs(call - right):\n",
        "    print('left')\n",
        "elif abs(call - right) < abs(call - left):\n",
        "    print('right')\n",
        "else:\n",
        "    print('right')"
      ],
      "metadata": {
        "colab": {
          "base_uri": "https://localhost:8080/"
        },
        "id": "ExsUuq20mjxa",
        "outputId": "a8a32783-441b-4470-a958-af1e497a3e7f"
      },
      "execution_count": 29,
      "outputs": [
        {
          "output_type": "stream",
          "name": "stdout",
          "text": [
            "3\n",
            "10\n",
            "8\n",
            "right\n"
          ]
        }
      ]
    }
  ]
}