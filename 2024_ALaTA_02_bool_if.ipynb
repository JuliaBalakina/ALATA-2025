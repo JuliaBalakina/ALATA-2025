{
  "cells": [
    {
      "cell_type": "markdown",
      "metadata": {
        "id": "view-in-github",
        "colab_type": "text"
      },
      "source": [
        "<a href=\"https://colab.research.google.com/github/JuliaBalakina/ALATA-2025/blob/main/2024_ALaTA_02_bool_if.ipynb\" target=\"_parent\"><img src=\"https://colab.research.google.com/assets/colab-badge.svg\" alt=\"Open In Colab\"/></a>"
      ]
    },
    {
      "cell_type": "markdown",
      "metadata": {
        "id": "v0Q3vRnT0maG"
      },
      "source": [
        "### Variables\n",
        "\n",
        "A **variable** is a name that refers to a value.\n",
        "\n",
        "An **assignment statement** creates new variables and gives them values:\n",
        "\n",
        "x = 2\n",
        "\n",
        "message = 'And now for something completely different'\n",
        "\n",
        "This example makes two assignments. The first assigns the integer 2 to x; the second assigns a string to a new variable\n",
        "named \"message\".\n",
        "\n",
        "To display the value of a variable, you can use a print statement:\n",
        ">print(x)\n",
        "\n",
        ">2\n",
        "\n",
        ">print(message)\n",
        "\n",
        ">'And now for something completely different'\n",
        "\n",
        "The type of a variable is the type of the value it refers to.\n",
        "\n",
        ">type(message)\n",
        "\n",
        "><class 'str'>\n",
        "\n",
        ">type(x)\n",
        "\n",
        "><class 'int'>\n",
        "\n",
        "Variable names can be arbitrarily long. They can contain both letters and numbers,\n",
        "but **they cannot start with a number**. It is legal to use uppercase letters, but it is\n",
        "a good idea to begin variable names with a lowercase letter.\n",
        "The underscore character ( _ ) can appear in a name. It is often used in names with\n",
        "multiple words, such as my_name or airspeed_of_unladen_swallow.\n",
        "\n",
        "*If you give a variable an illegal name, you get a syntax error:*\n",
        "\n",
        ">76trombones = 'big parade'\n",
        "\n",
        ">SyntaxError: invalid syntax\n",
        "\n",
        "Python reserves **35 keywords which cannot be used as variable\n",
        "names:**\n",
        "\n",
        "> and  del  from  None  True\n",
        "\n",
        ">as elif global nonlocal try\n",
        "\n",
        ">assert else if not while\n",
        "\n",
        ">break except import or with\n",
        "\n",
        ">class False in pass yield\n",
        "\n",
        ">continue finally is raise async\n",
        "\n",
        ">def for lambda return await\n",
        "\n"
      ]
    },
    {
      "cell_type": "code",
      "execution_count": null,
      "metadata": {
        "colab": {
          "base_uri": "https://localhost:8080/",
          "height": 108
        },
        "id": "mUxSPNrF1-_v",
        "outputId": "834c380c-ca0d-4205-885e-894bc2439509"
      },
      "outputs": [
        {
          "ename": "SyntaxError",
          "evalue": "invalid syntax (ipython-input-742180893.py, line 1)",
          "output_type": "error",
          "traceback": [
            "\u001b[0;36m  File \u001b[0;32m\"/tmp/ipython-input-742180893.py\"\u001b[0;36m, line \u001b[0;32m1\u001b[0m\n\u001b[0;31m    def=1\u001b[0m\n\u001b[0m       ^\u001b[0m\n\u001b[0;31mSyntaxError\u001b[0m\u001b[0;31m:\u001b[0m invalid syntax\n"
          ]
        }
      ],
      "source": [
        "def=1"
      ]
    },
    {
      "cell_type": "markdown",
      "metadata": {
        "id": "T4yJQsft0maL"
      },
      "source": [
        "### Changing value\n",
        "\n",
        ">gamma = 1\n",
        "\n",
        ">gamma = 2\n",
        "\n",
        "Suppose we have these two lines of Python.\n",
        "\n",
        "Python let you set a name for a value and then change it.\n",
        "\n",
        "\n"
      ]
    },
    {
      "cell_type": "code",
      "execution_count": null,
      "metadata": {
        "id": "3v2ramx20maL"
      },
      "outputs": [],
      "source": [
        "a = 2\n",
        "b = 3\n",
        "temp = b ## 3\n",
        "b = a ##2\n",
        "a = temp ## 3\n",
        "print(a,b)\n"
      ]
    },
    {
      "cell_type": "code",
      "execution_count": null,
      "metadata": {
        "id": "IUv5Liyz0maJ"
      },
      "outputs": [],
      "source": [
        "a = 2\n",
        "b = 3\n",
        "a = b ## a=3\n",
        "b = a ## b=3\n",
        "print(a,b)"
      ]
    },
    {
      "cell_type": "code",
      "execution_count": null,
      "metadata": {
        "id": "udwZp4EW0maK"
      },
      "outputs": [],
      "source": [
        "a=2\n",
        "b=3\n",
        "b=a\n",
        "print(b)\n",
        "print(a)"
      ]
    },
    {
      "cell_type": "code",
      "execution_count": null,
      "metadata": {
        "id": "PwdGK0EvYOFE"
      },
      "outputs": [],
      "source": [
        "a,b,c =1,2,3\n",
        "a,b,c=c,a,b\n",
        "print(a,b,c) # a=3, b=1, c=2"
      ]
    },
    {
      "cell_type": "code",
      "execution_count": null,
      "metadata": {
        "id": "AiMfi24O0maM"
      },
      "outputs": [],
      "source": [
        "student1 = 'Masha'\n",
        "student2 = 'Dasha'\n",
        "temp = \"Masha\"\n",
        "student1 = student2\n",
        "student2 =temp\n",
        "print(student1,student2)"
      ]
    },
    {
      "cell_type": "code",
      "execution_count": null,
      "metadata": {
        "id": "vPgHaVFXX163"
      },
      "outputs": [],
      "source": [
        "a,b,c =\"Masha\",\"Dasha\",\"Sasha\"\n",
        "a,b,c=c,b,a\n",
        "print(a,b,c)"
      ]
    },
    {
      "cell_type": "code",
      "execution_count": null,
      "metadata": {
        "id": "YvXwkin80maM"
      },
      "outputs": [],
      "source": [
        "name = 'John'\n",
        "surname = 'Black'\n",
        "print (name, surname)"
      ]
    },
    {
      "cell_type": "code",
      "execution_count": null,
      "metadata": {
        "id": "eeosZHMd0maM"
      },
      "outputs": [],
      "source": [
        "name = 'John'\n",
        "surname = 'Black'\n",
        "tempor = name #John\n",
        "name = surname # Black\n",
        "surname = tempor\n",
        "print (name, surname)\n"
      ]
    },
    {
      "cell_type": "code",
      "execution_count": null,
      "metadata": {
        "id": "-nJcgvlMf6rZ"
      },
      "outputs": [],
      "source": [
        "name = 'John'\n",
        "surname = 'Black'\n",
        "name,surname = surname,name\n",
        "print (name, surname)"
      ]
    },
    {
      "cell_type": "markdown",
      "metadata": {
        "id": "HXqwYXP1Yba9"
      },
      "source": [
        "**Task 1**\n",
        "\n",
        "Enter two integers A,B, each on a new line.\n",
        "\n",
        "Exchange values using an auxiliary variable.\n",
        "\n",
        "Print the values of the variables in one line."
      ]
    },
    {
      "cell_type": "code",
      "execution_count": null,
      "metadata": {
        "id": "c_9ZRqZHY9S8"
      },
      "outputs": [],
      "source": [
        "a = int(input())\n",
        "b = int(input())\n",
        "temp = b # temp=2\n",
        "b = a # b=1\n",
        "a=temp\n",
        "print(a, b)"
      ]
    },
    {
      "cell_type": "markdown",
      "metadata": {
        "id": "LH4sDV8AZtWS"
      },
      "source": [
        "**Task 2 home assignment**\n",
        "\n",
        "Enter two natural numbers A,B, each in its own row.\n",
        "\n",
        "Exchange values without an auxiliary variable.\n",
        "\n",
        "Print the values of the variables in one line.\n"
      ]
    },
    {
      "cell_type": "code",
      "execution_count": null,
      "metadata": {
        "id": "e4OVux8zZ8Kb"
      },
      "outputs": [],
      "source": [
        "a,b = int(input()),int(input())\n",
        "a,b=b,a\n",
        "print(a,b)"
      ]
    },
    {
      "cell_type": "markdown",
      "metadata": {
        "id": "b9XgZ1z8bSho"
      },
      "source": [
        "**Task 3 home assignment**\n",
        "\n",
        "Enter three integers A,B,C each in its own row.\n",
        "\n",
        "Exchange values without an auxiliary variable.\n",
        "\n",
        "Print the values of the variables in one line."
      ]
    },
    {
      "cell_type": "code",
      "execution_count": null,
      "metadata": {
        "id": "jOiNcRdGbRxj"
      },
      "outputs": [],
      "source": [
        "a = 3\n",
        "b = 7\n",
        "c = 8\n",
        "a = a + b + c #18\n",
        "b = a - b - c #3 (18-7-8)\n",
        "c = a - b - c #7 (18-3-8)\n",
        "a = a - b - c #8 (18-3-7)\n",
        "print(a,b,c)"
      ]
    },
    {
      "cell_type": "code",
      "execution_count": null,
      "metadata": {
        "id": "bAndIjuVsQfn"
      },
      "outputs": [],
      "source": [
        "a = 3\n",
        "b = 7\n",
        "c = 8\n",
        "a = a + b + c #18\n",
        "b = a - b - c #3\n",
        "c = a - b - c #7\n",
        "a = a - b - c #8\n",
        "print(a,b,c)"
      ]
    },
    {
      "cell_type": "code",
      "execution_count": null,
      "metadata": {
        "id": "wbKozH87sZq2"
      },
      "outputs": [],
      "source": [
        "a, b, c = int(input()), int(input()), int(input())\n",
        "a, b, c = c, a, b\n",
        "print(a, b, c)"
      ]
    },
    {
      "cell_type": "markdown",
      "metadata": {
        "id": "8EuCkke1cGzK"
      },
      "source": [
        "**Task 4 home assignment**\n",
        "\n",
        "Enter three integers A,B,C each in its own row.\n",
        "\n",
        "Assign each variable the value of the sum of the other two.\n",
        "\n",
        "A=B+C etc.\n",
        "Print the variables"
      ]
    },
    {
      "cell_type": "code",
      "execution_count": null,
      "metadata": {
        "colab": {
          "background_save": true
        },
        "id": "O13C8P5icnuL"
      },
      "outputs": [],
      "source": [
        "a=int(input() )\n",
        "b=int(input() )\n",
        "c=int(input() )\n",
        "a,b,c=b+c,c+a,a+b\n",
        "print(a,b,c)"
      ]
    },
    {
      "cell_type": "code",
      "execution_count": null,
      "metadata": {
        "id": "ogZIrNyettAP"
      },
      "outputs": [],
      "source": [
        "a, b, c = int(input()), int(input()), int(input())\n",
        "print('a =',b + c)\n",
        "print('b =',a + c)\n",
        "print('c =',a + b)"
      ]
    },
    {
      "cell_type": "code",
      "execution_count": null,
      "metadata": {
        "id": "d6_5q1Mht-YQ"
      },
      "outputs": [],
      "source": [
        "a, b, c = int(input()), int(input()), int(input())\n",
        "print('a =',b + c,'b =',a + c,'c =',a + b)\n"
      ]
    },
    {
      "cell_type": "markdown",
      "metadata": {
        "id": "V1MHxE5O0maM"
      },
      "source": [
        "# Task 5 home assignment\n",
        "3 people participated in a song contest: Jack,Bill and Max. The Jury made a mistake when assigning the places:\n",
        "\n",
        "place_1 = 'Jack'\n",
        "place_2 = 'Bill'\n",
        "place_3 = 'Max'\n",
        "\n",
        " It should go like this:\n",
        "place_1 = 'Bill'\n",
        "place_2 = 'Max'\n",
        "place_3 = 'Jack'\n",
        "\n",
        "Write a code which will change the order.\n",
        "Your output:\n",
        "\n",
        "print(place_1,place_2,place_3)\n",
        "\n",
        "Bill,Max,Jack"
      ]
    },
    {
      "cell_type": "code",
      "execution_count": null,
      "metadata": {
        "id": "4h7M2kdD0maN"
      },
      "outputs": [],
      "source": [
        "place_1 = 'Jack'\n",
        "place_2 = 'Bill'\n",
        "place_3 = 'Max'\n",
        "place_1, place_2,place_3=place_2, place_3, place_1\n",
        "print(place_1+\",\"+place_2+\",\"+place_3)\n"
      ]
    },
    {
      "cell_type": "code",
      "execution_count": null,
      "metadata": {
        "id": "_jo0-YQAbgSE"
      },
      "outputs": [],
      "source": [
        "place_1 = 'Jack'\n",
        "place_2 = 'Bill'\n",
        "place_3 = 'Max'\n",
        "place_1, place_2,place_3=place_2, place_3, place_1\n",
        "print(place_1,place_2,place_3, sep=',')"
      ]
    },
    {
      "cell_type": "code",
      "execution_count": null,
      "metadata": {
        "id": "p69RMpKw0maN"
      },
      "outputs": [],
      "source": [
        "place_1 = 'Jack'\n",
        "place_2 = 'Bill'\n",
        "place_3 = 'Max'\n",
        "place_1, place_2,place_3=place_2, place_3, place_1\n",
        "print(place_1,place_2,place_3)"
      ]
    },
    {
      "cell_type": "markdown",
      "metadata": {
        "id": "CBEaS16RcT3_"
      },
      "source": [
        "Write a Python program that accepts an integer number n from the user. Then modify this number as follows:\n",
        "1. you check whether the number is odd or even.\n",
        "\n",
        "2.If the number is even, add one to it and print it.\n",
        "\n",
        "3.If the number is odd, multiply it by two and print it.\n",
        "\n",
        "Finally, output the new value of the number."
      ]
    },
    {
      "cell_type": "code",
      "execution_count": null,
      "metadata": {
        "id": "SzEORIS1eO8Q"
      },
      "outputs": [],
      "source": [
        "x=int(input('Enter the number:'))\n",
        "print(x%2) # if the output = 0, it means that the number is even."
      ]
    },
    {
      "cell_type": "code",
      "execution_count": null,
      "metadata": {
        "id": "Ey4c6Zg_e8pd"
      },
      "outputs": [],
      "source": [
        "print( x+1)\n",
        "print (x*2)"
      ]
    },
    {
      "cell_type": "code",
      "execution_count": null,
      "metadata": {
        "id": "V0-PU42zfPn9"
      },
      "outputs": [],
      "source": [
        "x=int(input('Enter the number:'))\n",
        "if x%2==0:\n",
        "  print (x+1)\n",
        "else:\n",
        "  print (x*2)"
      ]
    },
    {
      "cell_type": "markdown",
      "metadata": {
        "id": "CDXW8VY00maN"
      },
      "source": [
        "### Syntactic sugar\n",
        "\n",
        ">x += 10  (x = x + 10)\n",
        "\n",
        ">x -= 10                     (x = x - 10)\n",
        "\n",
        ">x *= 10                     (x = x * 10)\n",
        "\n",
        ">x /= 10      (x = x / 10)\n",
        "\n",
        ">x * *= 10                   (x = x * * 10)\n",
        "\n",
        ">x %= 10                    (x = x % 10)\n",
        "\n"
      ]
    },
    {
      "cell_type": "code",
      "execution_count": null,
      "metadata": {
        "id": "YomCD2tV0maN"
      },
      "outputs": [],
      "source": [
        "x = 3\n",
        "x*=5 ## x = x*5\n",
        "print(x)"
      ]
    },
    {
      "cell_type": "code",
      "execution_count": null,
      "metadata": {
        "id": "PTRyosEh0maN"
      },
      "outputs": [],
      "source": [
        "x=2\n",
        "x**=2 #x=x**2\n",
        "print(x)"
      ]
    },
    {
      "cell_type": "markdown",
      "metadata": {
        "id": "6tGfUUKR0maN"
      },
      "source": [
        "### Deleting a name\n",
        "\n",
        "To delete the attachment we use the Python command “del”.\n",
        "\n",
        "x = 3\n",
        "\n",
        "del x\n"
      ]
    },
    {
      "cell_type": "code",
      "execution_count": null,
      "metadata": {
        "id": "vPBsf1hI0maO"
      },
      "outputs": [],
      "source": [
        "x = 3\n",
        "del x\n",
        "print (x)"
      ]
    },
    {
      "cell_type": "markdown",
      "metadata": {
        "id": "ufirAawB0maO"
      },
      "source": [
        "### Boolean Expressions\n",
        "\n",
        "\n",
        "**True** and **False** are (the only) two values of a special Python type called a “Boolean” used for\n",
        "recording whether something is true or not.\n",
        "\n",
        "You can turn something into a boolean variable using the **bool ()** function.\n",
        "\n",
        "If you convert numbers then - 0 will turn into False, everything else - True."
      ]
    },
    {
      "cell_type": "code",
      "execution_count": null,
      "metadata": {
        "id": "1sSLe9zY0maO"
      },
      "outputs": [],
      "source": [
        "print(type(True), type(False))"
      ]
    },
    {
      "cell_type": "code",
      "execution_count": null,
      "metadata": {
        "id": "71wC5lq-0maO"
      },
      "outputs": [],
      "source": [
        "print(bool(0))\n",
        "print(bool(23))\n",
        "print(bool(-10))"
      ]
    },
    {
      "cell_type": "markdown",
      "metadata": {
        "id": "gll9IQjs0maO"
      },
      "source": [
        "An empty string is converted to False, all other strings to True.\n",
        "\n",
        "The boolean variable can be converted to **int**  - zero and one."
      ]
    },
    {
      "cell_type": "code",
      "execution_count": null,
      "metadata": {
        "id": "8-AACuMX0maP"
      },
      "outputs": [],
      "source": [
        "print(bool())\n",
        "print(bool('k'))"
      ]
    },
    {
      "cell_type": "code",
      "execution_count": null,
      "metadata": {
        "id": "2cKU34a90maP"
      },
      "outputs": [],
      "source": [
        "print(int(True))\n",
        "print(int(False))"
      ]
    },
    {
      "cell_type": "markdown",
      "metadata": {
        "id": "epsakIAj0maP"
      },
      "source": [
        "### Comparison Operators\n",
        "\n",
        "Boolean expressions ask a question and produce a **Yes** or **No** result which we use to control program flow\n",
        "\n",
        "Boolean expressions using comparison operators evaluate to True / False or Yes / No\n",
        "\n",
        "Comparison operators look at variables but do not change the variables\n",
        "\n",
        "\n",
        "    == (Equal to)\n",
        "    != (Not equal)\n",
        "    > (Greater than)\n",
        "    < (Less than)\n",
        "    >= (Greater than or equal to)\n",
        "    <= (Less than or equal to)\n",
        "\n"
      ]
    },
    {
      "cell_type": "code",
      "execution_count": null,
      "metadata": {
        "id": "vlweLDiQ0maQ"
      },
      "outputs": [],
      "source": [
        "print(1 == 1)\n",
        "print(1 != '1')\n",
        "print (1 != int('1')) # 1!=1\n",
        "c = 1 > 3\n",
        "print(c)\n",
        "print(type(c))\n",
        "x = 5\n",
        "print(1 < x <= 5) # 1<x and x<=5"
      ]
    },
    {
      "cell_type": "markdown",
      "metadata": {
        "id": "H3gbdY5P0maQ"
      },
      "source": [
        "### Logical operators\n",
        "\n",
        "      AND - expression is true only when both sides are true, otherwise it is false\n",
        "      OR (or) - expression is false only when both parts are false, otherwise it is true\n",
        "      negation (not) - This takes only one input and “flips” it. True becomes False and vice versa.\n",
        "\n"
      ]
    },
    {
      "cell_type": "code",
      "execution_count": null,
      "metadata": {
        "id": "S57cKDtC0maQ"
      },
      "outputs": [],
      "source": [
        "print((1 == 1) and ('1' == 1))\n",
        "print(('1' == 1) or (1 == 1))\n",
        "print(not(1 == 1))\n",
        "print(((1 == 1) or ('1' == 1)) and (2 == 2)) # True or False and True\n",
        "print(((1 == 2) or ('1' == 1)) and (2 == 2)) #False and True\n",
        "print(((1 == 2) or ('1' == 1)) and (2 == 3) or (1>3) ) #False and False\n",
        "print(((1 < 2) or (1 == 1)) and ((2 < 3) or (1>3)) ) #True and True"
      ]
    },
    {
      "cell_type": "markdown",
      "metadata": {
        "id": "BpizkuCk0maR"
      },
      "source": [
        "# Task 6\n",
        "\n",
        "Prompt the user for an integer.\n",
        "\n",
        "Create an expression checking whether the user's input is larger than 0 and smaller than 100.\n",
        "\n",
        "Output should return \"True\" or \"False\""
      ]
    },
    {
      "cell_type": "code",
      "execution_count": null,
      "metadata": {
        "id": "1ZAdQboL0maR"
      },
      "outputs": [],
      "source": [
        "c=int(input())\n",
        "print(0<c<100) #0<105<100"
      ]
    },
    {
      "cell_type": "code",
      "execution_count": null,
      "metadata": {
        "id": "y9enHfVE0maR"
      },
      "outputs": [],
      "source": [
        "x= int(input())\n",
        "print(x>0 and x<100)\n"
      ]
    },
    {
      "cell_type": "markdown",
      "metadata": {
        "id": "jN_6FX1i0maS"
      },
      "source": [
        "# Task 7\n",
        "\n",
        "Prompt the user for three integers.\n",
        "\n",
        "Create an expression comparing them.\n",
        "\n",
        "If two of them are equal - \"True\"\n",
        "\n",
        "If they are all equal - \"True\"\n"
      ]
    },
    {
      "cell_type": "code",
      "execution_count": null,
      "metadata": {
        "id": "bnq_wvxw0maS"
      },
      "outputs": [],
      "source": [
        "a, b, c= int(input ()), int(input ()), int (input ())\n",
        "print((a==b==c) or ((a==b) or (b==c) or (a==c)))"
      ]
    },
    {
      "cell_type": "markdown",
      "metadata": {
        "id": "vxZE8m470maT"
      },
      "source": [
        "### Task 8\n",
        "\n",
        "Vasya went to Italy to study. The only store in the city is open **from 6 am to 8 am and from 4 pm to 5 pm**. Vasya has not been able to get to the store for several days and is suffering from hunger. He can come to the store at X o'clock. If the store is open at X hours, then output should be ***True***, and if it is closed, output -  ***False***.\n",
        "\n",
        "Input contains an integer X ( from 0 to 23 )\n",
        "\n",
        "Output format: True or False\n",
        "\n",
        "Example:\n",
        "\n",
        "Input data: 16\n",
        "\n",
        "Output of the program: True"
      ]
    },
    {
      "cell_type": "code",
      "execution_count": null,
      "metadata": {
        "id": "Yp2wqnr30maT"
      },
      "outputs": [],
      "source": [
        "x=int(input())\n",
        "print((6<=x<=8) or (16<=x<=17))"
      ]
    },
    {
      "cell_type": "code",
      "execution_count": null,
      "metadata": {
        "id": "ldDXGsVV0mac"
      },
      "outputs": [],
      "source": [
        "a=float(input(\"Your hour \"))\n",
        "print(a)\n",
        "print((6<=a<=8) or (16<=a<=17))"
      ]
    },
    {
      "cell_type": "code",
      "execution_count": null,
      "metadata": {
        "id": "fxwL3hYPsGes"
      },
      "outputs": [],
      "source": []
    },
    {
      "cell_type": "markdown",
      "metadata": {
        "id": "yTQk6vjq0mac"
      },
      "source": [
        "### Conditional execution\n",
        "\n",
        "In order to write useful programs, we almost always need the ability to check conditions\n",
        "and change the behavior of the program accordingly. Conditional statements\n",
        "give us this ability. The simplest form is the if statement:\n",
        "\n",
        ">if x > 0 :\n",
        "\n",
        ">>print('x is positive')\n",
        "\n",
        "The boolean expression after the if statement is called ***the condition***. We end the\n",
        "if statement with a colon character (:) and the line(s) after the if statement are\n",
        "indented.  \n",
        "If the logical condition is true, then the indented statement gets executed. If the\n",
        "logical condition is false, the indented statement is skipped."
      ]
    },
    {
      "cell_type": "code",
      "execution_count": null,
      "metadata": {
        "id": "VrLpgRzB0mad"
      },
      "outputs": [],
      "source": [
        "x=int(input())\n",
        "if x>0:\n",
        "    print(x)"
      ]
    },
    {
      "cell_type": "code",
      "execution_count": null,
      "metadata": {
        "id": "pzN44Mzg0mad"
      },
      "outputs": [],
      "source": [
        "x = 50\n",
        "if x == 5 :\n",
        "    print('Equals 5')\n",
        "if x > 4 :\n",
        "    print('Greater than 4')\n",
        "if  x >= 5 :\n",
        "    print('Greater than or Equals 5')\n",
        "if x < 6 :\n",
        "    print('Less than 6')\n",
        "if x <= 5 :\n",
        "    print('Less than or Equals 5')\n",
        "if x != 6 :\n",
        "    print('Not equal 6')"
      ]
    },
    {
      "cell_type": "markdown",
      "metadata": {
        "id": "08j_QM8ajt1X"
      },
      "source": [
        "**Task 9**\n",
        "\n",
        "Create a program that outputs the entered number only if it is greater than 10."
      ]
    },
    {
      "cell_type": "code",
      "execution_count": null,
      "metadata": {
        "id": "bsJQtSaIk9zM"
      },
      "outputs": [],
      "source": [
        "x=float (input())\n",
        "if x>10:\n",
        "  print(int(x))"
      ]
    },
    {
      "cell_type": "markdown",
      "metadata": {
        "id": "ttxAkht-k-Tw"
      },
      "source": [
        "**Task 10**\n",
        "\n",
        "Create a program that outputs the larger of the two numbers entered."
      ]
    },
    {
      "cell_type": "code",
      "execution_count": null,
      "metadata": {
        "id": "zEZqoYVKlJir"
      },
      "outputs": [],
      "source": [
        "a=float(input('enter a number:'))\n",
        "b=float(input('enter a number:'))\n",
        "if a>b:\n",
        " print (a)\n",
        "if b>a:\n",
        " print (b)"
      ]
    },
    {
      "cell_type": "markdown",
      "metadata": {
        "id": "hbXZadiPljGk"
      },
      "source": [
        "**Task 11**\n",
        "\n",
        "Create a program that determines for an integer whether it is divisible by 3.\n",
        "If it is divisible by 3 print \"Yes\". If not - print\"No\""
      ]
    },
    {
      "cell_type": "code",
      "execution_count": null,
      "metadata": {
        "id": "XZ2kcu-QlnPT"
      },
      "outputs": [],
      "source": [
        "a = int(input())\n",
        "if a % 3 == 0:\n",
        "  print('Yes')\n",
        "if a % 3 != 0:\n",
        "  print(\"No\")"
      ]
    },
    {
      "cell_type": "markdown",
      "metadata": {
        "id": "B7PfyQCVANOn"
      },
      "source": [
        "**Task 12**\n",
        "\n",
        "Create a program that determines for two integers whether their residues differ from dividing by 5.\n",
        "\n",
        "Example: for 6 and 11 the residues are equal (1)\n"
      ]
    },
    {
      "cell_type": "code",
      "execution_count": null,
      "metadata": {
        "id": "jRTOnn87AnZz"
      },
      "outputs": [],
      "source": [
        "print (6%5,11%5)"
      ]
    },
    {
      "cell_type": "code",
      "execution_count": null,
      "metadata": {
        "id": "EAtJkO6hAovQ"
      },
      "outputs": [],
      "source": [
        "a, b = int(input()), int(input())\n",
        "if (a % 5) == (b % 5):\n",
        "  print (\"Yes\")\n",
        "if (a % 5) != (b % 5):\n",
        "  print (\"No\")"
      ]
    },
    {
      "cell_type": "markdown",
      "metadata": {
        "id": "dbHfOetFAn_E"
      },
      "source": [
        "**Task 13 **\n",
        "\n",
        "Create a program that outputs \"Yes\" for two entered integers if one of them is exactly twice as large as the other, and \"No\" in all other cases.\n"
      ]
    },
    {
      "cell_type": "code",
      "execution_count": null,
      "metadata": {
        "id": "BNbQzTvLBH1x"
      },
      "outputs": [],
      "source": [
        "a, b = int(input()), int(input())\n",
        "if ((a == b*2) or (b == a*2)):\n",
        "  print('Yes')\n",
        "if ((a != b*2) and (b != a*2)): ### ((a != b*2) or (b != a*2))\n",
        "  print('No')"
      ]
    },
    {
      "cell_type": "markdown",
      "metadata": {
        "id": "5mCsXuAvBIQi"
      },
      "source": [
        "**Task 14 **\n",
        "\n",
        "Create a program that outputs \"Yes\" if the entered integer is greater than 200 or divisible by 2 and \"No\" in all other cases."
      ]
    },
    {
      "cell_type": "code",
      "execution_count": null,
      "metadata": {
        "id": "gGbgZ6rQBkKs"
      },
      "outputs": [],
      "source": [
        "a = int(input())\n",
        "if (a > 200) or (a % 2 == 0):\n",
        "  print (\"Yes\")\n",
        "if (a <= 200) and (a % 2!=0):\n",
        "  print (\"No\")"
      ]
    },
    {
      "cell_type": "markdown",
      "metadata": {
        "id": "9Mwz7FvfBkjn"
      },
      "source": [
        "**Task 15 **\n",
        "\n",
        "Create a program that outputs \"Yes\" if the remainder of the division by 3 of the entered number matches the remainder of the division by 3 of the number 2023 and \"No\" otherwise."
      ]
    },
    {
      "cell_type": "code",
      "execution_count": null,
      "metadata": {
        "id": "wnuQq4PYCDvX"
      },
      "outputs": [],
      "source": [
        "x = int (input ())\n",
        "if x%3 == 2023%3:\n",
        "  print (\"Yes\")\n",
        "if x%3 != 2023%3:\n",
        "  print (\"No\")"
      ]
    },
    {
      "cell_type": "code",
      "execution_count": null,
      "metadata": {
        "id": "is76aIfHhqgS"
      },
      "outputs": [],
      "source": [
        "x = float (input ())\n",
        "if x%3 == 2023%3:\n",
        "  print (\"Yes\")\n",
        "if x%3 != 2023%3:\n",
        "  print (\"No\")"
      ]
    },
    {
      "cell_type": "markdown",
      "metadata": {
        "id": "yiTD1yqJeD7T"
      },
      "source": [
        "# Task\n",
        "\n",
        " Create a script to determine if an\n",
        "\n",
        "inputted integer is positive,\n",
        "\n",
        "negative, or zero.\n",
        "\n",
        "if it is positive: print \"Positive\",\n",
        "\n",
        "if negative - \"Negative\",\n",
        "\n",
        "if 0 - \"Zero\""
      ]
    },
    {
      "cell_type": "code",
      "execution_count": null,
      "metadata": {
        "id": "YDwihyAif50P"
      },
      "outputs": [],
      "source": [
        "x = int (input())\n",
        "if x > 0 :\n",
        "    print (\"Positive\")\n",
        "if x == 0:\n",
        "    print (\"Zero\")\n",
        "if x < 0 :\n",
        "    print (\"Negative\")"
      ]
    },
    {
      "cell_type": "code",
      "execution_count": null,
      "metadata": {
        "id": "d0TorGbKeeXT"
      },
      "outputs": [],
      "source": [
        "n = int(input(\"Enter a number: \"))\n",
        "if n > 0:\n",
        "    print(\"Positive\")\n",
        "elif n < 0:\n",
        "    print(\"Negative\")\n",
        "else:\n",
        "    print(\"Zero\")"
      ]
    },
    {
      "cell_type": "markdown",
      "metadata": {
        "id": "KO-8C87CgTi8"
      },
      "source": [
        "# Task\n",
        "\n",
        "Develop a small program that compares two numbers and prints which one is larger."
      ]
    },
    {
      "cell_type": "code",
      "execution_count": null,
      "metadata": {
        "id": "0Nn4lPhEgoKA"
      },
      "outputs": [],
      "source": [
        "a=int(input())\n",
        "b=int(input())\n",
        "if a>b:\n",
        "    print (a)\n",
        "if a<b:\n",
        "    print (b)"
      ]
    },
    {
      "cell_type": "code",
      "execution_count": null,
      "metadata": {
        "id": "uZaLkV7ulxHu"
      },
      "outputs": [],
      "source": [
        "a=int(input())\n",
        "b=int(input())\n",
        "if a>b:\n",
        "    print (a)\n",
        "else:\n",
        "    print (b)"
      ]
    },
    {
      "cell_type": "markdown",
      "metadata": {
        "id": "IDaSty95r2bN"
      },
      "source": [
        "**Task 16 **\n",
        "\n",
        "Write a programme which tells you what to wear or take depending on the weather.\n",
        "\n",
        "Input: the weather (2 options)\n",
        "\n",
        "Output: a thing\n",
        "\n",
        "Raining and cold? –> Raincoat\n",
        "\n",
        "Cold and not raining? –> Sweatshirt\n",
        "\n",
        "Raining and not cold? –> Umbrella\n",
        "\n",
        "Sunny and not cold -> T-Shirt"
      ]
    },
    {
      "cell_type": "code",
      "execution_count": null,
      "metadata": {
        "colab": {
          "background_save": true
        },
        "id": "sPAj3vQshpWp"
      },
      "outputs": [],
      "source": [
        "weather = input()\n",
        "if weather == 'raining and cold':\n",
        "  print('raincoat')\n",
        "if weather == 'cold and not raining':\n",
        "  print('sweatshirt')\n",
        "if weather == 'raining and not cold':\n",
        "  print('umbrella')\n",
        "if weather == 'sunny and not cold':\n",
        "  print('t-shirt')"
      ]
    },
    {
      "cell_type": "code",
      "execution_count": null,
      "metadata": {
        "colab": {
          "background_save": true
        },
        "id": "LB1ENX58jZ1H"
      },
      "outputs": [],
      "source": [
        "print(\"What's the weather like today?\")\n",
        "weather1=input(\"Is it sunny or rainy? \")\n",
        "weather2=input(\"Is it cold? (yes/no) \")\n",
        "if (weather1==\"rainy\")and(weather2==\"yes\"):\n",
        "  print(\"Take a raincoat\")\n",
        "if (weather1!=\"rainy\") and (weather2==\"yes\"):\n",
        "  print(\"Put a sweatshirt on\")\n",
        "if(weather1==\"rainy\")and (weather2 == 'no'):\n",
        "  print(\"Take an umbrella\")\n",
        "if(weather1=='sunny')and(weather2==\"no\"):\n",
        "  print(\"Put a t-shirt on\")"
      ]
    },
    {
      "cell_type": "markdown",
      "metadata": {
        "id": "gaQqe00P0mad"
      },
      "source": [
        "### Alternative execution  \n",
        "A second form of the if statement is alternative execution, in which there are two  \n",
        "possibilities and the condition determines which one gets executed. The syntax\n",
        "looks like this:  \n",
        ">if x%2 == 0 :\n",
        ">>print('x is even')\n",
        "\n",
        "\n",
        ">else :                  \n",
        ">>print('x is odd')"
      ]
    },
    {
      "cell_type": "code",
      "execution_count": null,
      "metadata": {
        "colab": {
          "background_save": true
        },
        "id": "JZSKy1-p0mad"
      },
      "outputs": [],
      "source": [
        "x = int(input())\n",
        "if x%2 == 0 :\n",
        "    print('x is even')\n",
        "else :\n",
        "    print('x is odd')"
      ]
    },
    {
      "cell_type": "markdown",
      "metadata": {
        "id": "UyjHoYoN0mad"
      },
      "source": [
        "### Chained conditionals  \n",
        "\n",
        "Sometimes there are more than two possibilities and we need more than two\n",
        "branches. One way to express a computation like that is a chained conditional:\n",
        "\n",
        "\n",
        ">if x < y:\n",
        ">>print('x is less than y')\n",
        "\n",
        ">elif x > y:\n",
        ">>print('x is greater than y')\n",
        "\n",
        ">else:\n",
        ">>print('x and y are equal')\n",
        "\n",
        "elif is an abbreviation of “else if.” Again, exactly one branch will be executed.\n",
        "There is no limit on the number of elif statements. If there is an else clause, it\n",
        "has to be at the end, but there doesn’t have to be one.  \n",
        "Each condition is checked in order. If the first is false, the next is checked, and so\n",
        "on. If one of them is true, the corresponding branch executes, and the statement\n",
        "ends. Even if more than one condition is true, only the first true branch executes."
      ]
    },
    {
      "cell_type": "code",
      "execution_count": null,
      "metadata": {
        "id": "DC6uo1i90mad"
      },
      "outputs": [],
      "source": [
        "x = int(input())\n",
        "y = int (input())\n",
        "if x < y:\n",
        "    print('x is less than y')\n",
        "elif x > y:\n",
        "    print('x is greater than y')\n",
        "else:\n",
        "    print('x and y are equal')\n",
        "\n"
      ]
    },
    {
      "cell_type": "markdown",
      "metadata": {
        "id": "vdyNzj0j0mae"
      },
      "source": [
        "### Task 17\n",
        "\n",
        "Masha and Petya write a number down on a piece of paper, which they give to Kolya. Kolya announces the name of the winner ( the person with the largest number wins) or announces a draw if the numbers are equal.\n",
        "\n",
        "INPUT FORMAT:\n",
        "\n",
        "     A - an integer from 0 to 1000 (the number that Masha has in mind)\n",
        "     B - an integer from 0 to 1000 (the number that Petya meant)\n",
        "     Each is entered on a new line.\n",
        "\n",
        "OUTPUT FORMAT:\n",
        "\n",
        "     String \"Masha\", \"Petya\" or \"Draw\", the answer to the problem"
      ]
    },
    {
      "cell_type": "code",
      "execution_count": null,
      "metadata": {
        "colab": {
          "background_save": true
        },
        "id": "ZwQSj_nX0mae"
      },
      "outputs": [],
      "source": [
        "m = int(input())\n",
        "p = int(input())\n",
        "if m > p:\n",
        "    print(\"Masha\")\n",
        "elif p > m:\n",
        "    print(\"Petya\")\n",
        "else:\n",
        "    print(\"Draw\")"
      ]
    },
    {
      "cell_type": "code",
      "execution_count": null,
      "metadata": {
        "colab": {
          "background_save": true
        },
        "id": "YrQVGR0Eodjd"
      },
      "outputs": [],
      "source": [
        "a, b = int(input('enter a number from 0 to 1000:')), int(input('enter a number from 0 to 1000:'))\n",
        "if a > b:\n",
        "  print('Masha')\n",
        "elif b > a:\n",
        "  print('Petya')\n",
        "else:\n",
        "  print('Draw')"
      ]
    },
    {
      "cell_type": "code",
      "execution_count": null,
      "metadata": {
        "colab": {
          "background_save": true
        },
        "id": "hOOdTpKkoxjz"
      },
      "outputs": [],
      "source": [
        "Masha = int(input(\"The first integer from 0 to 1000 \"))\n",
        "Petya = int (input(\"The second integer from 0 to 1000 \"))\n",
        "if ((1000<Masha or Masha<0) or (1000<Petya or Petya<0)):\n",
        "    print(\"You've put wrong numbers\" )\n",
        "elif Masha > Petya:\n",
        "    print('Masha')\n",
        "elif Petya > Masha:\n",
        "    print('Petya')\n",
        "else:\n",
        "    print('Draw')"
      ]
    },
    {
      "cell_type": "markdown",
      "metadata": {
        "id": "76Iy08pACZOT"
      },
      "source": [
        "**Task 18**\n",
        "\n",
        "Create a program that prints the name of the time of the year by the number of the month (from 1 to 12).\n",
        "\n",
        "Input: 3\n",
        "\n",
        "Output: Spring"
      ]
    },
    {
      "cell_type": "code",
      "execution_count": null,
      "metadata": {
        "colab": {
          "background_save": true
        },
        "id": "JaPmjTLcCua0"
      },
      "outputs": [],
      "source": [
        "month = int(input('enter the number of the month '))\n",
        "if month == 12 or month == 1 or month == 2:\n",
        "  print ('winter')\n",
        "elif month == 3 or month ==4 or month ==5:\n",
        "  print ('spring')\n",
        "elif month == 6 or month ==7 or month == 8:\n",
        "  print('summer')\n",
        "elif month == 9 or month == 10 or month == 11:\n",
        "  print('fall')\n",
        "else:\n",
        "  print('no such month')"
      ]
    },
    {
      "cell_type": "code",
      "execution_count": null,
      "metadata": {
        "colab": {
          "background_save": true
        },
        "id": "-FR5m3VIwaOB"
      },
      "outputs": [],
      "source": [
        "month=int(input(\"The number of your month is \"))\n",
        "if ((0<month<=2) or (month==12)):\n",
        "  print (\"winter\")\n",
        "elif (2<month<6):\n",
        "  print(\"Spring\")\n",
        "elif(6<=month<=8): # 5<month<9\n",
        "  print(\"Summer\")\n",
        "elif (9<=month<=11):\n",
        "  print('autumn')\n",
        "else:\n",
        "  print('no such month')"
      ]
    },
    {
      "cell_type": "code",
      "execution_count": 50,
      "metadata": {
        "colab": {
          "base_uri": "https://localhost:8080/"
        },
        "id": "z0-q-XqdxMsK",
        "outputId": "664bee97-ed19-4c5a-ec19-d7a99e893b5f"
      },
      "outputs": [
        {
          "output_type": "stream",
          "name": "stdout",
          "text": [
            "The number of your month is 15\n",
            "no such month\n"
          ]
        }
      ],
      "source": [
        "month=int(input(\"The number of your month is \"))\n",
        "if month in (3,4,5):\n",
        "  print('spring')\n",
        "elif month in (6,7,8):\n",
        "  print('summer')\n",
        "elif month in (9,10,11):\n",
        "  print('autumn')\n",
        "elif month in (1,2,12):\n",
        "  print('winter')\n",
        "else:\n",
        "  print('no such month')"
      ]
    },
    {
      "cell_type": "markdown",
      "metadata": {
        "id": "eIa6lNyECvAp"
      },
      "source": [
        "**Task 19**\n",
        "\n",
        "Create a program that prints the number of days in this month for a non-leap year based on the month number (from 1 to 12).\n",
        "\n",
        "Input: 3\n",
        "\n",
        "Output: 31"
      ]
    },
    {
      "cell_type": "code",
      "execution_count": null,
      "metadata": {
        "colab": {
          "background_save": true
        },
        "id": "O2nRzIU1DEAH"
      },
      "outputs": [],
      "source": [
        "month=int(input(\"The number of your month is \"))\n",
        "if month in (1,3,5,7,8,10,12):\n",
        "  print ('31')\n",
        "elif month in (4,6,9,11):\n",
        "  print('30')\n",
        "else:\n",
        "  print('28')"
      ]
    },
    {
      "cell_type": "code",
      "source": [
        "month=int(input(\"The number of your month is \"))\n",
        "if month==2:\n",
        "  print ('28')\n",
        "elif month in (4,6,9,11):\n",
        "  print('30')\n",
        "else:\n",
        "  print('31')"
      ],
      "metadata": {
        "colab": {
          "base_uri": "https://localhost:8080/"
        },
        "id": "dP3PlvgEtXRM",
        "outputId": "50b15afa-aa99-47c2-a838-1731766ba749"
      },
      "execution_count": 54,
      "outputs": [
        {
          "output_type": "stream",
          "name": "stdout",
          "text": [
            "The number of your month is 5\n",
            "31\n"
          ]
        }
      ]
    },
    {
      "cell_type": "markdown",
      "metadata": {
        "id": "LYHJNrpPDEnr"
      },
      "source": [
        "**Task 20**\n",
        "\n",
        "Given is the unit of mass (1-kg, 2-grams, 3-tons) and body weight M, define the body weight in kg.\n",
        "\n",
        "Input: 3, 0.09\n",
        "\n",
        "Output: 90 kg"
      ]
    },
    {
      "cell_type": "code",
      "execution_count": null,
      "metadata": {
        "colab": {
          "background_save": true
        },
        "id": "41U5v1g1EWmi"
      },
      "outputs": [],
      "source": [
        "m, w = int(input()), float(input())\n",
        "if m == 1:\n",
        "  print(w)\n",
        "elif m == 2:\n",
        "  print(w/1000)\n",
        "elif m == 3:\n",
        "  print(w * 1000)"
      ]
    },
    {
      "cell_type": "code",
      "execution_count": 56,
      "metadata": {
        "colab": {
          "base_uri": "https://localhost:8080/"
        },
        "id": "2AE7jj1D3IzA",
        "outputId": "24d2faf7-7c67-4b29-9b97-17b74c113679"
      },
      "outputs": [
        {
          "output_type": "stream",
          "name": "stdout",
          "text": [
            "3\n",
            "0.006\n",
            "6.0\n"
          ]
        }
      ],
      "source": [
        "m, w = int(input()), float(input())\n",
        "if m == 1:\n",
        "  print(w)\n",
        "elif m == 2:\n",
        "  print(w/1000)\n",
        "else:\n",
        "  print(w * 1000)"
      ]
    },
    {
      "cell_type": "markdown",
      "metadata": {
        "id": "d0JoYN7f0mae"
      },
      "source": [
        "### Nested conditionals  \n",
        "One conditional statement can also be nested within another. We could have written the\n",
        "three-branch example like this:\n",
        "\n",
        "if x == y:    \n",
        ">print('x and y are equal')\n",
        "\n",
        "else:  \n",
        "\n",
        ">if x < y:\n",
        "\n",
        ">>print('x is less than y')\n",
        "\n",
        ">else:\n",
        "\n",
        ">>print('x is greater than y')"
      ]
    },
    {
      "cell_type": "code",
      "execution_count": null,
      "metadata": {
        "colab": {
          "background_save": true
        },
        "id": "TQPT-fkl0mae"
      },
      "outputs": [],
      "source": [
        "x = int(input()) ##The outer conditional contains two branches. The first branch contains a simple statement. The second branch contains another if statement, which has two branches of its own.\n",
        "y = int (input())\n",
        "if x == y:\n",
        "    print('x and y are equal')\n",
        "else:\n",
        "    if x < y:\n",
        "        print('x is less than y')\n",
        "    else:\n",
        "        print('x is greater than y')\n",
        "\n"
      ]
    },
    {
      "cell_type": "code",
      "execution_count": null,
      "metadata": {
        "colab": {
          "background_save": true
        },
        "id": "Cfh2qhVfFQCf"
      },
      "outputs": [],
      "source": [
        "x = int(input())\n",
        "if x<=0:\n",
        "  print('wrong number')\n",
        "elif x>=10:\n",
        "  print('wrong number')\n",
        "else:\n",
        "    if x>0:\n",
        "        if x<10:\n",
        "          print('x is a positive single-digit number')"
      ]
    },
    {
      "cell_type": "code",
      "execution_count": null,
      "metadata": {
        "colab": {
          "background_save": true
        },
        "id": "L2d2g9xN5HWH"
      },
      "outputs": [],
      "source": [
        "x = int(input())\n",
        "if x<=0:\n",
        "  print('wrong number')\n",
        "elif x>=10:\n",
        "  print('wrong number')\n",
        "elif 0<x<10:\n",
        "  print('x is a positive single-digit number')"
      ]
    },
    {
      "cell_type": "code",
      "execution_count": null,
      "metadata": {
        "colab": {
          "background_save": true
        },
        "id": "_WJmEhO35biL"
      },
      "outputs": [],
      "source": [
        "\n",
        "x = int(input())\n",
        "if 0<x<10:\n",
        "  print('x is a positive single-digit number')\n",
        "else:\n",
        "  print('wrong number')"
      ]
    },
    {
      "cell_type": "markdown",
      "metadata": {
        "id": "8SaOs5Bt0mae"
      },
      "source": [
        "Logical operators often provide a way to simplify nested conditional statements.\n",
        "For example, we can rewrite the code above using a single conditional:  \n",
        "\n",
        " if 0 < x and x < 10:\n",
        "    \n",
        "    print('x is a positive single-digit number.')\n"
      ]
    },
    {
      "cell_type": "code",
      "execution_count": null,
      "metadata": {
        "colab": {
          "background_save": true
        },
        "id": "ybic-OrY0mae"
      },
      "outputs": [],
      "source": [
        "x = int(input())\n",
        "if 0 < x < 10:\n",
        "    print('x is a positive single-digit number.')\n",
        "else:\n",
        "    print('wrong number')"
      ]
    },
    {
      "cell_type": "markdown",
      "metadata": {
        "id": "HgOvT3b30mae"
      },
      "source": [
        "### Task 21\n",
        "\n",
        "You are given a number and have to make it negative. But maybe the number is already negative?\n",
        "\n",
        "Example:\n",
        "\n",
        "input(1);  # output (-1)\n",
        "\n",
        "\n",
        "input(-5); # output (-5)\n",
        "\n",
        "\n",
        "input(0);  # output (0)\n",
        "\n"
      ]
    },
    {
      "cell_type": "code",
      "execution_count": null,
      "metadata": {
        "colab": {
          "background_save": true
        },
        "id": "qWWgoDIv0maf"
      },
      "outputs": [],
      "source": [
        "x = int(input())\n",
        "if x > 0:\n",
        "  print(-x)\n",
        "else:\n",
        "  print(x)\n"
      ]
    },
    {
      "cell_type": "code",
      "execution_count": null,
      "metadata": {
        "colab": {
          "background_save": true
        },
        "id": "7nGSBt0C7SwD"
      },
      "outputs": [],
      "source": [
        "x = int(input())\n",
        "if x > 0:\n",
        "  print(0-x)\n",
        "else:\n",
        "  print(x)"
      ]
    },
    {
      "cell_type": "markdown",
      "metadata": {
        "id": "trNexqS00maf"
      },
      "source": [
        "### Task 22 H/A\n",
        "Write a program to prompt for a score between 0.0 and\n",
        "1.0. If the score is out of range, print ' Bad score'. If the score is\n",
        "between 0.0 and 1.0, print a grade using the following table:\n",
        "\n",
        "0.9<=x<=1.0 - A\n",
        "\n",
        "0.8<=x<0.9 - B\n",
        "\n",
        "0.7<=x<0.8 - C\n",
        "\n",
        "0.6<=x<0.7 - D\n",
        "\n",
        "x< 0.6 - F\n",
        "\n",
        "Example:\n",
        "\n",
        "Enter score: 0.95  \n",
        "\n",
        "A  \n",
        "\n"
      ]
    },
    {
      "cell_type": "code",
      "execution_count": null,
      "metadata": {
        "colab": {
          "base_uri": "https://localhost:8080/"
        },
        "id": "zEuJt4Ks0maf",
        "outputId": "f4065223-c966-4014-c3c0-f1da0a7ad3ca"
      },
      "outputs": [
        {
          "name": "stdout",
          "output_type": "stream",
          "text": [
            "Enter score: 0\n"
          ]
        }
      ],
      "source": [
        "score = float(input(\"Enter score: \"))\n",
        "if score < 0.0 or score > 1.0:\n",
        "    print(\"Error\")\n",
        "elif score >= 0.9:\n",
        "    print(\"A\")\n",
        "elif score >= 0.8:\n",
        "    print(\"B\")\n",
        "elif score >= 0.7:\n",
        "    print(\"C\")\n",
        "elif score >= 0.6:\n",
        "    print(\"D\")\n",
        "else:\n",
        "    print(\"F\")\n"
      ]
    },
    {
      "cell_type": "code",
      "execution_count": 63,
      "metadata": {
        "colab": {
          "base_uri": "https://localhost:8080/"
        },
        "id": "sAx8ZNCN0maf",
        "outputId": "c28aef61-bc24-437c-c1f3-2b6523fae737"
      },
      "outputs": [
        {
          "output_type": "stream",
          "name": "stdout",
          "text": [
            "-3\n",
            "F\n"
          ]
        }
      ],
      "source": [
        "x = float(input())\n",
        "if 0.9<=x<=1.0:\n",
        "  print (\"A\")\n",
        "elif 0.8<=x<=0.9:\n",
        "  print (\"B\")\n",
        "elif 0.7<=x<=0.8:\n",
        "  print (\"C\")\n",
        "elif 0.6<=x<=0.7:\n",
        "  print (\"D\")\n",
        "else:\n",
        "  print (\"F\")\n"
      ]
    },
    {
      "cell_type": "markdown",
      "metadata": {
        "id": "3usN8iP90mag"
      },
      "source": [
        "### Task 23 H/A\n",
        "\n",
        "There is a special offer in the store:\n",
        "\n",
        "     For all products cheaper than 1000 rubles 15% discount\n",
        "     For all products more expensive than 1000, but cheaper than 5000 rubles, a 20% discount\n",
        "     For all products more expensive than 5000 rubles a 25% discount\n",
        "\n",
        "Input  \n",
        "\n",
        "Non-negative integer - product price in rubles\n",
        "\n",
        "Output  \n",
        "\n",
        "Non-negative integer - discount for goods in rubles"
      ]
    },
    {
      "cell_type": "code",
      "execution_count": null,
      "metadata": {
        "colab": {
          "background_save": true
        },
        "id": "X0XRDev90mag"
      },
      "outputs": [],
      "source": [
        "\n"
      ]
    },
    {
      "cell_type": "code",
      "execution_count": null,
      "metadata": {
        "colab": {
          "background_save": true
        },
        "id": "V6VGxNHv0mag"
      },
      "outputs": [],
      "source": [
        "\n"
      ]
    },
    {
      "cell_type": "code",
      "execution_count": null,
      "metadata": {
        "colab": {
          "background_save": true
        },
        "id": "QEH2kbDL0mah"
      },
      "outputs": [],
      "source": [
        "\n",
        "\n"
      ]
    },
    {
      "cell_type": "markdown",
      "metadata": {
        "id": "_GIUvcg00mah"
      },
      "source": [
        "### Task 24\n",
        "\n",
        "Create a programm that gives a personalized greeting.\n",
        "\n",
        "Input: name and the name of the owner ( 2 names)\n",
        "\n",
        "Use conditionals to print the proper message:\n",
        "    \n",
        "\n",
        "name equals the name of the owner  ---\t'Hello boss'\n",
        "\n",
        "otherwise ---\t'Hello guest'"
      ]
    },
    {
      "cell_type": "code",
      "execution_count": null,
      "metadata": {
        "colab": {
          "background_save": true
        },
        "id": "1SDRgf5-0mai"
      },
      "outputs": [],
      "source": [
        "\n"
      ]
    },
    {
      "cell_type": "markdown",
      "metadata": {
        "id": "hNRYnkmp0mai"
      },
      "source": [
        "# Task 25\n",
        "\n",
        "Write a programme that prompts the user for  two arguments (salary, bonus). Salary will be an integer, and bonus \"Yes\" or \"No\".\n",
        "\n",
        "If bonus is Yes, the salary should be multiplied by 10.\n",
        "\n",
        "If bonus is No, the fatcat did not make enough money and must receive only his stated salary."
      ]
    },
    {
      "cell_type": "code",
      "execution_count": null,
      "metadata": {
        "colab": {
          "background_save": true
        },
        "id": "NdaItcIh0mai"
      },
      "outputs": [],
      "source": [
        "\n"
      ]
    },
    {
      "cell_type": "code",
      "execution_count": null,
      "metadata": {
        "colab": {
          "background_save": true
        },
        "id": "1xANNaZc0mai"
      },
      "outputs": [],
      "source": [
        "\n"
      ]
    },
    {
      "cell_type": "markdown",
      "metadata": {
        "id": "PxwDKa4_0mai"
      },
      "source": [
        "# Task 26\n",
        "\n",
        "Create a program that checks if a number n is divisible by two numbers x AND y.\n",
        "\n",
        "All inputs are strictly positive numbers.\n",
        "\n",
        "Examples:\n",
        "\n",
        "1) n =   3, x = 1, y = 3 =>  true because   3 is divisible by 1 and 3\n",
        "\n",
        "2) n =  12, x = 2, y = 6 =>  true because  12 is divisible by 2 and 6\n",
        "\n",
        "3) n = 100, x = 5, y = 3 => false because 100 is not divisible by 3\n",
        "\n",
        "4) n =  12, x = 7, y = 5 => false because  12 is neither divisible by 7 nor 5"
      ]
    },
    {
      "cell_type": "code",
      "execution_count": null,
      "metadata": {
        "colab": {
          "background_save": true
        },
        "id": "kB7GrtOC0mai"
      },
      "outputs": [],
      "source": [
        "\n"
      ]
    },
    {
      "cell_type": "code",
      "execution_count": null,
      "metadata": {
        "colab": {
          "background_save": true
        },
        "id": "xwfyxUFC0mai"
      },
      "outputs": [],
      "source": [
        "\n"
      ]
    },
    {
      "cell_type": "code",
      "execution_count": null,
      "metadata": {
        "colab": {
          "background_save": true
        },
        "id": "gGkNhU1Q0maj"
      },
      "outputs": [],
      "source": [
        "\n"
      ]
    },
    {
      "cell_type": "markdown",
      "metadata": {
        "id": "ELfVNMwv0ntA"
      },
      "source": [
        "**Task 27**\n",
        "\n",
        "Given 2 elevators (named \"left\" and \"right\") in a building with 3 floors (numbered 0 to 2), write a programme for the elevator accepting 3 arguments (in order):\n",
        "\n",
        "**left** - The current floor of the left elevator\n",
        "\n",
        "**right** - The current floor of the right elevator\n",
        "\n",
        "**call** - The floor that called an elevator\n",
        "\n",
        "It should return the name of the elevator closest to the called floor (\"left\"/\"right\").\n",
        "\n",
        "In the case where both elevators are equally distant from the called floor, choose the elevator to the right.\n",
        "\n",
        "You can assume that the inputs will always be valid integers between 0-2.\n",
        "\n",
        "Use the ** abs() function**, which returns the absolute value of the specified number"
      ]
    },
    {
      "cell_type": "code",
      "execution_count": null,
      "metadata": {
        "colab": {
          "background_save": true
        },
        "id": "2cnkT09a0maj"
      },
      "outputs": [],
      "source": []
    },
    {
      "cell_type": "markdown",
      "metadata": {
        "id": "VXB58Yjd0maj"
      },
      "source": [
        "# Extra exercises with solutions\n",
        "\n",
        "https://www.practicepython.org/exercises/\n",
        "\n",
        "https://holypython.com/beginner-python-exercises/\n",
        "\n",
        "https://pythonbasics.org/exercises/\n",
        "\n",
        "https://pynative.com/python-basic-exercise-for-beginners/\n",
        "\n",
        "https://www.w3resource.com/python-exercises/python-basic-exercises.php\n",
        "\n"
      ]
    }
  ],
  "metadata": {
    "colab": {
      "provenance": [],
      "include_colab_link": true
    },
    "kernelspec": {
      "display_name": "Python 3 (ipykernel)",
      "language": "python",
      "name": "python3"
    },
    "language_info": {
      "codemirror_mode": {
        "name": "ipython",
        "version": 3
      },
      "file_extension": ".py",
      "mimetype": "text/x-python",
      "name": "python",
      "nbconvert_exporter": "python",
      "pygments_lexer": "ipython3",
      "version": "3.11.4"
    }
  },
  "nbformat": 4,
  "nbformat_minor": 0
}