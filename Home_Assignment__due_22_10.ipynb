{
  "nbformat": 4,
  "nbformat_minor": 0,
  "metadata": {
    "colab": {
      "provenance": [],
      "include_colab_link": true
    },
    "kernelspec": {
      "name": "python3",
      "display_name": "Python 3"
    },
    "language_info": {
      "name": "python"
    }
  },
  "cells": [
    {
      "cell_type": "markdown",
      "metadata": {
        "id": "view-in-github",
        "colab_type": "text"
      },
      "source": [
        "<a href=\"https://colab.research.google.com/github/JuliaBalakina/ALATA-2025/blob/main/Home_Assignment__due_22_10.ipynb\" target=\"_parent\"><img src=\"https://colab.research.google.com/assets/colab-badge.svg\" alt=\"Open In Colab\"/></a>"
      ]
    },
    {
      "cell_type": "markdown",
      "source": [
        "**Task 1**\n",
        "\n",
        "You have two lists, the first contains the names of the guests, and the second contains their favorite dishes. You need to print out their preferences so that a sentence like “Eric loves borsch” is displayed. It is guaranteed that the lists are of the same length.\n",
        "\n",
        "INPUT FORMAT:\n",
        "\n",
        " Two lines.\n",
        "\n",
        " The first line contains names separated by a space.\n",
        "\n",
        " The second line contains the names of the dishes separated by a space.\n",
        "\n",
        "OUTPUT FORMAT:\n",
        "\n",
        " A set of strings like '{name} likes {dish}\n",
        "\n",
        "Example:\n",
        "\n",
        "Line1 = Peter Kate John\n",
        "\n",
        "Line2 = Pudding Fish Cake\n",
        "\n",
        "Output:\n",
        "     \n",
        "     Peter likes Pudding\n",
        "     \n",
        "     Kate likes Fish\n",
        "     \n",
        "     John likes Cake\n"
      ],
      "metadata": {
        "id": "vgO5Qv0HVGaM"
      }
    },
    {
      "cell_type": "code",
      "source": [
        "name = input(). split()\n",
        "dish = input(). split()\n",
        "for i in range(len(name)):\n",
        "    print(f\"{name[i]} likes {dish[i]}\")"
      ],
      "metadata": {
        "id": "kh4SR3zkVdAg",
        "colab": {
          "base_uri": "https://localhost:8080/"
        },
        "outputId": "be06dae3-6454-4f57-e544-111d03453df0"
      },
      "execution_count": 3,
      "outputs": [
        {
          "output_type": "stream",
          "name": "stdout",
          "text": [
            "Peter Kate John\n",
            "Pudding Fish Cake\n",
            "Peter likes Pudding\n",
            "Kate likes Fish\n",
            "John likes Cake\n"
          ]
        }
      ]
    },
    {
      "cell_type": "code",
      "source": [
        "names = input().split()        # first (names)\n",
        "dishes = input().split()       # second (dishes)\n",
        "# use a loop to print each person's favorite dish\n",
        "i = 0\n",
        "while i < len(names):\n",
        "    print(names[i], \"likes\", dishes[i])\n",
        "    i += 1"
      ],
      "metadata": {
        "colab": {
          "base_uri": "https://localhost:8080/"
        },
        "id": "YIIJFwAaz2Zx",
        "outputId": "164127e9-10b9-4fb0-d172-c303ba82790a"
      },
      "execution_count": 4,
      "outputs": [
        {
          "output_type": "stream",
          "name": "stdout",
          "text": [
            "Peter Kate John\n",
            "Pudding Fish Cake\n",
            "Peter likes Pudding\n",
            "Kate likes Fish\n",
            "John likes Cake\n"
          ]
        }
      ]
    },
    {
      "cell_type": "code",
      "source": [
        "names =[\"Peter\", \"Kate\", \"John\"]\n",
        "dish =[\"Pudding\", \"Fish\", \"Cake\"]\n",
        "joint_list = []\n",
        "for i in range(len(names)):\n",
        "  joint_list.append((names[i], dish[i]))\n",
        "\n",
        "for name, dish in joint_list:\n",
        " print(name + \"  likes  \" + dish)"
      ],
      "metadata": {
        "colab": {
          "base_uri": "https://localhost:8080/"
        },
        "id": "HP1bw7lR0TFi",
        "outputId": "ce473ff8-844a-4cd5-9428-1b251cdb54a1"
      },
      "execution_count": 5,
      "outputs": [
        {
          "output_type": "stream",
          "name": "stdout",
          "text": [
            "Peter  likes  Pudding\n",
            "Kate  likes  Fish\n",
            "John  likes  Cake\n"
          ]
        }
      ]
    },
    {
      "cell_type": "code",
      "source": [
        "names = input(\"enter the names: \").split()\n",
        "dishes = input(\"enter the dishes: \").split()\n",
        "if len(names) != len(dishes):\n",
        "    print(\"names and dishes are not equal\")\n",
        "else:\n",
        "    for i, name in enumerate(names):\n",
        "        print(names[i], \"likes\", dishes[i])"
      ],
      "metadata": {
        "colab": {
          "base_uri": "https://localhost:8080/"
        },
        "id": "bGf6qAP_0jwO",
        "outputId": "3752fa1f-5a90-4ec0-90a8-fe7359cebb9e"
      },
      "execution_count": 6,
      "outputs": [
        {
          "output_type": "stream",
          "name": "stdout",
          "text": [
            "enter the names: О Щ Р\n",
            "enter the dishes: в п\n",
            "names and dishes are not equal\n"
          ]
        }
      ]
    },
    {
      "cell_type": "markdown",
      "source": [
        "**Task 2**\n",
        "\n",
        "Given is a string. Your should return a list of all the indexes in the string that have capital letters.\n",
        "\n",
        "For example, input:(\"HeLlO\") should return the list [0, 2, 4]."
      ],
      "metadata": {
        "id": "6zHKFxHvVdd_"
      }
    },
    {
      "cell_type": "code",
      "source": [
        "given=input('Enter the word: ')\n",
        "index=[]\n",
        "for i in range(len(given)):\n",
        "    if given[i].isupper():\n",
        "      index.append(i)\n",
        "print(index)"
      ],
      "metadata": {
        "id": "74by6uNyWGIU",
        "colab": {
          "base_uri": "https://localhost:8080/"
        },
        "outputId": "c92e1e1f-6d64-49d6-c23a-9ff46fbe6abf"
      },
      "execution_count": 8,
      "outputs": [
        {
          "output_type": "stream",
          "name": "stdout",
          "text": [
            "Enter the word: Hdgf\n",
            "[0]\n"
          ]
        }
      ]
    },
    {
      "cell_type": "code",
      "source": [
        "line = input()\n",
        "new =[]\n",
        "for i,p in enumerate(line):\n",
        "    if p.isupper():\n",
        "        new.append(i)\n",
        "print(new)\n"
      ],
      "metadata": {
        "colab": {
          "base_uri": "https://localhost:8080/"
        },
        "id": "-wQGN9nv3dqL",
        "outputId": "caeab678-ca89-4c4c-d4c5-1fa7dd4b7fcd"
      },
      "execution_count": 9,
      "outputs": [
        {
          "output_type": "stream",
          "name": "stdout",
          "text": [
            "DgT\n",
            "[0, 2]\n"
          ]
        }
      ]
    },
    {
      "cell_type": "markdown",
      "source": [
        "**Task 3**\n",
        "The books variable stores a dictionary, the keys of which are the names of the books, and the values are the authors.\n",
        "\n",
        "Write a program that takes a non-empty string as input and prints out all books for which the entered string is contained either in the title or in the author's name.\n",
        "\n",
        "The search is case sensitive (\"Harry\" and \"harry\" are different queries).\n",
        "\n",
        "If there is no match, the program does not output anything.\n",
        "\n",
        "INPUT FORMAT:\n",
        "\n",
        "Non-empty string OUTPUT FORMAT:\n",
        "\n",
        "Authors and titles of books that satisfy the condition, each pair on a new line. EXAMPLE:\n",
        "\n",
        "INPUT:\n",
        "\n",
        "Harry\n",
        "\n",
        "OUTPUT:\n",
        "\n",
        "J.K. Rowling: Harry Potter and the Goblet of Fire\n",
        "\n",
        "Harry Garrison: Indomitable Planet"
      ],
      "metadata": {
        "id": "c4AKwfytWGbP"
      }
    },
    {
      "cell_type": "code",
      "source": [
        "books = {'The Silmarillion': 'John Tolkien',\n",
        "         'Harry Potter and the Goblet of Fire': 'J.K. Rowling',\n",
        "         'Indomitable Planet': 'Harry Garrison',\n",
        "         'Man without a face' : 'Alfred Bester',\n",
        "         'Alice in Wonderland': 'Lewis Carroll',\n",
        "         \"A Space Odyssey\": \"Arthur Clarke\",\n",
        "         'Dune': 'Frank Herbert',\n",
        "         \"Twenty Thousand Leagues Under the Sea\": \"Jules Verne\",\n",
        "         \"Yankees from Connecticut at the court of King Arthur\": \"Mark Twain\",\n",
        "         \"American Gods\": \"Neil Gaiman\",\n",
        "         \"The Chronicles of Amber\": \"Roger Zelazny\",\n",
        "         'The Chronicles of Narnia': 'Clive S. Lewis',\n",
        "         \"War of the Worlds\": \"HG Wells\"}\n",
        "query = input()\n",
        "#Go through all books and match the query against titles and author\n",
        "for title, author in books.items():\n",
        "    if query in title or query in author:\n",
        "        print(f\"{author}: {title}\")"
      ],
      "metadata": {
        "id": "_9ntMbWFWSmu",
        "colab": {
          "base_uri": "https://localhost:8080/"
        },
        "outputId": "915c1e1a-821d-4f6e-8454-a2279dd3752f"
      },
      "execution_count": 1,
      "outputs": [
        {
          "output_type": "stream",
          "name": "stdout",
          "text": [
            "Harry\n",
            "J.K. Rowling: Harry Potter and the Goblet of Fire\n",
            "Harry Garrison: Indomitable Planet\n"
          ]
        }
      ]
    },
    {
      "cell_type": "code",
      "source": [
        "books = {'The Silmarillion': 'John Tolkien',\n",
        "         'Harry Potter and the Goblet of Fire': 'J.K. Rowling',\n",
        "         'Indomitable Planet': 'Harry Garrison',\n",
        "         'Man without a face' : 'Alfred Bester',\n",
        "         'Alice in Wonderland': 'Lewis Carroll',\n",
        "         \"A Space Odyssey\": \"Arthur Clarke\",\n",
        "         'Dune': 'Frank Herbert',\n",
        "         \"Twenty Thousand Leagues Under the Sea\": \"Jules Verne\",\n",
        "         \"Yankees from Connecticut at the court of King Arthur\": \"Mark Twain\",\n",
        "         \"American Gods\": \"Neil Gaiman\",\n",
        "         \"The Chronicles of Amber\": \"Roger Zelazny\",\n",
        "         'The Chronicles of Narnia': 'Clive S. Lewis',\n",
        "         \"War of the Worlds\": \"HG Wells\"}\n",
        "a = input()\n",
        "for i in books:\n",
        "  if a in i or a in books[i]:\n",
        "    print(f\"{books[i]} : {i}\")"
      ],
      "metadata": {
        "colab": {
          "base_uri": "https://localhost:8080/"
        },
        "id": "-CsTUEVYuvsS",
        "outputId": "1450dc6a-5563-426f-a5ec-57f3de054356"
      },
      "execution_count": 2,
      "outputs": [
        {
          "output_type": "stream",
          "name": "stdout",
          "text": [
            "Harry\n",
            "J.K. Rowling : Harry Potter and the Goblet of Fire\n",
            "Harry Garrison : Indomitable Planet\n"
          ]
        }
      ]
    },
    {
      "cell_type": "markdown",
      "source": [
        "**Task 4**\n",
        "\n",
        "Examples:\n",
        "\n",
        "\"abcd\" -> \"A-Bb-Ccc-Dddd\"\n",
        "\n",
        "\"RqaEzty\" -> \"R-Qq-Aaa-Eeee-Zzzzz-Tttttt-Yyyyyyy\"\n",
        "\n",
        "\"cwAt\" -> \"C-Ww-Aaa-Tttt\""
      ],
      "metadata": {
        "id": "wHd91I0lW55p"
      }
    },
    {
      "cell_type": "code",
      "source": [
        "text = input(\"\")\n",
        "result = \"\"\n",
        "i = 0\n",
        "while i < len(text):\n",
        "    letters = text[i].upper() + text[i].lower() * i\n",
        "    print(letters)\n",
        "    if result != \"\":\n",
        "        result += \"-\"\n",
        "    result += letters\n",
        "    i += 1\n",
        "\n",
        "print(result)"
      ],
      "metadata": {
        "id": "44BQyGjoW-Go",
        "colab": {
          "base_uri": "https://localhost:8080/"
        },
        "outputId": "0a4c33bb-83f5-40dc-b40d-68afceb6f50b"
      },
      "execution_count": 11,
      "outputs": [
        {
          "output_type": "stream",
          "name": "stdout",
          "text": [
            "Fgh\n",
            "F\n",
            "Gg\n",
            "Hhh\n",
            "F-Gg-Hhh\n"
          ]
        }
      ]
    },
    {
      "cell_type": "code",
      "source": [
        "word = input(\"Enter a word: \")\n",
        "result = []\n",
        "for i in range(len(word)):\n",
        "    result.append(word[i].upper() + word[i].lower() * i)\n",
        "    print(result)\n",
        "print(\"-\".join(result))"
      ],
      "metadata": {
        "colab": {
          "base_uri": "https://localhost:8080/"
        },
        "id": "rvatzD-e5htw",
        "outputId": "9e2c1952-44f8-4f25-ed6e-e88248c5a550"
      },
      "execution_count": 15,
      "outputs": [
        {
          "output_type": "stream",
          "name": "stdout",
          "text": [
            "Enter a word: fgh\n",
            "['F']\n",
            "['F', 'Gg']\n",
            "['F', 'Gg', 'Hhh']\n",
            "F-Gg-Hhh\n"
          ]
        }
      ]
    },
    {
      "cell_type": "markdown",
      "source": [
        "**Task 5**\n",
        "\n",
        "\"not picking\" --> \"pot nicking\""
      ],
      "metadata": {
        "id": "q6Lci3KLW-pf"
      }
    },
    {
      "cell_type": "code",
      "source": [
        "a,b = input().split()\n",
        "print(b[0] + a[1:], a[0] + b[1:])"
      ],
      "metadata": {
        "id": "n5YdVqO5YA4i",
        "colab": {
          "base_uri": "https://localhost:8080/"
        },
        "outputId": "64c04869-0845-4bac-f935-f3b3cf711b64"
      },
      "execution_count": 16,
      "outputs": [
        {
          "output_type": "stream",
          "name": "stdout",
          "text": [
            "not picking\n",
            "pot nicking\n"
          ]
        }
      ]
    },
    {
      "cell_type": "code",
      "source": [
        "s = \"not picking\"\n",
        "result_s = s.replace ('not','pot').replace ('picking','nicking')\n",
        "print (result_s)"
      ],
      "metadata": {
        "colab": {
          "base_uri": "https://localhost:8080/"
        },
        "id": "qBP3uC4o8UeJ",
        "outputId": "c21a3ad4-51ff-4279-cab0-dfbeb3fda182"
      },
      "execution_count": 17,
      "outputs": [
        {
          "output_type": "stream",
          "name": "stdout",
          "text": [
            "pot nicking\n"
          ]
        }
      ]
    },
    {
      "cell_type": "code",
      "source": [
        "words = input().split()\n",
        "first_word = list(words[0])\n",
        "second_word = list(words[1])\n",
        "first_word[0], second_word[0] = second_word[0], first_word[0]\n",
        "print(''.join (first_word) + ' '+ ''.join(second_word))\n"
      ],
      "metadata": {
        "colab": {
          "base_uri": "https://localhost:8080/"
        },
        "id": "WSlFgOvD-Jd5",
        "outputId": "bd703d52-8d22-4674-e952-f5293e2ada63"
      },
      "execution_count": 20,
      "outputs": [
        {
          "output_type": "stream",
          "name": "stdout",
          "text": [
            "cat dog\n",
            "dat cog\n"
          ]
        }
      ]
    },
    {
      "cell_type": "markdown",
      "source": [
        "Write an algorithm that takes an array and moves all of the zeros to the end, preserving the order of the other elements.\n",
        "\n",
        "Input: 1,2,0,6,0,8\n",
        "\n",
        "Output: 1,2,6,8,0,0"
      ],
      "metadata": {
        "id": "aXyAoWwf-dzh"
      }
    },
    {
      "cell_type": "code",
      "source": [
        "s = input()\n",
        "numbers = []\n",
        "for i in s.split(','):\n",
        "    numbers.append(int(i))\n",
        "\n",
        "non_zeros = []\n",
        "zeros = []\n",
        "\n",
        "for j in numbers:\n",
        "    if j != 0:\n",
        "        non_zeros.append(j)\n",
        "    else:\n",
        "        zeros.append(j)\n",
        "result = non_zeros + zeros\n",
        "\n",
        "print(result)"
      ],
      "metadata": {
        "colab": {
          "base_uri": "https://localhost:8080/"
        },
        "id": "QIjx-Y8u-c06",
        "outputId": "fe28946c-c4c8-4538-a876-72a5a1bdd756"
      },
      "execution_count": 21,
      "outputs": [
        {
          "output_type": "stream",
          "name": "stdout",
          "text": [
            "1,2,0,6,0,8\n",
            "[1, 2, 6, 8, 0, 0]\n"
          ]
        }
      ]
    },
    {
      "cell_type": "code",
      "source": [
        "arr = [1, 2, 0, 6, 0, 8]\n",
        "result = []\n",
        "for num in arr:\n",
        "    if num != 0:\n",
        "        result.append(num)\n",
        "for num in arr:\n",
        "    if num == 0:\n",
        "        result.append(num)\n",
        "print(result)"
      ],
      "metadata": {
        "colab": {
          "base_uri": "https://localhost:8080/"
        },
        "id": "JGZzLuyNAIs7",
        "outputId": "de8cf8f0-4a48-40ff-8a76-7ce9ddec3dea"
      },
      "execution_count": 22,
      "outputs": [
        {
          "output_type": "stream",
          "name": "stdout",
          "text": [
            "[1, 2, 6, 8, 0, 0]\n"
          ]
        }
      ]
    },
    {
      "cell_type": "markdown",
      "source": [
        "Your task is to sort a given string. Each word in the string will contain a single number. This number is the position the word should have in the result.\n",
        "\n",
        "Note: Numbers can be from 1 to 9.\n",
        "\n",
        "So 1 will be the first word (not 0)\n",
        "\n",
        "\"is2 Thi1s T4est 3a\" --> \"Thi1s is2 3a T4est\"\n",
        "\n",
        "\"4of Fo1r pe6ople g3ood th5e the2\" --> \"Fo1r the2 g3ood 4of th5e pe6ople\""
      ],
      "metadata": {
        "id": "2Zvh65I3AZxq"
      }
    }
  ]
}