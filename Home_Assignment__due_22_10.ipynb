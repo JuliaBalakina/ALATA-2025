{
  "nbformat": 4,
  "nbformat_minor": 0,
  "metadata": {
    "colab": {
      "provenance": []
    },
    "kernelspec": {
      "name": "python3",
      "display_name": "Python 3"
    },
    "language_info": {
      "name": "python"
    }
  },
  "cells": [
    {
      "cell_type": "markdown",
      "source": [
        "**Task 1**\n",
        "\n",
        "You have two lists, the first contains the names of the guests, and the second contains their favorite dishes. You need to print out their preferences so that a sentence like “Eric loves borsch” is displayed. It is guaranteed that the lists are of the same length.\n",
        "\n",
        "INPUT FORMAT:\n",
        "\n",
        " Two lines.\n",
        "\n",
        " The first line contains names separated by a space.\n",
        "\n",
        " The second line contains the names of the dishes separated by a space.\n",
        "\n",
        "OUTPUT FORMAT:\n",
        "\n",
        " A set of strings like '{name} likes {dish}\n",
        "\n",
        "Example:\n",
        "\n",
        "Line1 = Peter Kate John\n",
        "\n",
        "Line2 = Pudding Fish Cake\n",
        "\n",
        "Output:\n",
        "     \n",
        "     Peter likes Pudding\n",
        "     \n",
        "     Kate likes Fish\n",
        "     \n",
        "     John likes Cake\n"
      ],
      "metadata": {
        "id": "vgO5Qv0HVGaM"
      }
    },
    {
      "cell_type": "code",
      "source": [],
      "metadata": {
        "id": "kh4SR3zkVdAg"
      },
      "execution_count": null,
      "outputs": []
    },
    {
      "cell_type": "markdown",
      "source": [
        "**Task 2**\n",
        "\n",
        "Given is a string. Your should return a list of all the indexes in the string that have capital letters.\n",
        "\n",
        "For example, input:(\"HeLlO\") should return the list [0, 2, 4]."
      ],
      "metadata": {
        "id": "6zHKFxHvVdd_"
      }
    },
    {
      "cell_type": "code",
      "source": [],
      "metadata": {
        "id": "74by6uNyWGIU"
      },
      "execution_count": null,
      "outputs": []
    },
    {
      "cell_type": "markdown",
      "source": [
        "**Task 3**\n",
        "The books variable stores a dictionary, the keys of which are the names of the books, and the values are the authors.\n",
        "\n",
        "Write a program that takes a non-empty string as input and prints out all books for which the entered string is contained either in the title or in the author's name.\n",
        "\n",
        "The search is case sensitive (\"Harry\" and \"harry\" are different queries).\n",
        "\n",
        "If there is no match, the program does not output anything.\n",
        "\n",
        "INPUT FORMAT:\n",
        "\n",
        "Non-empty string OUTPUT FORMAT:\n",
        "\n",
        "Authors and titles of books that satisfy the condition, each pair on a new line. EXAMPLE:\n",
        "\n",
        "INPUT:\n",
        "\n",
        "Harry\n",
        "\n",
        "OUTPUT:\n",
        "\n",
        "J.K. Rowling: Harry Potter and the Goblet of Fire\n",
        "\n",
        "Harry Garrison: Indomitable Planet"
      ],
      "metadata": {
        "id": "c4AKwfytWGbP"
      }
    },
    {
      "cell_type": "code",
      "source": [
        "books = {'The Silmarillion': 'John Tolkien',\n",
        "         'Harry Potter and the Goblet of Fire': 'J.K. Rowling',\n",
        "         'Indomitable Planet': 'Harry Garrison',\n",
        "         'Man without a face' : 'Alfred Bester',\n",
        "         'Alice in Wonderland': 'Lewis Carroll',\n",
        "         \"A Space Odyssey\": \"Arthur Clarke\",\n",
        "         'Dune': 'Frank Herbert',\n",
        "         \"Twenty Thousand Leagues Under the Sea\": \"Jules Verne\",\n",
        "         \"Yankees from Connecticut at the court of King Arthur\": \"Mark Twain\",\n",
        "         \"American Gods\": \"Neil Gaiman\",\n",
        "         \"The Chronicles of Amber\": \"Roger Zelazny\",\n",
        "         'The Chronicles of Narnia': 'Clive S. Lewis',\n",
        "         \"War of the Worlds\": \"HG Wells\"}"
      ],
      "metadata": {
        "id": "_9ntMbWFWSmu"
      },
      "execution_count": null,
      "outputs": []
    },
    {
      "cell_type": "markdown",
      "source": [
        "**Task 4**\n",
        "\n",
        "Examples:\n",
        "\n",
        "\"abcd\" -> \"A-Bb-Ccc-Dddd\"\n",
        "\n",
        "\"RqaEzty\" -> \"R-Qq-Aaa-Eeee-Zzzzz-Tttttt-Yyyyyyy\"\n",
        "\n",
        "\"cwAt\" -> \"C-Ww-Aaa-Tttt\""
      ],
      "metadata": {
        "id": "wHd91I0lW55p"
      }
    },
    {
      "cell_type": "code",
      "source": [],
      "metadata": {
        "id": "44BQyGjoW-Go"
      },
      "execution_count": null,
      "outputs": []
    },
    {
      "cell_type": "markdown",
      "source": [
        "**Task 5**\n",
        "\n",
        "\"not picking\" --> \"pot nicking\""
      ],
      "metadata": {
        "id": "q6Lci3KLW-pf"
      }
    },
    {
      "cell_type": "code",
      "source": [],
      "metadata": {
        "id": "n5YdVqO5YA4i"
      },
      "execution_count": null,
      "outputs": []
    }
  ]
}