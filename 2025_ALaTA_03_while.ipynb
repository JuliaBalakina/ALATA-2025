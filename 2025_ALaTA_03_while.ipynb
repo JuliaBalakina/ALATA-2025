{
  "cells": [
    {
      "cell_type": "markdown",
      "metadata": {
        "id": "view-in-github"
      },
      "source": [
        "<a href=\"https://colab.research.google.com/github/JuliaBalakina/ALATA2024/blob/main/2024_ALaTA_03_while.ipynb\" target=\"_parent\"><img src=\"https://colab.research.google.com/assets/colab-badge.svg\" alt=\"Open In Colab\"/></a>"
      ]
    },
    {
      "cell_type": "markdown",
      "metadata": {
        "id": "bfraoEXyzHW3"
      },
      "source": [
        "### The while statement  \n",
        "A common pattern in assignment statements is an assignment statement that updates\n",
        "a variable, where the new value of the variable depends on the old.\n",
        "\n",
        "x = x + 1 (x+=1)\n",
        "\n",
        "This means “get the current value of x, add 1, and then update x with the new\n",
        "value.”\n",
        "\n",
        "If you try to update a variable that doesn’t exist, you get an error, because Python\n",
        "evaluates the right side before it assigns a value to x:\n",
        "\n",
        "\n",
        "> x = x + 1 (x+=1)\n",
        "\n",
        "NameError: name 'x' is not defined\n",
        "\n",
        "\n",
        "Before you want to update a variable, you have to initialize it, usually with a simple\n",
        "assignment:\n",
        "\n",
        "x = 0\n",
        "\n",
        "x = x + 1\n",
        "\n",
        "Updating a variable by adding 1 is called an **increment**; subtracting 1 is called a\n",
        "**decrement**.\n",
        "\n",
        "\n"
      ]
    },
    {
      "cell_type": "code",
      "execution_count": null,
      "metadata": {
        "id": "_R7Nb3rfzHW5",
        "outputId": "ed139db5-ddba-4e6e-f122-537423b41730"
      },
      "outputs": [
        {
          "name": "stdout",
          "output_type": "stream",
          "text": [
            "6\n"
          ]
        }
      ],
      "source": [
        "x = 0\n",
        "x+=1\n",
        "x+=2\n",
        "x+=3\n",
        "print(x)"
      ]
    },
    {
      "cell_type": "code",
      "source": [
        "x = 0\n",
        "x+=1\n",
        "x+=1\n",
        "x+=1\n",
        "x+=1\n",
        "x+=1\n",
        "x+=1\n",
        "print(x)"
      ],
      "metadata": {
        "id": "NS79Jx2WB4YG"
      },
      "execution_count": null,
      "outputs": []
    },
    {
      "cell_type": "code",
      "execution_count": null,
      "metadata": {
        "id": "_xdzkGEZzHW6",
        "outputId": "256da7b2-ccf1-4856-ec71-66b126923344"
      },
      "outputs": [
        {
          "name": "stdout",
          "output_type": "stream",
          "text": [
            "0\n"
          ]
        }
      ],
      "source": [
        "x-=6\n",
        "print(x)"
      ]
    },
    {
      "cell_type": "code",
      "execution_count": null,
      "metadata": {
        "id": "cVOaDea0zHW7",
        "outputId": "a874a9dc-e386-4a35-b05a-922142cc940c",
        "colab": {
          "base_uri": "https://localhost:8080/",
          "height": 162
        }
      },
      "outputs": [
        {
          "output_type": "error",
          "ename": "NameError",
          "evalue": "name 'z' is not defined",
          "traceback": [
            "\u001b[0;31m---------------------------------------------------------------------------\u001b[0m",
            "\u001b[0;31mNameError\u001b[0m                                 Traceback (most recent call last)",
            "\u001b[0;32m/tmp/ipython-input-3330474311.py\u001b[0m in \u001b[0;36m<cell line: 0>\u001b[0;34m()\u001b[0m\n\u001b[0;32m----> 1\u001b[0;31m \u001b[0mz\u001b[0m\u001b[0;34m+=\u001b[0m\u001b[0;36m3\u001b[0m\u001b[0;34m\u001b[0m\u001b[0;34m\u001b[0m\u001b[0m\n\u001b[0m\u001b[1;32m      2\u001b[0m \u001b[0mprint\u001b[0m\u001b[0;34m(\u001b[0m\u001b[0mz\u001b[0m\u001b[0;34m)\u001b[0m\u001b[0;34m\u001b[0m\u001b[0;34m\u001b[0m\u001b[0m\n",
            "\u001b[0;31mNameError\u001b[0m: name 'z' is not defined"
          ]
        }
      ],
      "source": [
        "\n",
        "z+=3\n",
        "print(z)"
      ]
    },
    {
      "cell_type": "markdown",
      "metadata": {
        "id": "AzousG1kzHW7"
      },
      "source": [
        "In order to perform identical or similar tasks,updating the variables we use **while**.\n",
        "\n",
        "n = 5  \n",
        "while n > 0:  \n",
        ">print(n)  \n",
        "n = n - 1\n",
        "\n",
        "print('Stop!')\n",
        "\n",
        "\n",
        "It means, “While\n",
        "n is greater than 0, display the value of n and then reduce the value of n by 1.\n",
        "When you get to 0, exit the while statement and display the word Stop!”"
      ]
    },
    {
      "cell_type": "code",
      "execution_count": null,
      "metadata": {
        "id": "ud6SfUPfzHW7",
        "outputId": "20364f60-83e8-4ccc-f261-78ebfd603bc4"
      },
      "outputs": [
        {
          "name": "stdout",
          "output_type": "stream",
          "text": [
            "5\n",
            "4\n",
            "3\n",
            "2\n",
            "1\n",
            "Stop!\n"
          ]
        }
      ],
      "source": [
        "n = 5\n",
        "while n > 0:\n",
        "    print(n)\n",
        "    n -= 1\n",
        "print('Stop!')\n"
      ]
    },
    {
      "cell_type": "markdown",
      "metadata": {
        "id": "rYSTb3T9zHW8"
      },
      "source": [
        "This type of flow is called ***a loop*** because the third step loops back around to the\n",
        "top.\n",
        "\n",
        "We call each time we execute the body of the loop ***an iteration***.  \n",
        "For the above loop, we would say, “It had five iterations”, which means that the body of the loop\n",
        "was executed five times.  \n",
        "\n",
        "The body of the loop should change the value of one or more variables so that\n",
        "eventually the condition becomes false and the loop terminates.  \n",
        "We call the variable\n",
        "that changes each time the loop executes and controls when the loop finishes\n",
        "***the iteration variable***.  \n",
        "If there is no iteration variable, the loop will repeat forever,\n",
        "resulting in ***an infinite loop***.\n",
        "\n"
      ]
    },
    {
      "cell_type": "code",
      "execution_count": null,
      "metadata": {
        "id": "aajKd4EfzHW8",
        "outputId": "3d2da492-7dfd-4183-de68-5c87691fdb3c",
        "colab": {
          "base_uri": "https://localhost:8080/",
          "height": 425
        }
      },
      "outputs": [
        {
          "name": "stdout",
          "output_type": "stream",
          "text": [
            "g\n",
            "y\n",
            "j\n",
            "j\n",
            "y\n",
            "r\n"
          ]
        },
        {
          "output_type": "error",
          "ename": "KeyboardInterrupt",
          "evalue": "Interrupted by user",
          "traceback": [
            "\u001b[0;31m---------------------------------------------------------------------------\u001b[0m",
            "\u001b[0;31mKeyboardInterrupt\u001b[0m                         Traceback (most recent call last)",
            "\u001b[0;32m<ipython-input-1-771ee03f8cd0>\u001b[0m in \u001b[0;36m<cell line: 1>\u001b[0;34m()\u001b[0m\n\u001b[1;32m      1\u001b[0m \u001b[0;32mwhile\u001b[0m \u001b[0;32mTrue\u001b[0m\u001b[0;34m:\u001b[0m\u001b[0;34m\u001b[0m\u001b[0;34m\u001b[0m\u001b[0m\n\u001b[0;32m----> 2\u001b[0;31m     \u001b[0mx\u001b[0m \u001b[0;34m=\u001b[0m \u001b[0minput\u001b[0m\u001b[0;34m(\u001b[0m\u001b[0;34m)\u001b[0m\u001b[0;34m\u001b[0m\u001b[0;34m\u001b[0m\u001b[0m\n\u001b[0m",
            "\u001b[0;32m/usr/local/lib/python3.10/dist-packages/ipykernel/kernelbase.py\u001b[0m in \u001b[0;36mraw_input\u001b[0;34m(self, prompt)\u001b[0m\n\u001b[1;32m    849\u001b[0m                 \u001b[0;34m\"raw_input was called, but this frontend does not support input requests.\"\u001b[0m\u001b[0;34m\u001b[0m\u001b[0;34m\u001b[0m\u001b[0m\n\u001b[1;32m    850\u001b[0m             )\n\u001b[0;32m--> 851\u001b[0;31m         return self._input_request(str(prompt),\n\u001b[0m\u001b[1;32m    852\u001b[0m             \u001b[0mself\u001b[0m\u001b[0;34m.\u001b[0m\u001b[0m_parent_ident\u001b[0m\u001b[0;34m,\u001b[0m\u001b[0;34m\u001b[0m\u001b[0;34m\u001b[0m\u001b[0m\n\u001b[1;32m    853\u001b[0m             \u001b[0mself\u001b[0m\u001b[0;34m.\u001b[0m\u001b[0m_parent_header\u001b[0m\u001b[0;34m,\u001b[0m\u001b[0;34m\u001b[0m\u001b[0;34m\u001b[0m\u001b[0m\n",
            "\u001b[0;32m/usr/local/lib/python3.10/dist-packages/ipykernel/kernelbase.py\u001b[0m in \u001b[0;36m_input_request\u001b[0;34m(self, prompt, ident, parent, password)\u001b[0m\n\u001b[1;32m    893\u001b[0m             \u001b[0;32mexcept\u001b[0m \u001b[0mKeyboardInterrupt\u001b[0m\u001b[0;34m:\u001b[0m\u001b[0;34m\u001b[0m\u001b[0;34m\u001b[0m\u001b[0m\n\u001b[1;32m    894\u001b[0m                 \u001b[0;31m# re-raise KeyboardInterrupt, to truncate traceback\u001b[0m\u001b[0;34m\u001b[0m\u001b[0;34m\u001b[0m\u001b[0m\n\u001b[0;32m--> 895\u001b[0;31m                 \u001b[0;32mraise\u001b[0m \u001b[0mKeyboardInterrupt\u001b[0m\u001b[0;34m(\u001b[0m\u001b[0;34m\"Interrupted by user\"\u001b[0m\u001b[0;34m)\u001b[0m \u001b[0;32mfrom\u001b[0m \u001b[0;32mNone\u001b[0m\u001b[0;34m\u001b[0m\u001b[0;34m\u001b[0m\u001b[0m\n\u001b[0m\u001b[1;32m    896\u001b[0m             \u001b[0;32mexcept\u001b[0m \u001b[0mException\u001b[0m \u001b[0;32mas\u001b[0m \u001b[0me\u001b[0m\u001b[0;34m:\u001b[0m\u001b[0;34m\u001b[0m\u001b[0;34m\u001b[0m\u001b[0m\n\u001b[1;32m    897\u001b[0m                 \u001b[0mself\u001b[0m\u001b[0;34m.\u001b[0m\u001b[0mlog\u001b[0m\u001b[0;34m.\u001b[0m\u001b[0mwarning\u001b[0m\u001b[0;34m(\u001b[0m\u001b[0;34m\"Invalid Message:\"\u001b[0m\u001b[0;34m,\u001b[0m \u001b[0mexc_info\u001b[0m\u001b[0;34m=\u001b[0m\u001b[0;32mTrue\u001b[0m\u001b[0;34m)\u001b[0m\u001b[0;34m\u001b[0m\u001b[0;34m\u001b[0m\u001b[0m\n",
            "\u001b[0;31mKeyboardInterrupt\u001b[0m: Interrupted by user"
          ]
        }
      ],
      "source": [
        "while True:\n",
        "    x = input()"
      ]
    },
    {
      "cell_type": "markdown",
      "metadata": {
        "id": "JE0Yz4XqzHW8"
      },
      "source": [
        "### Task 1\n",
        "\n",
        "Given a number N. In ascending order, print all the squares of integers that are smaller or equal to N.\n",
        "\n",
        "INPUT FORMAT:\n",
        "\n",
        "     N is a positive integer.\n",
        "\n",
        "OUTPUT FORMAT:\n",
        "\n",
        "     Squares of integers not greater than (less than or equal to) N in ascending order.\n",
        "\n",
        "     Input:3\n",
        "     Output: 1 (1**2)\n",
        "    \n",
        "     Input:6\n",
        "     Output: 1 (1**2), 4 (2**2)\n",
        "     "
      ]
    },
    {
      "cell_type": "code",
      "execution_count": null,
      "metadata": {
        "id": "exmrF3u2zHW9",
        "colab": {
          "base_uri": "https://localhost:8080/"
        },
        "outputId": "37d90297-f7a8-4b86-d5cf-c8c7f6e95ec9"
      },
      "outputs": [
        {
          "output_type": "stream",
          "name": "stdout",
          "text": [
            "6\n",
            "0\n",
            "1\n",
            "4\n"
          ]
        }
      ],
      "source": [
        "x=int(input())\n",
        "i=0\n",
        "while i**2<=x: #execute the loop until the follwoing condition is True\n",
        "  print(i**2)\n",
        "  i+=1\n",
        "\n"
      ]
    },
    {
      "cell_type": "markdown",
      "metadata": {
        "id": "5Mxv2BCjzHW9"
      },
      "source": [
        "### Finishing iterations with **continue** and **break**\n",
        "The Python **break statement** stops the loop in which the statement is placed.\n"
      ]
    },
    {
      "cell_type": "code",
      "execution_count": null,
      "metadata": {
        "id": "w7TRXiLzzHW9",
        "outputId": "27970049-07cc-4eac-a98e-044a02023500",
        "colab": {
          "base_uri": "https://localhost:8080/"
        }
      },
      "outputs": [
        {
          "output_type": "stream",
          "name": "stdout",
          "text": [
            "1\n",
            "Yes\n"
          ]
        }
      ],
      "source": [
        "x = int(input())\n",
        "while x > 0:\n",
        "    print ('Yes')\n",
        "    break\n",
        "\n",
        "\n",
        "\n"
      ]
    },
    {
      "cell_type": "code",
      "execution_count": null,
      "metadata": {
        "id": "O_JrrY2tzHW9",
        "outputId": "1bf7f271-23a9-4335-9900-ab818fa6a909",
        "colab": {
          "base_uri": "https://localhost:8080/"
        }
      },
      "outputs": [
        {
          "name": "stdout",
          "output_type": "stream",
          "text": [
            "1\n",
            "2\n",
            "10\n"
          ]
        }
      ],
      "source": [
        "while True:\n",
        "    x = input()\n",
        "    if x == '10':\n",
        "        break"
      ]
    },
    {
      "cell_type": "markdown",
      "metadata": {
        "id": "3bsMVI0LzHW9"
      },
      "source": [
        "## Task 2\n",
        "prompt the user for a number (x) (in a loop) and execute the loop till p == x. When p==x, print \"Bingo!\" and exit the loop."
      ]
    },
    {
      "cell_type": "code",
      "execution_count": null,
      "metadata": {
        "id": "AFKx6GzbzHW-",
        "colab": {
          "base_uri": "https://localhost:8080/"
        },
        "outputId": "16c3f7c7-4a26-4119-8542-ca73f58a53dc"
      },
      "outputs": [
        {
          "output_type": "stream",
          "name": "stdout",
          "text": [
            "5\n",
            "1\n",
            "Bingo!\n"
          ]
        }
      ],
      "source": [
        "p=1\n",
        "while True:\n",
        "  x=int(input())\n",
        "  if p==x:\n",
        "    print('Bingo!')\n",
        "    break\n",
        "\n",
        "\n",
        "\n"
      ]
    },
    {
      "cell_type": "markdown",
      "metadata": {
        "id": "BR6vik65zHW-"
      },
      "source": [
        "If you want to finish the current iteration and immediately jump to the next iteration you can use ***the continue\n",
        "statement*** to skip to the next iteration without finishing the body of the loop for the current iteration."
      ]
    },
    {
      "cell_type": "code",
      "execution_count": null,
      "metadata": {
        "id": "1T2REUKnzHW-",
        "outputId": "4d8a0ce9-ae66-4ff5-d435-2cdb6c1067e5",
        "colab": {
          "base_uri": "https://localhost:8080/"
        }
      },
      "outputs": [
        {
          "output_type": "stream",
          "name": "stdout",
          "text": [
            "2\n",
            "2\n"
          ]
        }
      ],
      "source": [
        "while True:\n",
        "    x = int(input())\n",
        "    if x <=0:\n",
        "        continue\n",
        "    if x > 0:\n",
        "        break\n",
        "print(x)\n"
      ]
    },
    {
      "cell_type": "code",
      "source": [
        "while True:\n",
        "    x = int(input())\n",
        "    if x <=0:\n",
        "        continue\n",
        "    else:\n",
        "        break\n",
        "print(x)"
      ],
      "metadata": {
        "id": "YMfyJ4YUKf1N"
      },
      "execution_count": null,
      "outputs": []
    },
    {
      "cell_type": "code",
      "execution_count": null,
      "metadata": {
        "id": "KxlS67p9zHW_",
        "outputId": "2da4dad9-ae63-4cb9-855e-c42085404a68",
        "colab": {
          "base_uri": "https://localhost:8080/"
        }
      },
      "outputs": [
        {
          "output_type": "stream",
          "name": "stdout",
          "text": [
            "-1\n",
            "0\n",
            "1\n",
            "1\n"
          ]
        }
      ],
      "source": [
        "while True:\n",
        "    x = int(input())\n",
        "    if x <=0:\n",
        "        continue\n",
        "    if x > 0:\n",
        "        print(x)\n",
        "    break\n",
        "\n"
      ]
    },
    {
      "cell_type": "markdown",
      "metadata": {
        "id": "F5SG0DsfzHW_"
      },
      "source": [
        "### Task 3\n",
        "Given a non-negative integer as an input (a number of sheep), return a string with a murmur: \"1 sheep...2 sheep...3 sheep...\". Input will always be valid, i.e. no negative integers.\n",
        "\n",
        "input(3),\n",
        "\n",
        "output:\n",
        "\n",
        "1 sheep...\n",
        "\n",
        "2 sheep...\n",
        "\n",
        "3 sheep...\n"
      ]
    },
    {
      "cell_type": "code",
      "execution_count": null,
      "metadata": {
        "id": "C-SB7yB2zHW_",
        "colab": {
          "base_uri": "https://localhost:8080/"
        },
        "outputId": "a952baff-653f-4485-8486-44e9e2e5cbee"
      },
      "outputs": [
        {
          "output_type": "stream",
          "name": "stdout",
          "text": [
            "3\n",
            "1 sheep...\n",
            "2 sheep...\n",
            "3 sheep...\n"
          ]
        }
      ],
      "source": [
        "n=int(input())\n",
        "i=1\n",
        "while i<=n:\n",
        "  print(i,'sheep...')\n",
        "  i+=1"
      ]
    },
    {
      "cell_type": "markdown",
      "metadata": {
        "id": "KMunxN1HzHW_"
      },
      "source": [
        "### Task 4\n",
        "\n",
        "Write a program that finds the summation of every number from 1 to num. The number will always be a positive integer greater than 0.\n",
        "\n",
        "For example:\n",
        "\n",
        "summation(2) -> 3\n",
        "(1 + 2)\n",
        "\n",
        "summation(8) -> 36\n",
        "(1 + 2 + 3 + 4 + 5 + 6 + 7 + 8)\n"
      ]
    },
    {
      "cell_type": "code",
      "execution_count": null,
      "metadata": {
        "id": "s3VNLVh1zHXA",
        "colab": {
          "base_uri": "https://localhost:8080/"
        },
        "outputId": "54c36c5b-98fe-4405-9c83-0548d992f568"
      },
      "outputs": [
        {
          "output_type": "stream",
          "name": "stdout",
          "text": [
            "enter a number > 0:  3\n",
            "6\n"
          ]
        }
      ],
      "source": [
        "num = int(input('enter a number > 0:  '))\n",
        "sum = 0\n",
        "i = 1\n",
        "while\n"
      ]
    },
    {
      "cell_type": "markdown",
      "metadata": {
        "id": "AKbbT8s8zHXA"
      },
      "source": [
        "# Task 5\n",
        "\n",
        "Prompt the user for 5 integers each on a new line ( use 'while loop') and then print the sum of these integers ."
      ]
    },
    {
      "cell_type": "code",
      "execution_count": null,
      "metadata": {
        "id": "wlgE6gV3zHXA",
        "colab": {
          "base_uri": "https://localhost:8080/"
        },
        "outputId": "a6b1716e-8c33-49df-f230-280c1042e559"
      },
      "outputs": [
        {
          "output_type": "stream",
          "name": "stdout",
          "text": [
            "1\n",
            "2\n",
            "3\n",
            "4\n",
            "5\n",
            "15\n"
          ]
        }
      ],
      "source": [
        "total = 0\n",
        "i = 1\n",
        "while\n",
        "\n"
      ]
    },
    {
      "cell_type": "markdown",
      "source": [
        "**Task 6**\n",
        "\n",
        "Find the sum of all even numbers from 2 to 100 inclusive."
      ],
      "metadata": {
        "id": "NNB8XnREO548"
      }
    },
    {
      "cell_type": "code",
      "source": [],
      "metadata": {
        "colab": {
          "base_uri": "https://localhost:8080/"
        },
        "id": "CHiu7FUHl56C",
        "outputId": "441989c3-4987-4330-a612-2213958ff62b"
      },
      "execution_count": null,
      "outputs": [
        {
          "output_type": "stream",
          "name": "stdout",
          "text": [
            "2550\n"
          ]
        }
      ]
    },
    {
      "cell_type": "markdown",
      "source": [
        "**Task 7 **\n",
        "\n",
        "How many iterations does the following loops have?\n",
        "\n",
        "Loop 1\n",
        "\n",
        "i=0\n",
        "\n",
        "while i<5:\n",
        "\n",
        "i=i+1\n",
        "\n",
        "print ('Hello\",i)\n",
        "\n",
        "Loop 2\n",
        "\n",
        "i=0\n",
        "\n",
        "while i<5:\n",
        "\n",
        "i=i+2\n",
        "\n",
        "print ('Hello\",i)\n",
        "\n",
        "Loop 3\n",
        "\n",
        "i=0\n",
        "\n",
        "while i>5:\n",
        "\n",
        "i=i+1\n",
        "\n",
        "print ('Hello\",i)\n",
        "\n",
        "Loop 4\n",
        "\n",
        "i=10\n",
        "\n",
        "while i>5:\n",
        "\n",
        "i=i+1\n",
        "\n",
        "print ('Hello\",i)"
      ],
      "metadata": {
        "id": "WgKgQwSTRPfe"
      }
    },
    {
      "cell_type": "code",
      "source": [
        "i=0\n",
        "while i<5:\n",
        "  i=i+1\n",
        "  print (i)"
      ],
      "metadata": {
        "id": "ymD-ZZ3Jmzrz",
        "colab": {
          "base_uri": "https://localhost:8080/"
        },
        "outputId": "157c98f5-46d1-4368-bf81-18c38ccb15e6"
      },
      "execution_count": null,
      "outputs": [
        {
          "output_type": "stream",
          "name": "stdout",
          "text": [
            "1\n",
            "2\n",
            "3\n",
            "4\n",
            "5\n"
          ]
        }
      ]
    },
    {
      "cell_type": "markdown",
      "source": [
        "**Task 8**\n",
        "\n",
        "Find the sum of odd numbers from 1 to N, using the while loop. Enter the natural number N, output the sum.\n",
        "\n",
        ".... i=1\n",
        "\n",
        "while i<=N:\n",
        "\n",
        "sum = sum+i\n",
        "\n",
        "i=...\n",
        "\n",
        "....."
      ],
      "metadata": {
        "id": "1hp_51xjRZFE"
      }
    },
    {
      "cell_type": "code",
      "source": [],
      "metadata": {
        "id": "SeeK-hWhRl1F",
        "colab": {
          "base_uri": "https://localhost:8080/"
        },
        "outputId": "d4815973-22d0-4697-d779-8ba925028a4a"
      },
      "execution_count": null,
      "outputs": [
        {
          "output_type": "stream",
          "name": "stdout",
          "text": [
            "5\n",
            "9\n"
          ]
        }
      ]
    },
    {
      "cell_type": "markdown",
      "source": [
        "**Task 9**\n",
        "\n",
        "Find the product (*) of all the natural numbers entered. To finish the loop - enter \"0\"."
      ],
      "metadata": {
        "id": "mYtFV1_wRwke"
      }
    },
    {
      "cell_type": "code",
      "source": [],
      "metadata": {
        "colab": {
          "base_uri": "https://localhost:8080/"
        },
        "id": "Ipyk6Zyzq0tt",
        "outputId": "c53a62b2-255c-451f-e882-04411d24c99b"
      },
      "execution_count": null,
      "outputs": [
        {
          "output_type": "stream",
          "name": "stdout",
          "text": [
            "3\n",
            "3\n",
            "3\n",
            "0\n",
            "27\n"
          ]
        }
      ]
    },
    {
      "cell_type": "markdown",
      "source": [
        "**Task 10**\n",
        "\n",
        "Prompt the user for a number (x) (in a loop) and execute the loop till p == x. When p==x, print \"Bingo!\" and exit the loop.\n",
        "\n",
        "Input:\n",
        "p=5"
      ],
      "metadata": {
        "id": "EMp2fD2DR6MS"
      }
    },
    {
      "cell_type": "code",
      "source": [],
      "metadata": {
        "colab": {
          "base_uri": "https://localhost:8080/"
        },
        "id": "GSndyHuZux8g",
        "outputId": "8052dba9-e14e-4996-fd83-845fc205f627"
      },
      "execution_count": null,
      "outputs": [
        {
          "output_type": "stream",
          "name": "stdout",
          "text": [
            "1\n",
            "2\n",
            "3\n",
            "4\n",
            "5\n",
            "Bingo!\n"
          ]
        }
      ]
    }
  ],
  "metadata": {
    "kernelspec": {
      "display_name": "Python 3",
      "language": "python",
      "name": "python3"
    },
    "language_info": {
      "codemirror_mode": {
        "name": "ipython",
        "version": 3
      },
      "file_extension": ".py",
      "mimetype": "text/x-python",
      "name": "python",
      "nbconvert_exporter": "python",
      "pygments_lexer": "ipython3",
      "version": "3.8.3"
    },
    "colab": {
      "provenance": []
    }
  },
  "nbformat": 4,
  "nbformat_minor": 0
}